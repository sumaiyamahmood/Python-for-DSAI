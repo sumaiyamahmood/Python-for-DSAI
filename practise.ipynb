{
 "cells": [
  {
   "cell_type": "code",
   "execution_count": 1,
   "id": "de6f903c-d50c-499b-ad0c-c70eb48a7059",
   "metadata": {},
   "outputs": [
    {
     "data": {
      "text/plain": [
       "True"
      ]
     },
     "execution_count": 1,
     "metadata": {},
     "output_type": "execute_result"
    }
   ],
   "source": [
    "first_name = 'Sumaiya'\n",
    "full_name = 'Sumaiya Khan'\n",
    "first_name in full_name"
   ]
  },
  {
   "cell_type": "code",
   "execution_count": 3,
   "id": "e6bd1d43-a0df-4cd4-b05c-d0a3d7af9e31",
   "metadata": {},
   "outputs": [
    {
     "data": {
      "text/plain": [
       "False"
      ]
     },
     "execution_count": 3,
     "metadata": {},
     "output_type": "execute_result"
    }
   ],
   "source": [
    "first_name not in full_name"
   ]
  },
  {
   "cell_type": "markdown",
   "id": "fd9892af-9d5a-456d-9d45-42318c205d60",
   "metadata": {},
   "source": [
    "## operators in python"
   ]
  },
  {
   "cell_type": "markdown",
   "id": "7d468c22-9435-4a77-b0bc-6127968f5063",
   "metadata": {},
   "source": [
    "# relational operators"
   ]
  },
  {
   "cell_type": "code",
   "execution_count": 7,
   "id": "222e1b23-4bbf-4302-9901-eb9b03bde472",
   "metadata": {},
   "outputs": [
    {
     "name": "stdout",
     "output_type": "stream",
     "text": [
      "<class 'list'>\n"
     ]
    }
   ],
   "source": [
    "fruits =[]\n",
    "print(type(fruits))"
   ]
  },
  {
   "cell_type": "code",
   "execution_count": 23,
   "id": "a6283f0d-db39-41e5-b60c-c48e4ef0d60b",
   "metadata": {},
   "outputs": [
    {
     "name": "stdout",
     "output_type": "stream",
     "text": [
      "5\n"
     ]
    }
   ],
   "source": [
    "my_list = [1, 2, 3, 4]\n",
    "my_list.append([5, 6])\n",
    "print(len(my_list))"
   ]
  },
  {
   "cell_type": "code",
   "execution_count": 25,
   "id": "02b11aa0-cfa4-49aa-86f8-604b3facd13e",
   "metadata": {},
   "outputs": [
    {
     "name": "stdout",
     "output_type": "stream",
     "text": [
      "4\n"
     ]
    }
   ],
   "source": [
    "my_set = {1, 2, 2, 3, 4}\n",
    "print(len(my_set))"
   ]
  },
  {
   "cell_type": "code",
   "execution_count": 5,
   "id": "adbfaedf-cdf2-4a88-8515-e23affb69cb6",
   "metadata": {},
   "outputs": [
    {
     "name": "stdout",
     "output_type": "stream",
     "text": [
      "Hello\n"
     ]
    }
   ],
   "source": [
    "x = \"Hello\"\n",
    "y = x\n",
    "y += \" World\"\n",
    "print(x)"
   ]
  },
  {
   "cell_type": "code",
   "execution_count": 9,
   "id": "97478a3d-3b19-49b6-98a2-0503417122da",
   "metadata": {},
   "outputs": [
    {
     "name": "stdout",
     "output_type": "stream",
     "text": [
      "{1, 2, 3, 4, 5}\n"
     ]
    }
   ],
   "source": [
    "set_a = {1, 2, 3}\n",
    "set_b = {3, 4, 5}\n",
    "result = set_a.union(set_b)\n",
    "print(result)"
   ]
  },
  {
   "cell_type": "code",
   "execution_count": 13,
   "id": "ebb26a0c-d588-44d4-b055-9e670cc80c84",
   "metadata": {},
   "outputs": [
    {
     "name": "stdout",
     "output_type": "stream",
     "text": [
      "[19, 22, 19, 24, 20, 25, 26, 24, 25, 24]\n"
     ]
    }
   ],
   "source": [
    "ages = [19, 22, 19, 24, 20, 25, 26, 24, 25, 24]\n",
    "print(ages)"
   ]
  },
  {
   "cell_type": "code",
   "execution_count": 17,
   "id": "eab65ae0-e223-412d-b46d-ba6b7ca1962e",
   "metadata": {},
   "outputs": [
    {
     "name": "stdout",
     "output_type": "stream",
     "text": [
      "[19, 19, 20, 22, 24, 24, 24, 25, 25, 26]\n"
     ]
    }
   ],
   "source": [
    "print(sorted(ages))"
   ]
  },
  {
   "cell_type": "code",
   "execution_count": 19,
   "id": "881a23ab-ea05-4f77-abd7-941df91f1e2a",
   "metadata": {},
   "outputs": [
    {
     "name": "stdout",
     "output_type": "stream",
     "text": [
      "19\n",
      "26\n"
     ]
    }
   ],
   "source": [
    "print(min(ages))\n",
    "print(max(ages))"
   ]
  },
  {
   "cell_type": "code",
   "execution_count": 31,
   "id": "8a72202e-931d-4e9c-9244-9a20fe24f5d7",
   "metadata": {},
   "outputs": [],
   "source": [
    "ages.append(19)\n",
    "ages.append(26)"
   ]
  },
  {
   "cell_type": "code",
   "execution_count": 35,
   "id": "cd68abf0-bc0c-4864-8a42-adf69e649d96",
   "metadata": {},
   "outputs": [
    {
     "name": "stdout",
     "output_type": "stream",
     "text": [
      "[19, 19, 20, 22, 24, 24, 24, 25, 25, 26, 19, 19, 26]\n"
     ]
    },
    {
     "data": {
      "text/plain": [
       "13"
      ]
     },
     "execution_count": 35,
     "metadata": {},
     "output_type": "execute_result"
    }
   ],
   "source": [
    "print(ages)\n",
    "len(ages)\n"
   ]
  },
  {
   "cell_type": "code",
   "execution_count": 43,
   "id": "a0fe2b2b-8f70-4026-829f-bca659bed77e",
   "metadata": {},
   "outputs": [
    {
     "name": "stdout",
     "output_type": "stream",
     "text": [
      "the average age is: 22.46\n"
     ]
    }
   ],
   "source": [
    "sum1=sum(ages)\n",
    "average_age = sum1/13\n",
    "print('the average age is:',round(average_age,2))"
   ]
  },
  {
   "cell_type": "code",
   "execution_count": 45,
   "id": "d6ec8653-0258-4fcc-a6a9-6eb46a2336a2",
   "metadata": {},
   "outputs": [
    {
     "data": {
      "text/plain": [
       "292"
      ]
     },
     "execution_count": 45,
     "metadata": {},
     "output_type": "execute_result"
    }
   ],
   "source": [
    "sum(ages)"
   ]
  },
  {
   "cell_type": "code",
   "execution_count": 3,
   "id": "5b297792-d558-4d2e-9ca9-e05f42229b74",
   "metadata": {},
   "outputs": [
    {
     "name": "stdout",
     "output_type": "stream",
     "text": [
      "{1, 2, 3, 4, 5}\n",
      "{1, 2, 3}\n",
      "{3, 4, 5}\n"
     ]
    }
   ],
   "source": [
    "set_a = {1, 2, 3}\n",
    "set_b = {3, 4, 5}\n",
    "result = set_a.union(set_b)\n",
    "print(result)\n",
    "print(set_a)\n",
    "print(set_b)"
   ]
  },
  {
   "cell_type": "code",
   "execution_count": 5,
   "id": "80fc13fb-c6ee-4dcb-a315-ea72462f5d78",
   "metadata": {},
   "outputs": [
    {
     "ename": "NameError",
     "evalue": "name 'ages' is not defined",
     "output_type": "error",
     "traceback": [
      "\u001b[1;31m---------------------------------------------------------------------------\u001b[0m",
      "\u001b[1;31mNameError\u001b[0m                                 Traceback (most recent call last)",
      "Cell \u001b[1;32mIn[5], line 1\u001b[0m\n\u001b[1;32m----> 1\u001b[0m \u001b[38;5;28msum\u001b[39m(ages)\n",
      "\u001b[1;31mNameError\u001b[0m: name 'ages' is not defined"
     ]
    }
   ],
   "source": [
    "sum(ages)\n"
   ]
  },
  {
   "cell_type": "code",
   "execution_count": 7,
   "id": "8e62950e-b2f6-4b6c-b083-c37899c77b44",
   "metadata": {},
   "outputs": [
    {
     "name": "stdout",
     "output_type": "stream",
     "text": [
      "[19, 22, 19, 24, 20, 25, 26, 24, 25, 24]\n"
     ]
    }
   ],
   "source": [
    "ages = [19, 22, 19, 24, 20, 25, 26, 24, 25, 24]\n",
    "print(ages)"
   ]
  },
  {
   "cell_type": "code",
   "execution_count": 9,
   "id": "67724ab0-7bb7-46b2-9179-822774b8b0e0",
   "metadata": {},
   "outputs": [
    {
     "name": "stdout",
     "output_type": "stream",
     "text": [
      "22.8\n"
     ]
    }
   ],
   "source": [
    "average_age = sum(ages) / len(ages)\n",
    "print(average_age)"
   ]
  },
  {
   "cell_type": "code",
   "execution_count": null,
   "id": "371be275-a98c-4738-81d8-0e474ff973d0",
   "metadata": {},
   "outputs": [],
   "source": []
  }
 ],
 "metadata": {
  "kernelspec": {
   "display_name": "Python 3 (ipykernel)",
   "language": "python",
   "name": "python3"
  },
  "language_info": {
   "codemirror_mode": {
    "name": "ipython",
    "version": 3
   },
   "file_extension": ".py",
   "mimetype": "text/x-python",
   "name": "python",
   "nbconvert_exporter": "python",
   "pygments_lexer": "ipython3",
   "version": "3.12.4"
  }
 },
 "nbformat": 4,
 "nbformat_minor": 5
}

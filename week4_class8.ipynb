{
 "cells": [
  {
   "cell_type": "code",
   "execution_count": 1,
   "id": "07003c22-116a-4471-8e6f-42f840490929",
   "metadata": {},
   "outputs": [
    {
     "name": "stdin",
     "output_type": "stream",
     "text": [
      "enter your name: ahmed\n"
     ]
    },
    {
     "name": "stdout",
     "output_type": "stream",
     "text": [
      "your name is okay\n"
     ]
    }
   ],
   "source": [
    "name = input('enter your name:')\n",
    "if len(name)>10:\n",
    "    print('the length of your name is too long')\n",
    "\n",
    "elif len(name)==8:\n",
    "    print('your name is Good')\n",
    "\n",
    "else:\n",
    "    print('your name is okay')\n"
   ]
  },
  {
   "cell_type": "code",
   "execution_count": null,
   "id": "614f17ad-dfae-48b7-bee5-ee4dd0fc98b0",
   "metadata": {},
   "outputs": [],
   "source": [
    "number1 = float(input('enter number1:'))\n",
    "number2 = float(input('enter number2:'))\n",
    "number3 = float(input('enter number3:'))\n",
    "\n",
    "if number1>number2 and number1>number3:\n",
    "    print('number 1 is largest')\n",
    "\n",
    "elif number2>number3:\n",
    "    print('number 2 is largest')\n",
    "\n",
    "else:\n",
    "    print('number 3 is largest')\n",
    "\n"
   ]
  },
  {
   "cell_type": "code",
   "execution_count": 11,
   "id": "b03418e7-6bf5-4b30-a7f5-e58b6ec89a31",
   "metadata": {},
   "outputs": [
    {
     "name": "stdin",
     "output_type": "stream",
     "text": [
      "Enter your number: k\n"
     ]
    },
    {
     "name": "stdout",
     "output_type": "stream",
     "text": [
      "enter a valid digit\n"
     ]
    }
   ],
   "source": [
    "number = input('Enter your number:')\n",
    "\n",
    "if number.replace('.','').replace('-','').replace('+','').isdigit():\n",
    "\n",
    "    num = float(number)\n",
    "    if num>0:\n",
    "        print('number is positive')\n",
    "    elif num==0:\n",
    "        print('number is 0')\n",
    "    else:\n",
    "        print('number is negative')\n",
    "\n",
    "else:\n",
    "    print('enter a valid digit')\n",
    "\n",
    "\n",
    "\n"
   ]
  },
  {
   "cell_type": "code",
   "execution_count": 21,
   "id": "f0f1872a-1186-4899-8a97-4951d5238707",
   "metadata": {},
   "outputs": [
    {
     "name": "stdin",
     "output_type": "stream",
     "text": [
      "enter your email:  abc@gmail.com\n",
      "enter your password: 12345\n"
     ]
    },
    {
     "name": "stdout",
     "output_type": "stream",
     "text": [
      "welcome to dashboard\n"
     ]
    }
   ],
   "source": [
    "# username and password\n",
    "# username = your name\n",
    "# password = 12345\n",
    "\n",
    "username = input('enter your email: ')\n",
    "password = input('enter your password:')\n",
    "\n",
    "if username == 'abc@gmail.com' and password == '12345':\n",
    "    print('welcome to dashboard')\n",
    "\n",
    "else:\n",
    "    print('try again')\n"
   ]
  },
  {
   "cell_type": "code",
   "execution_count": null,
   "id": "69abc7d7-c422-4f11-b809-11cc442ec006",
   "metadata": {},
   "outputs": [],
   "source": []
  }
 ],
 "metadata": {
  "kernelspec": {
   "display_name": "Python 3 (ipykernel)",
   "language": "python",
   "name": "python3"
  },
  "language_info": {
   "codemirror_mode": {
    "name": "ipython",
    "version": 3
   },
   "file_extension": ".py",
   "mimetype": "text/x-python",
   "name": "python",
   "nbconvert_exporter": "python",
   "pygments_lexer": "ipython3",
   "version": "3.12.4"
  }
 },
 "nbformat": 4,
 "nbformat_minor": 5
}

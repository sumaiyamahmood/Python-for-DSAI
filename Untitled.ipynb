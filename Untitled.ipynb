{
 "cells": [
  {
   "cell_type": "code",
   "execution_count": 1,
   "id": "78b59754-3074-4d84-ae17-fd095ee79314",
   "metadata": {},
   "outputs": [
    {
     "name": "stdout",
     "output_type": "stream",
     "text": [
      "[]\n"
     ]
    }
   ],
   "source": [
    "fruits = []\n",
    "print(fruits)\n"
   ]
  },
  {
   "cell_type": "code",
   "execution_count": 3,
   "id": "5e56cfa0-dc4a-48a5-93d5-bac269eb61be",
   "metadata": {},
   "outputs": [
    {
     "name": "stdout",
     "output_type": "stream",
     "text": [
      "['Mango', 'Banana', 'Grapes', 'Avacado', 'Berry']\n"
     ]
    }
   ],
   "source": [
    "fruits = ['Mango','Banana','Grapes','Avacado','Berry']\n",
    "print(fruits)"
   ]
  },
  {
   "cell_type": "code",
   "execution_count": 5,
   "id": "c2ff3815-5ca7-4790-b933-1db40e0f8039",
   "metadata": {},
   "outputs": [
    {
     "name": "stdout",
     "output_type": "stream",
     "text": [
      "['Mango', 'Banana', 'Grapes', 'Avacado', 'Berry', 'Apple', 'Dragon fruit']\n"
     ]
    }
   ],
   "source": [
    "fruits.append('Apple')\n",
    "fruits.append('Dragon fruit')\n",
    "print(fruits)"
   ]
  },
  {
   "cell_type": "code",
   "execution_count": 7,
   "id": "2cfe78f3-9fe2-4596-8a79-b3ace22f9467",
   "metadata": {},
   "outputs": [
    {
     "name": "stdout",
     "output_type": "stream",
     "text": [
      "Mango\n"
     ]
    }
   ],
   "source": [
    "#indexing\n",
    "print(fruits[0])\n"
   ]
  },
  {
   "cell_type": "code",
   "execution_count": 9,
   "id": "374b02cd-01b5-417d-8ef7-9321df9fad19",
   "metadata": {},
   "outputs": [
    {
     "name": "stdout",
     "output_type": "stream",
     "text": [
      "Berry\n"
     ]
    }
   ],
   "source": [
    "print(fruits[4])"
   ]
  },
  {
   "cell_type": "code",
   "execution_count": 11,
   "id": "b44e4f7c-1fdc-44cf-aadc-fa095ce56edf",
   "metadata": {},
   "outputs": [
    {
     "name": "stdout",
     "output_type": "stream",
     "text": [
      "['Mango', 'Banana', 'Grapes', 'Avacado', 'Berry', 'Apple', 'Dragon fruit']\n"
     ]
    }
   ],
   "source": [
    "print(fruits[ : ])"
   ]
  },
  {
   "cell_type": "code",
   "execution_count": 13,
   "id": "c55611c8-da92-4fe4-800a-48e1398e73f9",
   "metadata": {},
   "outputs": [
    {
     "name": "stdout",
     "output_type": "stream",
     "text": [
      "['Mango', 'Banana', 'Grapes', 'Avacado']\n"
     ]
    }
   ],
   "source": [
    "print(fruits[0:4])\n"
   ]
  },
  {
   "cell_type": "code",
   "execution_count": 15,
   "id": "6de44c44-8b16-4760-80ec-1bee583c3c39",
   "metadata": {},
   "outputs": [
    {
     "name": "stdout",
     "output_type": "stream",
     "text": [
      "['Banana', 'Grapes', 'Avacado', 'Berry', 'Apple']\n"
     ]
    }
   ],
   "source": [
    "print(fruits[1:6])"
   ]
  },
  {
   "cell_type": "code",
   "execution_count": null,
   "id": "2aab2f2f-b7af-42d6-8fa3-3edd0fe4fafc",
   "metadata": {},
   "outputs": [],
   "source": []
  }
 ],
 "metadata": {
  "kernelspec": {
   "display_name": "Python 3 (ipykernel)",
   "language": "python",
   "name": "python3"
  },
  "language_info": {
   "codemirror_mode": {
    "name": "ipython",
    "version": 3
   },
   "file_extension": ".py",
   "mimetype": "text/x-python",
   "name": "python",
   "nbconvert_exporter": "python",
   "pygments_lexer": "ipython3",
   "version": "3.12.4"
  }
 },
 "nbformat": 4,
 "nbformat_minor": 5
}

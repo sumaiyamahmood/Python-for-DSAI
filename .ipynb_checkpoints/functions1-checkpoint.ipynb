{
 "cells": [
  {
   "cell_type": "code",
   "execution_count": 3,
   "id": "d2c96dc3-9be8-44a1-a1d5-665a1f929447",
   "metadata": {},
   "outputs": [
    {
     "name": "stdout",
     "output_type": "stream",
     "text": [
      "Apple\n",
      "Dinosaur\n",
      "23\n",
      "['Milk', 'Eggs', 'Yogurt']\n"
     ]
    }
   ],
   "source": [
    "x = ['Apple','Dinosaur',23,['Milk','Eggs','Yogurt']]\n",
    "for i in x:\n",
    "    print(i)"
   ]
  },
  {
   "cell_type": "code",
   "execution_count": 7,
   "id": "04373db6-f2cf-4cfc-b0a2-92d965b47b98",
   "metadata": {},
   "outputs": [
    {
     "name": "stdin",
     "output_type": "stream",
     "text": [
      "Enter number of rows for pattern: 5\n"
     ]
    },
    {
     "name": "stdout",
     "output_type": "stream",
     "text": [
      "1\n",
      "12\n",
      "123\n",
      "1234\n",
      "12345\n"
     ]
    }
   ],
   "source": [
    "rows = int(input('Enter number of rows for pattern:'))\n",
    "for i in range(1,rows+1):\n",
    "    for j in range(1,i+1):\n",
    "        print(j,end='')  # end is a method which makes it print liks a pattern\n",
    "\n",
    "    print()\n",
    "    "
   ]
  },
  {
   "cell_type": "code",
   "execution_count": 9,
   "id": "a0d92313-fd00-4d9a-9667-757ea7e8acdc",
   "metadata": {},
   "outputs": [
    {
     "name": "stdin",
     "output_type": "stream",
     "text": [
      "enter number of rows 5\n"
     ]
    },
    {
     "name": "stdout",
     "output_type": "stream",
     "text": [
      "1\n",
      "121\n",
      "12321\n",
      "1234321\n",
      "123454321\n"
     ]
    }
   ],
   "source": [
    "#pattern 2\n",
    "#1\n",
    "#121\n",
    "#12321\n",
    "#1234321\n",
    "\n",
    "rows = int(input('enter number of rows'))\n",
    "for i in range(1,rows+1):\n",
    "  for j in range(1,i+1):\n",
    "    print(j,end='')\n",
    "  for k in range(i-1,0,-1):        # here -1 represents the jump and (-) tells to print the reverse order\n",
    "    print(k,end='')\n",
    "\n",
    "  print()"
   ]
  },
  {
   "cell_type": "markdown",
   "id": "75a4d66c-d610-433a-bdd6-7b4ac2027769",
   "metadata": {},
   "source": [
    "## FUNCTION IN PYTHON"
   ]
  },
  {
   "cell_type": "code",
   "execution_count": 20,
   "id": "0f5738e7-7b6f-48f8-87b1-64ea050f95d1",
   "metadata": {},
   "outputs": [],
   "source": [
    "def welcome():\n",
    "    print('Good Morning Ali,Have a Nice day')\n",
    "    "
   ]
  },
  {
   "cell_type": "code",
   "execution_count": 23,
   "id": "c68b38a0-de89-4d97-9bdf-2d2175b84315",
   "metadata": {},
   "outputs": [
    {
     "name": "stdout",
     "output_type": "stream",
     "text": [
      "Good Morning Ali,Have a Nice day\n"
     ]
    }
   ],
   "source": [
    "welcome()"
   ]
  },
  {
   "cell_type": "code",
   "execution_count": 25,
   "id": "ed2beb69-74c6-46da-acee-93b9f614e859",
   "metadata": {},
   "outputs": [
    {
     "name": "stdout",
     "output_type": "stream",
     "text": [
      "Good Morning Sumaiya Have a Nice day\n"
     ]
    }
   ],
   "source": [
    "def welcome(name):\n",
    "    print('Good Morning',name,'Have a Nice day')\n",
    "\n",
    "welcome('Sumaiya')\n",
    "    "
   ]
  },
  {
   "cell_type": "code",
   "execution_count": 27,
   "id": "fd6c9205-10fa-4cbc-9af8-737d83b0d54f",
   "metadata": {},
   "outputs": [
    {
     "name": "stdin",
     "output_type": "stream",
     "text": [
      "Enter your name: warda\n"
     ]
    },
    {
     "name": "stdout",
     "output_type": "stream",
     "text": [
      "Good Morning warda Have a Nice Day\n"
     ]
    }
   ],
   "source": [
    "def welcome(name):\n",
    "    print('Good Morning',name,'Have a Nice Day')\n",
    "name= input('Enter your name:')\n",
    "welcome(name)"
   ]
  },
  {
   "cell_type": "code",
   "execution_count": 39,
   "id": "50070942-a4ae-40c3-8c6d-1b884c8206f2",
   "metadata": {},
   "outputs": [
    {
     "name": "stdin",
     "output_type": "stream",
     "text": [
      "Enter number 1: 5\n",
      "Enter number 2: 5\n"
     ]
    },
    {
     "name": "stdout",
     "output_type": "stream",
     "text": [
      "The sum of num1 and num2 is: 10\n"
     ]
    }
   ],
   "source": [
    "def add(num1,num2):\n",
    "    print('The sum of num1 and num2 is:',num1+num2)\n",
    "\n",
    "num1= int(input('Enter number 1:'))\n",
    "num2=int(input('Enter number 2:'))\n",
    "\n",
    "add(num1,num2)\n",
    "          "
   ]
  },
  {
   "cell_type": "code",
   "execution_count": 45,
   "id": "ac0346a4-36f3-4d6b-bd30-e39c4ad82a24",
   "metadata": {},
   "outputs": [
    {
     "name": "stdin",
     "output_type": "stream",
     "text": [
      "Enter number1: 10\n",
      "Enter number2: 5\n"
     ]
    },
    {
     "data": {
      "text/plain": [
       "15"
      ]
     },
     "execution_count": 45,
     "metadata": {},
     "output_type": "execute_result"
    }
   ],
   "source": [
    "def add():\n",
    "    nm1=int(input('Enter number1:'))\n",
    "    nm2=int(input('Enter number2:'))\n",
    "    sum=nm1+nm2\n",
    "    return sum\n",
    "\n",
    "add()"
   ]
  },
  {
   "cell_type": "code",
   "execution_count": 43,
   "id": "e17893bc-5ccd-4e4a-b74e-c59490010516",
   "metadata": {},
   "outputs": [
    {
     "name": "stdin",
     "output_type": "stream",
     "text": [
      "enter any number: 22\n"
     ]
    },
    {
     "name": "stdout",
     "output_type": "stream",
     "text": [
      "Num is even 22\n"
     ]
    }
   ],
   "source": [
    "# make a function to check if a number is even\n",
    "def num_even(num):\n",
    "    if num%2==0:\n",
    "        print('Num is even',num)\n",
    "    else:\n",
    "        print('Num is odd',num)\n",
    "\n",
    "num=int(input('enter any number:'))\n",
    "\n",
    "num_even(num)"
   ]
  },
  {
   "cell_type": "code",
   "execution_count": 53,
   "id": "6d758bfd-614d-4fe3-9fc8-53b79bceaad9",
   "metadata": {},
   "outputs": [
    {
     "name": "stdin",
     "output_type": "stream",
     "text": [
      "Enter radius of Circle: 5\n"
     ]
    },
    {
     "data": {
      "text/plain": [
       "(78.55, 31.419999999999998)"
      ]
     },
     "execution_count": 53,
     "metadata": {},
     "output_type": "execute_result"
    }
   ],
   "source": [
    "def circle(r):\n",
    "    pi=3.142\n",
    "    area= pi*r**2\n",
    "    circumference= 2*pi*r\n",
    "    return area,circumference\n",
    "\n",
    "radius=float(input('Enter radius of Circle:'))\n",
    "\n",
    "circle(radius)"
   ]
  },
  {
   "cell_type": "code",
   "execution_count": null,
   "id": "cfe6c943-775f-4c66-98c4-14f2927939bc",
   "metadata": {},
   "outputs": [],
   "source": []
  }
 ],
 "metadata": {
  "kernelspec": {
   "display_name": "Python 3 (ipykernel)",
   "language": "python",
   "name": "python3"
  },
  "language_info": {
   "codemirror_mode": {
    "name": "ipython",
    "version": 3
   },
   "file_extension": ".py",
   "mimetype": "text/x-python",
   "name": "python",
   "nbconvert_exporter": "python",
   "pygments_lexer": "ipython3",
   "version": "3.12.4"
  }
 },
 "nbformat": 4,
 "nbformat_minor": 5
}

{
 "cells": [
  {
   "cell_type": "markdown",
   "id": "f6e03b99-bb45-4078-ac1f-bf38cb11f2f8",
   "metadata": {},
   "source": [
    "## LIST"
   ]
  },
  {
   "cell_type": "code",
   "execution_count": 2,
   "id": "2440502e-270c-494c-9f4b-cd78be00628e",
   "metadata": {},
   "outputs": [
    {
     "name": "stdout",
     "output_type": "stream",
     "text": [
      "<class 'list'>\n"
     ]
    }
   ],
   "source": [
    "fruits = []\n",
    "print(type(fruits))"
   ]
  },
  {
   "cell_type": "code",
   "execution_count": 3,
   "id": "c7d2a0e5-0a74-4ff0-a30a-4f16df7d9094",
   "metadata": {},
   "outputs": [
    {
     "name": "stdout",
     "output_type": "stream",
     "text": [
      "['apples', 'mango', 'pear', 'banana', 'orange', 'grapes', 'avacado']\n"
     ]
    }
   ],
   "source": [
    "fruits =['apples','mango','pear','banana','orange','grapes','avacado']\n",
    "print(fruits)"
   ]
  },
  {
   "cell_type": "code",
   "execution_count": 4,
   "id": "783ab7dc-bb00-4654-b1b9-a01ebcd80427",
   "metadata": {},
   "outputs": [
    {
     "name": "stdout",
     "output_type": "stream",
     "text": [
      "7\n"
     ]
    }
   ],
   "source": [
    "print(len(fruits))"
   ]
  },
  {
   "cell_type": "code",
   "execution_count": 5,
   "id": "c8ef3f7a-2b59-42e1-a547-f398d56b5278",
   "metadata": {},
   "outputs": [
    {
     "name": "stdout",
     "output_type": "stream",
     "text": [
      "['apples', 'banana', 'avacado']\n"
     ]
    }
   ],
   "source": [
    "print(fruits[0::3])"
   ]
  },
  {
   "cell_type": "code",
   "execution_count": 6,
   "id": "f2d2055e-386e-4804-8f34-ca3a8dc24720",
   "metadata": {},
   "outputs": [
    {
     "name": "stdout",
     "output_type": "stream",
     "text": [
      "['Facebook', 'Google', 'Microsoft', 'Apple', 'IBM', 'Oracle', 'Amazon']\n",
      "The number of companies in the list are: 7\n"
     ]
    }
   ],
   "source": [
    "mixed_data_types = ['Sumaiya',29,'5ft 4 inches','Married','Gulistan-e-johar']\n",
    "IT_companies = ['Facebook','Google','Microsoft','Apple','IBM','Oracle','Amazon']\n",
    "print(IT_companies)\n",
    "print('The number of companies in the list are:',len(IT_companies))"
   ]
  },
  {
   "cell_type": "code",
   "execution_count": 7,
   "id": "470036fe-3333-4c8c-ad0a-335f91c6eb58",
   "metadata": {},
   "outputs": [
    {
     "name": "stdout",
     "output_type": "stream",
     "text": [
      "['Facebook', 'Apple', 'Amazon']\n"
     ]
    }
   ],
   "source": [
    "print(IT_companies[0::3])"
   ]
  },
  {
   "cell_type": "code",
   "execution_count": 8,
   "id": "3c52a24f-5396-4938-9139-784173a8f1e8",
   "metadata": {},
   "outputs": [
    {
     "name": "stdout",
     "output_type": "stream",
     "text": [
      "['Meta', 'Google', 'Microsoft', 'Apple', 'IBM', 'Oracle', 'Amazon']\n"
     ]
    }
   ],
   "source": [
    "IT_companies[0]='Meta'\n",
    "print(IT_companies)"
   ]
  },
  {
   "cell_type": "code",
   "execution_count": 9,
   "id": "2d8c1b9e-e611-4eef-860f-db54084a69f9",
   "metadata": {},
   "outputs": [],
   "source": [
    "IT_companies.append('Intel')"
   ]
  },
  {
   "cell_type": "code",
   "execution_count": 10,
   "id": "5d79e2bc-ef83-4c03-aebe-048c280cf6d5",
   "metadata": {},
   "outputs": [
    {
     "name": "stdout",
     "output_type": "stream",
     "text": [
      "['Meta', 'Google', 'Microsoft', 'Apple', 'Huawei', 'IBM', 'Oracle', 'Amazon', 'Intel']\n"
     ]
    }
   ],
   "source": [
    "IT_companies.insert(4,'Huawei')\n",
    "print(IT_companies)"
   ]
  },
  {
   "cell_type": "code",
   "execution_count": 11,
   "id": "13126e96-c7cd-4975-b08e-2cfb53a2946c",
   "metadata": {},
   "outputs": [
    {
     "name": "stdout",
     "output_type": "stream",
     "text": [
      "['Meta', 'GOOGLE', 'Microsoft', 'Apple', 'Huawei', 'IBM', 'Oracle', 'Amazon', 'Intel']\n"
     ]
    }
   ],
   "source": [
    "IT_companies[1] = IT_companies[1].upper()\n",
    "print(IT_companies)"
   ]
  },
  {
   "cell_type": "code",
   "execution_count": 12,
   "id": "4b750840-ebfd-4923-9287-c74eb1b8b0a7",
   "metadata": {},
   "outputs": [
    {
     "name": "stdout",
     "output_type": "stream",
     "text": [
      "['Amazon', 'Apple', 'GOOGLE', 'Huawei', 'IBM', 'Intel', 'Meta', 'Microsoft', 'Oracle']\n"
     ]
    }
   ],
   "source": [
    "IT_companies.sort()\n",
    "print(IT_companies)"
   ]
  },
  {
   "cell_type": "code",
   "execution_count": 13,
   "id": "82cba41b-7079-46a1-b8f6-9214366477d2",
   "metadata": {},
   "outputs": [
    {
     "name": "stdout",
     "output_type": "stream",
     "text": [
      "['Oracle', 'Microsoft', 'Meta', 'Intel', 'IBM', 'Huawei', 'GOOGLE', 'Apple', 'Amazon']\n"
     ]
    }
   ],
   "source": [
    "IT_companies.sort(reverse=True)\n",
    "print(IT_companies)"
   ]
  },
  {
   "cell_type": "code",
   "execution_count": 14,
   "id": "490edc24-4a7f-40ca-b359-f12081c3fafa",
   "metadata": {},
   "outputs": [
    {
     "name": "stdout",
     "output_type": "stream",
     "text": [
      "['Intel', 'IBM', 'Huawei', 'GOOGLE', 'Apple', 'Amazon']\n"
     ]
    }
   ],
   "source": [
    "print(IT_companies[3:])"
   ]
  },
  {
   "cell_type": "code",
   "execution_count": 15,
   "id": "c16b4493-b5f9-4e7f-821e-dc334fd5d5c9",
   "metadata": {},
   "outputs": [
    {
     "name": "stdout",
     "output_type": "stream",
     "text": [
      "['Oracle', 'Microsoft', 'Meta', 'Intel', 'IBM', 'Huawei']\n"
     ]
    }
   ],
   "source": [
    "print(IT_companies[0:6])"
   ]
  },
  {
   "cell_type": "code",
   "execution_count": 16,
   "id": "a879666a-019c-4bbc-802a-2ee8cbcbf90a",
   "metadata": {},
   "outputs": [
    {
     "name": "stdout",
     "output_type": "stream",
     "text": [
      "['Oracle', 'Microsoft', 'Meta', 'Intel', 'Huawei', 'GOOGLE', 'Apple', 'Amazon']\n"
     ]
    }
   ],
   "source": [
    "print(IT_companies[0:4]+IT_companies[5:9])"
   ]
  },
  {
   "cell_type": "code",
   "execution_count": 17,
   "id": "4151ae92-32cc-4224-b8cb-02e7c7d01c07",
   "metadata": {},
   "outputs": [
    {
     "name": "stdout",
     "output_type": "stream",
     "text": [
      "['Microsoft', 'Meta', 'Intel', 'IBM', 'Huawei', 'GOOGLE', 'Apple', 'Amazon']\n"
     ]
    }
   ],
   "source": [
    "IT_companies.remove('Oracle')\n",
    "print(IT_companies)"
   ]
  },
  {
   "cell_type": "code",
   "execution_count": 18,
   "id": "591f4ba8-6cdc-4346-8f4a-5ff85e1d5f5b",
   "metadata": {},
   "outputs": [
    {
     "name": "stdout",
     "output_type": "stream",
     "text": [
      "['Microsoft', 'Meta', 'Intel', 'IBM', 'Apple', 'Amazon']\n"
     ]
    }
   ],
   "source": [
    "IT_companies.remove('Huawei')\n",
    "IT_companies.remove('GOOGLE')\n",
    "print(IT_companies)"
   ]
  },
  {
   "cell_type": "code",
   "execution_count": 19,
   "id": "6d754e92-3e29-44e8-b19d-9070a26f1730",
   "metadata": {},
   "outputs": [
    {
     "name": "stdout",
     "output_type": "stream",
     "text": [
      "['Microsoft', 'Meta', 'Intel', 'IBM', 'Apple']\n"
     ]
    }
   ],
   "source": [
    "IT_companies.remove('Amazon')\n",
    "print(IT_companies)"
   ]
  },
  {
   "cell_type": "code",
   "execution_count": 20,
   "id": "2013f2aa-fcdd-4d7a-ae4b-3bb805cdfa9e",
   "metadata": {},
   "outputs": [
    {
     "name": "stdout",
     "output_type": "stream",
     "text": [
      "[]\n"
     ]
    }
   ],
   "source": [
    "IT_companies.clear()\n",
    "print(IT_companies)"
   ]
  },
  {
   "cell_type": "code",
   "execution_count": 21,
   "id": "4927c659-1dbd-4128-9f6a-e6c9c3c5b1e0",
   "metadata": {},
   "outputs": [],
   "source": [
    "del IT_companies"
   ]
  },
  {
   "cell_type": "code",
   "execution_count": 22,
   "id": "468b0a36-ded2-422f-bb64-50ad2389d8f9",
   "metadata": {},
   "outputs": [
    {
     "data": {
      "text/plain": [
       "['HTML', 'CSS', 'JS', 'React', 'Redux', 'Node', 'Express', 'MongoDB']"
      ]
     },
     "execution_count": 22,
     "metadata": {},
     "output_type": "execute_result"
    }
   ],
   "source": [
    "front_end = ['HTML', 'CSS', 'JS', 'React', 'Redux']\n",
    "back_end = ['Node','Express', 'MongoDB']\n",
    "front_end+back_end"
   ]
  },
  {
   "cell_type": "code",
   "execution_count": 23,
   "id": "8713f4dd-3511-4cce-9696-51dab6a34732",
   "metadata": {},
   "outputs": [
    {
     "name": "stdout",
     "output_type": "stream",
     "text": [
      "['HTML', 'CSS', 'JS', 'React', 'Redux', 'Python', 'SQL', 'Node', 'Express', 'MongoDB']\n"
     ]
    }
   ],
   "source": [
    "full_stack=(front_end+back_end).copy()\n",
    "full_stack.insert(5,'Python')\n",
    "full_stack.insert(6,'SQL')\n",
    "print(full_stack)\n"
   ]
  },
  {
   "cell_type": "code",
   "execution_count": 24,
   "id": "4eb52b2f-d1ec-4229-8be2-17ecaf5f2e00",
   "metadata": {},
   "outputs": [
    {
     "name": "stdout",
     "output_type": "stream",
     "text": [
      "[19, 19, 20, 22, 24, 24, 24, 25, 25, 26]\n"
     ]
    }
   ],
   "source": [
    "ages = [19, 22, 19, 24, 20, 25, 26, 24, 25, 24]\n",
    "ages.sort()\n",
    "print(ages)"
   ]
  },
  {
   "cell_type": "code",
   "execution_count": 25,
   "id": "cb158009-f2b0-45d4-8a55-1bc3b30e4356",
   "metadata": {},
   "outputs": [
    {
     "data": {
      "text/plain": [
       "19"
      ]
     },
     "execution_count": 25,
     "metadata": {},
     "output_type": "execute_result"
    }
   ],
   "source": [
    "min(ages)"
   ]
  },
  {
   "cell_type": "code",
   "execution_count": 26,
   "id": "80c4d477-2967-4914-be59-3a22519b4661",
   "metadata": {},
   "outputs": [
    {
     "data": {
      "text/plain": [
       "26"
      ]
     },
     "execution_count": 26,
     "metadata": {},
     "output_type": "execute_result"
    }
   ],
   "source": [
    "max(ages)"
   ]
  },
  {
   "cell_type": "code",
   "execution_count": 27,
   "id": "76262275-b860-43f9-8873-aeccc6985e9d",
   "metadata": {},
   "outputs": [
    {
     "name": "stdout",
     "output_type": "stream",
     "text": [
      "[19, 19, 20, 22, 24, 24, 24, 25, 25, 26, 19, 26]\n"
     ]
    }
   ],
   "source": [
    "ages.append(19)\n",
    "ages.append(26)\n",
    "print(ages)"
   ]
  },
  {
   "cell_type": "code",
   "execution_count": 28,
   "id": "29ab4f1c-9842-400e-b8bb-61a4c1ed60ad",
   "metadata": {},
   "outputs": [
    {
     "name": "stdout",
     "output_type": "stream",
     "text": [
      "The median age is: 24.0\n"
     ]
    }
   ],
   "source": [
    "sum1=24+24\n",
    "median_age = sum1/2\n",
    "print('The median age is:',median_age)"
   ]
  },
  {
   "cell_type": "code",
   "execution_count": 29,
   "id": "2ba45953-7701-4ee5-bc13-faa2000e15f7",
   "metadata": {},
   "outputs": [
    {
     "name": "stdout",
     "output_type": "stream",
     "text": [
      "[19, 19, 20, 22, 24, 24, 24, 25, 25, 26, 19, 26]\n",
      "The average age is: 22.75\n"
     ]
    }
   ],
   "source": [
    "print(ages)\n",
    "average_age = sum(ages) / len(ages)\n",
    "print('The average age is:',average_age)"
   ]
  },
  {
   "cell_type": "code",
   "execution_count": 30,
   "id": "d67a8fdc-c8c5-4931-8eb8-9006c4431c27",
   "metadata": {},
   "outputs": [
    {
     "name": "stdout",
     "output_type": "stream",
     "text": [
      "The range of age is: 7\n"
     ]
    }
   ],
   "source": [
    "age_range = max(ages) - min(ages)\n",
    "\n",
    "print('The range of age is:',age_range)  "
   ]
  },
  {
   "cell_type": "code",
   "execution_count": 70,
   "id": "0adf16d6-0a51-4b66-8871-b348d32ec6ad",
   "metadata": {},
   "outputs": [
    {
     "name": "stdout",
     "output_type": "stream",
     "text": [
      "abs(min - average): 3.75\n",
      "abs(max - average): 3.25\n",
      "The difference between min and average is bigger\n"
     ]
    }
   ],
   "source": [
    "min_diff = abs(min(ages) - average_age)\n",
    "max_diff = abs(max(ages) - average_age)\n",
    "\n",
    "print('abs(min - average):',min_diff)\n",
    "print('abs(max - average):',max_diff)\n",
    "\n",
    "if min_diff > max_diff:\n",
    "    print('The difference between min and average is bigger')\n",
    "\n",
    "elif min_diff < max_diff:\n",
    "    print('The difference between max and average is bigger')\n",
    "\n",
    "else:\n",
    "    print('The difference is equal')\n"
   ]
  },
  {
   "cell_type": "code",
   "execution_count": 72,
   "id": "8d09ced0-d7be-46f7-a00f-d8560ba316e0",
   "metadata": {},
   "outputs": [
    {
     "name": "stdout",
     "output_type": "stream",
     "text": [
      "7\n"
     ]
    }
   ],
   "source": [
    "countries = ['China', 'Russia', 'USA', 'Finland', 'Sweden', 'Norway', 'Denmark']\n",
    "print(len(countries))"
   ]
  },
  {
   "cell_type": "code",
   "execution_count": 74,
   "id": "e665f7a2-1861-41d1-992c-46de9b823ba2",
   "metadata": {},
   "outputs": [
    {
     "name": "stdout",
     "output_type": "stream",
     "text": [
      "3\n"
     ]
    }
   ],
   "source": [
    "length = len(countries)\n",
    "middle_index = length // 2\n",
    "print(middle_index)\n"
   ]
  },
  {
   "cell_type": "code",
   "execution_count": 76,
   "id": "8927b390-8b3f-45a0-87ff-57e7239a6078",
   "metadata": {},
   "outputs": [
    {
     "name": "stdout",
     "output_type": "stream",
     "text": [
      "The middle country in the list is: Finland\n"
     ]
    }
   ],
   "source": [
    "print('The middle country in the list is:',countries[3])"
   ]
  },
  {
   "cell_type": "code",
   "execution_count": 78,
   "id": "c3925619-cf0f-4fa2-9659-bd02f05421d4",
   "metadata": {},
   "outputs": [
    {
     "name": "stdout",
     "output_type": "stream",
     "text": [
      "['China', 'Pakistan', 'Russia', 'USA'] ['Finland', 'Sweden', 'Norway', 'Denmark']\n"
     ]
    }
   ],
   "source": [
    "countries.insert(1,'Pakistan')\n",
    "print(countries[0:4],countries[4:9])\n",
    "                 "
   ]
  },
  {
   "cell_type": "code",
   "execution_count": 80,
   "id": "aa99cff7-d007-433f-8d28-c33a2e491024",
   "metadata": {},
   "outputs": [
    {
     "name": "stdout",
     "output_type": "stream",
     "text": [
      "China\n",
      "Russia\n",
      "USA\n",
      "['Finland', 'Sweden', 'Norway', 'Denmark']\n"
     ]
    }
   ],
   "source": [
    "first_country,second_country,third_country,*scandic_countries = ['China', 'Russia', 'USA', 'Finland', 'Sweden', 'Norway', 'Denmark']\n",
    "print(first_country)\n",
    "print(second_country)\n",
    "print(third_country)\n",
    "print(scandic_countries)"
   ]
  },
  {
   "cell_type": "code",
   "execution_count": null,
   "id": "6a83f483-e42b-4c99-b4de-b5f20e952896",
   "metadata": {},
   "outputs": [],
   "source": []
  },
  {
   "cell_type": "markdown",
   "id": "ce4b71ac-24fe-413e-a161-3490b31ffa91",
   "metadata": {},
   "source": [
    "## TUPLES"
   ]
  },
  {
   "cell_type": "code",
   "execution_count": 84,
   "id": "7a6ef7e0-a5b1-4614-8d08-d67575d1847e",
   "metadata": {},
   "outputs": [
    {
     "name": "stdout",
     "output_type": "stream",
     "text": [
      "<class 'tuple'>\n"
     ]
    }
   ],
   "source": [
    "name = ()\n",
    "print(type(name))"
   ]
  },
  {
   "cell_type": "code",
   "execution_count": 86,
   "id": "434fe95a-1c95-41aa-bbca-b4c98fe90070",
   "metadata": {},
   "outputs": [
    {
     "name": "stdout",
     "output_type": "stream",
     "text": [
      "('Sundus', 'Sumaiya', 'Warda', 'Yumna', 'Saad', 'Waqas', 'Talha', 'Shaheer')\n"
     ]
    }
   ],
   "source": [
    "sisters = ('Sundus','Sumaiya','Warda','Yumna')\n",
    "brothers = ('Saad','Waqas','Talha','Shaheer')\n",
    "siblings = sisters+brothers\n",
    "print(siblings)"
   ]
  },
  {
   "cell_type": "code",
   "execution_count": 88,
   "id": "c74a26e5-e2b4-41c7-8d0c-3722bbb4aad5",
   "metadata": {},
   "outputs": [
    {
     "name": "stdout",
     "output_type": "stream",
     "text": [
      "8\n"
     ]
    }
   ],
   "source": [
    "print(len(siblings))"
   ]
  },
  {
   "cell_type": "code",
   "execution_count": 90,
   "id": "a21ac7a5-7d39-49cc-9444-20971b364f95",
   "metadata": {},
   "outputs": [
    {
     "name": "stdout",
     "output_type": "stream",
     "text": [
      "['Sundus', 'Sumaiya', 'Warda', 'Yumna', 'Saad', 'Waqas', 'Talha', 'Shaheer', 'Mahmood', 'Shazia']\n"
     ]
    }
   ],
   "source": [
    "siblings_list = list(siblings)\n",
    "siblings_list.append('Mahmood')\n",
    "siblings_list.append('Shazia')\n",
    "print(siblings_list)"
   ]
  },
  {
   "cell_type": "code",
   "execution_count": 92,
   "id": "9b7fa737-814b-4395-9d72-8ca86eafa03e",
   "metadata": {},
   "outputs": [
    {
     "name": "stdout",
     "output_type": "stream",
     "text": [
      "('Sundus', 'Sumaiya', 'Warda', 'Yumna', 'Saad', 'Waqas', 'Talha', 'Shaheer', 'Mahmood', 'Shazia')\n"
     ]
    }
   ],
   "source": [
    "family_members = tuple(siblings_list)\n",
    "print(family_members)"
   ]
  },
  {
   "cell_type": "code",
   "execution_count": 94,
   "id": "6a83e3b9-b1c1-498c-bfb5-8b6c8cb0e8ec",
   "metadata": {},
   "outputs": [
    {
     "name": "stdout",
     "output_type": "stream",
     "text": [
      "('Sundus', 'Sumaiya', 'Warda', 'Yumna', 'Saad', 'Waqas', 'Talha', 'Shaheer')\n",
      "('Mahmood', 'Shazia')\n"
     ]
    }
   ],
   "source": [
    "siblings,parents = family_members[0:8],family_members[8:]\n",
    "print(siblings)\n",
    "print(parents)"
   ]
  },
  {
   "cell_type": "code",
   "execution_count": 96,
   "id": "756ee6a0-22a4-42bc-bb94-04504486843e",
   "metadata": {},
   "outputs": [
    {
     "name": "stdout",
     "output_type": "stream",
     "text": [
      "('apples', 'oranges', 'grapes', 'banana', 'cucumber', 'carrot', 'cabbage', 'peas', 'milk', 'eggs', 'honey')\n"
     ]
    }
   ],
   "source": [
    "fruits = ('apples','oranges','grapes','banana')\n",
    "vegetables = ('cucumber','carrot','cabbage','peas')\n",
    "animal_products = ('milk','eggs','honey')\n",
    "food_stuff_tp = fruits+vegetables+animal_products\n",
    "print(food_stuff_tp)"
   ]
  },
  {
   "cell_type": "code",
   "execution_count": 98,
   "id": "975402ec-183a-4653-9637-68dd84aa895e",
   "metadata": {},
   "outputs": [
    {
     "name": "stdout",
     "output_type": "stream",
     "text": [
      "['apples', 'oranges', 'grapes', 'banana', 'cucumber', 'carrot', 'cabbage', 'peas', 'milk', 'eggs', 'honey']\n"
     ]
    }
   ],
   "source": [
    "food_stuff_lt = list(food_stuff_tp)\n",
    "print(food_stuff_lt)"
   ]
  },
  {
   "cell_type": "code",
   "execution_count": 100,
   "id": "76ad5d0e-692e-47f6-ba19-82c54b7ac16b",
   "metadata": {},
   "outputs": [
    {
     "name": "stdout",
     "output_type": "stream",
     "text": [
      "5\n"
     ]
    }
   ],
   "source": [
    "middle_index = len(food_stuff_lt)//2\n",
    "print(middle_index)"
   ]
  },
  {
   "cell_type": "code",
   "execution_count": 102,
   "id": "1032aa16-e89a-4439-9b75-d8d4548835d9",
   "metadata": {},
   "outputs": [
    {
     "name": "stdout",
     "output_type": "stream",
     "text": [
      "['apples', 'oranges', 'grapes', 'banana', 'cucumber', 'cabbage', 'peas', 'milk', 'eggs', 'honey']\n"
     ]
    }
   ],
   "source": [
    "print(food_stuff_lt[0:5]+food_stuff_lt[6:])"
   ]
  },
  {
   "cell_type": "code",
   "execution_count": 104,
   "id": "a5a76007-2092-4640-b557-122be0034c40",
   "metadata": {},
   "outputs": [
    {
     "name": "stdout",
     "output_type": "stream",
     "text": [
      "['banana', 'cucumber', 'carrot', 'cabbage', 'peas']\n"
     ]
    }
   ],
   "source": [
    "print(food_stuff_lt[3:8])"
   ]
  },
  {
   "cell_type": "code",
   "execution_count": 106,
   "id": "864d9535-26fd-49eb-b04c-28d4beb5fc83",
   "metadata": {},
   "outputs": [],
   "source": [
    "del food_stuff_tp"
   ]
  },
  {
   "cell_type": "code",
   "execution_count": null,
   "id": "99b9c96a-0645-4851-a109-dc661a3fce05",
   "metadata": {},
   "outputs": [],
   "source": []
  },
  {
   "cell_type": "markdown",
   "id": "6afb4ce1-3af9-43b8-9650-28f95739b38e",
   "metadata": {},
   "source": [
    "## SET"
   ]
  },
  {
   "cell_type": "code",
   "execution_count": 110,
   "id": "f89ceaaf-ec8e-4710-bc72-010c3cfc1836",
   "metadata": {},
   "outputs": [],
   "source": [
    "it_companies = {'Facebook', 'Google', 'Microsoft', 'Apple', 'IBM', 'Oracle','Amazon'}\n",
    "A = {19, 22, 24, 20, 25, 26}\n",
    "B = {19, 22, 20, 25, 26, 24, 28, 27}\n",
    "age = [22, 19, 24, 25, 26, 24, 25, 24]"
   ]
  },
  {
   "cell_type": "code",
   "execution_count": 112,
   "id": "b1c2a574-ecd0-4af5-9bbf-24d71982e51d",
   "metadata": {},
   "outputs": [
    {
     "name": "stdout",
     "output_type": "stream",
     "text": [
      "7\n"
     ]
    }
   ],
   "source": [
    "print(len(it_companies))"
   ]
  },
  {
   "cell_type": "code",
   "execution_count": 114,
   "id": "4b7b72ba-b611-4da8-9e03-68ddd467fc95",
   "metadata": {},
   "outputs": [
    {
     "name": "stdout",
     "output_type": "stream",
     "text": [
      "{'IBM', 'Google', 'Facebook', 'Oracle', 'Amazon', 'Apple', 'Microsoft', 'Twitter'}\n"
     ]
    }
   ],
   "source": [
    "it_companies.add('Twitter')\n",
    "print(it_companies)"
   ]
  },
  {
   "cell_type": "code",
   "execution_count": 116,
   "id": "fb728a6c-c03a-4ca9-b6f3-dbe6f33eb7bf",
   "metadata": {},
   "outputs": [
    {
     "name": "stdout",
     "output_type": "stream",
     "text": [
      "{'Meta', 'Amazon', 'Facebook', 'Oracle', 'Huawei', 'Intel', 'Microsoft', 'IBM', 'Google', 'Apple', 'Twitter'}\n"
     ]
    }
   ],
   "source": [
    "it_companies.update(['Meta','Huawei','Intel'])\n",
    "print(it_companies)"
   ]
  },
  {
   "cell_type": "code",
   "execution_count": 118,
   "id": "25ca3567-8422-412f-970f-2f9500103cc0",
   "metadata": {},
   "outputs": [
    {
     "name": "stdout",
     "output_type": "stream",
     "text": [
      "{'Meta', 'Amazon', 'Oracle', 'Huawei', 'Intel', 'Microsoft', 'IBM', 'Google', 'Apple', 'Twitter'}\n"
     ]
    }
   ],
   "source": [
    "it_companies.remove('Facebook')\n",
    "print(it_companies)"
   ]
  },
  {
   "cell_type": "markdown",
   "id": "6323181e-04a3-46c0-a135-14b391798eb6",
   "metadata": {},
   "source": [
    "5. remove function generates an error if the element is not in the set whereas the discard function \n",
    "doesnot raise an error even if the element is not in the set"
   ]
  },
  {
   "cell_type": "code",
   "execution_count": 122,
   "id": "03ebdc21-8d3a-4d79-a2d5-a9461d4266fa",
   "metadata": {},
   "outputs": [
    {
     "name": "stdout",
     "output_type": "stream",
     "text": [
      "{19, 20, 22, 24, 25, 26, 27, 28}\n"
     ]
    }
   ],
   "source": [
    "print(A|B)"
   ]
  },
  {
   "cell_type": "code",
   "execution_count": 126,
   "id": "274acf14-cf17-449c-a08e-643661af6acb",
   "metadata": {},
   "outputs": [
    {
     "name": "stdout",
     "output_type": "stream",
     "text": [
      "A intersection B is: {19, 20, 22, 24, 25, 26}\n"
     ]
    }
   ],
   "source": [
    "print('A intersection B is:',A&B)"
   ]
  },
  {
   "cell_type": "code",
   "execution_count": 128,
   "id": "7e19503c-02ba-48cc-9e1e-367c1fd7c285",
   "metadata": {},
   "outputs": [
    {
     "data": {
      "text/plain": [
       "True"
      ]
     },
     "execution_count": 128,
     "metadata": {},
     "output_type": "execute_result"
    }
   ],
   "source": [
    "A.issubset(B)"
   ]
  },
  {
   "cell_type": "code",
   "execution_count": 130,
   "id": "48292a54-ef15-4263-8ffb-7256e94193ce",
   "metadata": {},
   "outputs": [
    {
     "data": {
      "text/plain": [
       "False"
      ]
     },
     "execution_count": 130,
     "metadata": {},
     "output_type": "execute_result"
    }
   ],
   "source": [
    "A.isdisjoint(B)"
   ]
  },
  {
   "cell_type": "code",
   "execution_count": 132,
   "id": "a2f89d3e-b90d-4968-b93c-6008cf58f6e4",
   "metadata": {},
   "outputs": [
    {
     "name": "stdout",
     "output_type": "stream",
     "text": [
      "A with B : {19, 20, 22, 24, 25, 26, 27, 28}\n",
      "B with A : {19, 20, 22, 24, 25, 26, 27, 28}\n"
     ]
    }
   ],
   "source": [
    "print('A with B :',A|B)\n",
    "print('B with A :',B|A)"
   ]
  },
  {
   "cell_type": "code",
   "execution_count": 134,
   "id": "1d1a68fe-2629-4055-a84f-b664170ee508",
   "metadata": {},
   "outputs": [
    {
     "name": "stdout",
     "output_type": "stream",
     "text": [
      "The symmetric difference between A and B is: {27, 28}\n"
     ]
    }
   ],
   "source": [
    "print('The symmetric difference between A and B is:',A^B)"
   ]
  },
  {
   "cell_type": "code",
   "execution_count": 136,
   "id": "2f139211-14d4-4918-bc31-4879d32537ea",
   "metadata": {},
   "outputs": [
    {
     "name": "stdout",
     "output_type": "stream",
     "text": [
      "it_companies: {'Meta', 'Amazon', 'Oracle', 'Huawei', 'Intel', 'Microsoft', 'IBM', 'Google', 'Apple', 'Twitter'}\n",
      "A: {19, 20, 22, 24, 25, 26}\n",
      "B: {19, 20, 22, 24, 25, 26, 27, 28}\n"
     ]
    }
   ],
   "source": [
    "print('it_companies:',it_companies)\n",
    "print('A:',A)\n",
    "print('B:',B)"
   ]
  },
  {
   "cell_type": "code",
   "execution_count": 138,
   "id": "547545e1-780d-4425-a959-51c2aaeebb0d",
   "metadata": {},
   "outputs": [],
   "source": [
    "del it_companies\n",
    "del A\n",
    "del B"
   ]
  },
  {
   "cell_type": "code",
   "execution_count": 140,
   "id": "7eac76f9-6909-4add-a3a9-d147b6d035ce",
   "metadata": {},
   "outputs": [
    {
     "name": "stdout",
     "output_type": "stream",
     "text": [
      "age: [22, 19, 24, 25, 26, 24, 25, 24]\n"
     ]
    }
   ],
   "source": [
    "print('age:',age)"
   ]
  },
  {
   "cell_type": "code",
   "execution_count": 142,
   "id": "e016dfc3-8e2b-4d3f-b182-2b83d60c8948",
   "metadata": {},
   "outputs": [
    {
     "name": "stdout",
     "output_type": "stream",
     "text": [
      "age_set: {19, 22, 24, 25, 26}\n"
     ]
    }
   ],
   "source": [
    "age_set = set(age)\n",
    "print('age_set:',age_set)"
   ]
  },
  {
   "cell_type": "code",
   "execution_count": 144,
   "id": "4646999a-ba38-4cee-9c09-314fd3137a22",
   "metadata": {},
   "outputs": [
    {
     "name": "stdout",
     "output_type": "stream",
     "text": [
      "The length of the list is bigger\n"
     ]
    }
   ],
   "source": [
    "if len(age) > len(age_set):\n",
    "    print('The length of the list is bigger')\n",
    "\n",
    "elif len(age) == len(age_set):\n",
    "    print('The length of list and set is same')\n",
    "\n",
    "else:\n",
    "    print('The length of set is bigger')\n",
    "    \n",
    "    "
   ]
  },
  {
   "cell_type": "markdown",
   "id": "fd800f08-4c81-4e3a-b1d0-6bafb4a4c282",
   "metadata": {},
   "source": [
    "## Explain the difference between the following data types: string, list, tuple and set"
   ]
  },
  {
   "cell_type": "markdown",
   "id": "45511733-089f-43ef-b855-169757fc2abb",
   "metadata": {},
   "source": [
    "SET: A set is an unordered collection of unique elements therefore, it does not allow duplicates. Set is mutable."
   ]
  },
  {
   "cell_type": "markdown",
   "id": "27a31041-da8e-4198-a756-b98a0ae1f2f1",
   "metadata": {},
   "source": [
    "LIST: A list is an ordered collection of elements that can hold items of any data type. It is also mutable which \n",
    "means you can modify the elements of a list. Unlike sets, lists can have duplicate elements."
   ]
  },
  {
   "cell_type": "markdown",
   "id": "fe7c5e7c-5c41-47b8-be86-2d8a9b16e3f6",
   "metadata": {},
   "source": [
    "TUPLE: A tuple is an ordered collection of elements, similar to a list, but immutable which means its elements cannot \n",
    "be changed, added, or removed. Tuple can also have duplicate elements.\n"
   ]
  },
  {
   "cell_type": "markdown",
   "id": "b374602a-2835-45f0-bc23-f5dc8bae5d19",
   "metadata": {},
   "source": [
    "STRING: A string is a sequence of characters, and is also an ordered, immutable data type. String allows duplicates so \n",
    "it can have same character multiple times."
   ]
  },
  {
   "cell_type": "code",
   "execution_count": null,
   "id": "08c43821-736a-4d15-8939-50881a9f1e50",
   "metadata": {},
   "outputs": [],
   "source": []
  }
 ],
 "metadata": {
  "kernelspec": {
   "display_name": "Python 3 (ipykernel)",
   "language": "python",
   "name": "python3"
  },
  "language_info": {
   "codemirror_mode": {
    "name": "ipython",
    "version": 3
   },
   "file_extension": ".py",
   "mimetype": "text/x-python",
   "name": "python",
   "nbconvert_exporter": "python",
   "pygments_lexer": "ipython3",
   "version": "3.12.4"
  }
 },
 "nbformat": 4,
 "nbformat_minor": 5
}

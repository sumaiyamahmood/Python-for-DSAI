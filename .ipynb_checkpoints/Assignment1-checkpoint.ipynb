{
 "cells": [
  {
   "cell_type": "markdown",
   "id": "7eda67bf-284d-4bd8-9e8d-49d9dfda96c2",
   "metadata": {},
   "source": [
    "QUESTION 1"
   ]
  },
  {
   "cell_type": "markdown",
   "id": "d91748b5-2ec7-4a34-a64b-a286f9d07f43",
   "metadata": {},
   "source": [
    "(a) Create the variable first name and your last name and Compare the length of your first name and your last name."
   ]
  },
  {
   "cell_type": "code",
   "execution_count": 7,
   "id": "dd759ba2-ea86-4ec4-a2f0-c1bf5be0ead8",
   "metadata": {},
   "outputs": [
    {
     "name": "stdin",
     "output_type": "stream",
     "text": [
      "Enter your first name: Sumaiya\n",
      "Enter your last name: Khan\n"
     ]
    },
    {
     "name": "stdout",
     "output_type": "stream",
     "text": [
      "The length of first name and last name is different.\n"
     ]
    }
   ],
   "source": [
    "first_name = input('Enter your first name:')\n",
    "last_name = input('Enter your last name:')\n",
    "if len(first_name) == len(last_name):\n",
    "    print(\"The length of first name and last name is equal.\")\n",
    "else:\n",
    "    print(\"The length of first name and last name is different.\")\n"
   ]
  },
  {
   "cell_type": "markdown",
   "id": "e5e26450-f1ae-4173-bdb1-c077c676677a",
   "metadata": {},
   "source": [
    "(b) Using the len() built-in function, find the length of your first name"
   ]
  },
  {
   "cell_type": "code",
   "execution_count": 21,
   "id": "02b56103-9ae3-4e4a-8131-bff6f8029178",
   "metadata": {},
   "outputs": [
    {
     "name": "stdin",
     "output_type": "stream",
     "text": [
      "Enter your first name: Sumaiya\n"
     ]
    },
    {
     "name": "stdout",
     "output_type": "stream",
     "text": [
      "The length of you first name is: 7\n"
     ]
    }
   ],
   "source": [
    "first_name = input('Enter your first name:')\n",
    "length = len(first_name)\n",
    "print('The length of you first name is:',length)"
   ]
  },
  {
   "cell_type": "markdown",
   "id": "f2472431-8f86-4a4b-813f-fc31b7076130",
   "metadata": {},
   "source": [
    "QUESTION 2"
   ]
  },
  {
   "cell_type": "code",
   "execution_count": 28,
   "id": "d118a852-2824-420a-bf2d-55eae92d1305",
   "metadata": {},
   "outputs": [
    {
     "name": "stdout",
     "output_type": "stream",
     "text": [
      "Number 1 is: 5\n",
      "Number 2 is: 4\n",
      "The sum of both numbers is: 9\n",
      "The difference of both numbers is: 1\n",
      "The product of both numbers is: 20\n",
      "The division of number1 by number2 is: 1.25\n",
      "The Remainder of number2 by number1 is: 4\n",
      "The Power of number1 raise to number2 is: 625\n",
      "The Floor division of number1 by number2 is: 1\n"
     ]
    }
   ],
   "source": [
    "num_one = 5\n",
    "num_two = 4\n",
    "total = num_one + num_two\n",
    "diff = num_one - num_two\n",
    "product = num_one * num_two\n",
    "division = num_one / num_two\n",
    "remainder = num_two % num_one\n",
    "exp = num_one ** num_two\n",
    "floor_division = num_one // num_two\n",
    "print('Number 1 is:',num_one)\n",
    "print('Number 2 is:',num_two)\n",
    "print('The sum of both numbers is:',total)\n",
    "print('The difference of both numbers is:',diff)\n",
    "print('The product of both numbers is:',product)\n",
    "print('The division of number1 by number2 is:',division)\n",
    "print('The Remainder of number2 by number1 is:',remainder)\n",
    "print('The Power of number1 raise to number2 is:',exp)\n",
    "print('The Floor division of number1 by number2 is:',floor_division)"
   ]
  },
  {
   "cell_type": "markdown",
   "id": "fa2ffda0-490e-4598-9c97-a5b3b612aaba",
   "metadata": {},
   "source": [
    "QUESTION 3"
   ]
  },
  {
   "cell_type": "code",
   "execution_count": 36,
   "id": "125cb3da-f0c4-4f7e-8492-4198c7a4bd29",
   "metadata": {},
   "outputs": [
    {
     "name": "stdout",
     "output_type": "stream",
     "text": [
      "The radius of circle is 30 m\n",
      "The area of circle is: 2827.4333882308138 m^2\n",
      "The circumference of circle is:  188.49555921538757 m\n"
     ]
    }
   ],
   "source": [
    "import math\n",
    "radius = 30\n",
    "radius_square = radius **2\n",
    "area_of_circle = math.pi * radius_square\n",
    "circum_of_circle = 2 * math.pi * radius\n",
    "print('The radius of circle is 30 m')\n",
    "print('The area of circle is:',area_of_circle,'m^2')\n",
    "print('The circumference of circle is: ',circum_of_circle,'m')\n",
    "\n"
   ]
  },
  {
   "cell_type": "markdown",
   "id": "1b377ef7-3c35-4645-b670-1bfb20d3c7d8",
   "metadata": {},
   "source": [
    "QUESTION 3(b)"
   ]
  },
  {
   "cell_type": "code",
   "execution_count": 3,
   "id": "babc7722-bb09-4543-931c-b20da9ada57e",
   "metadata": {},
   "outputs": [
    {
     "name": "stdin",
     "output_type": "stream",
     "text": [
      "Enter the radius of circle: 3.56\n"
     ]
    },
    {
     "name": "stdout",
     "output_type": "stream",
     "text": [
      "The area of circle is : 39.81528865453561 m^2\n"
     ]
    }
   ],
   "source": [
    "import math\n",
    "radius = float(input('Enter the radius of circle:'))\n",
    "area = math.pi * (radius**2)\n",
    "print('The area of circle is :',area,'m^2')\n"
   ]
  },
  {
   "cell_type": "markdown",
   "id": "0e00117a-5648-411d-9a1c-a7b7da2f3994",
   "metadata": {},
   "source": [
    "QUESTION 4"
   ]
  },
  {
   "cell_type": "markdown",
   "id": "d78ab23c-f0e9-42e7-a442-c3ac3dd7b977",
   "metadata": {},
   "source": [
    "A grocery store sells a bag of ice for $1.25 and makes a 20% profit. If it sells 500 bags of ice, how much total profit does it make?"
   ]
  },
  {
   "cell_type": "code",
   "execution_count": 43,
   "id": "58af312e-1820-4db0-8e73-a495f4020654",
   "metadata": {},
   "outputs": [
    {
     "name": "stdout",
     "output_type": "stream",
     "text": [
      "Price of 1 bag of ice is: $ 1.25\n",
      "The percentage of profit for 1 bag is 0.2\n",
      "The profit for 500 bags of ice is: $ 125.0\n"
     ]
    }
   ],
   "source": [
    "price_of_ice = float(1.25)\n",
    "percentage_of_profit = float(20/100)\n",
    "bags_sold = 500\n",
    "total_profit = bags_sold*price_of_ice*percentage_of_profit\n",
    "print('Price of 1 bag of ice is: $',price_of_ice)\n",
    "print('The percentage of profit for 1 bag is',percentage_of_profit)\n",
    "print('The profit for',bags_sold,'bags of ice is: $',total_profit)"
   ]
  },
  {
   "cell_type": "markdown",
   "id": "3ade22f7-c882-4937-a554-68f047b0427e",
   "metadata": {},
   "source": [
    "QUESTION 5"
   ]
  },
  {
   "cell_type": "markdown",
   "id": "fb775f64-d1eb-497b-bf32-460923696dcf",
   "metadata": {},
   "source": [
    "A travel company wants to fly a plane to the Bahamas. Flying the plane costs 5000 dollars.\n",
    "So far, 29 people have signed up for the trip. If the company charges 200 dollars per \n",
    "ticket, what is the profit made by the company? Create variables for each numeric quantity and use\n",
    "appropriate arithmetic operations."
   ]
  },
  {
   "cell_type": "code",
   "execution_count": null,
   "id": "e9ec40cd-e7c8-4203-9f1f-e9d0ba608c3d",
   "metadata": {},
   "outputs": [],
   "source": [
    "cost_of_plane = 5000\n",
    "price_of_ticket = 200\n",
    "people = 29\n",
    "total_cost "
   ]
  }
 ],
 "metadata": {
  "kernelspec": {
   "display_name": "Python 3 (ipykernel)",
   "language": "python",
   "name": "python3"
  },
  "language_info": {
   "codemirror_mode": {
    "name": "ipython",
    "version": 3
   },
   "file_extension": ".py",
   "mimetype": "text/x-python",
   "name": "python",
   "nbconvert_exporter": "python",
   "pygments_lexer": "ipython3",
   "version": "3.12.4"
  }
 },
 "nbformat": 4,
 "nbformat_minor": 5
}

{
 "cells": [
  {
   "cell_type": "code",
   "execution_count": 9,
   "id": "21633c9a-fce7-49e5-b27e-a850586544ac",
   "metadata": {},
   "outputs": [
    {
     "name": "stdout",
     "output_type": "stream",
     "text": [
      "original list: [2, 4, 6, 8]\n",
      "[4, 16, 36, 64]\n"
     ]
    }
   ],
   "source": [
    "def square_number(number_list):\n",
    "    square_list=[]\n",
    "    for x in number_list:\n",
    "        square_list.append(x**2)\n",
    "        \n",
    "    return square_list\n",
    "\n",
    "numbers =[2,4,6,8]\n",
    "print('original list:',numbers)\n",
    "print(square_number(numbers))\n",
    "        "
   ]
  },
  {
   "cell_type": "code",
   "execution_count": 13,
   "id": "455529f1-e19c-4896-a4c1-d58f77ee0a08",
   "metadata": {},
   "outputs": [
    {
     "name": "stdout",
     "output_type": "stream",
     "text": [
      "original list: [2, 4, 6, 8]\n",
      "[8, 64, 216, 512]\n"
     ]
    }
   ],
   "source": [
    "def cube_number(num_list):\n",
    "    temp_list=[]\n",
    "    for x in num_list:\n",
    "        temp_list.append(x**3)\n",
    "        \n",
    "    return temp_list\n",
    "\n",
    "num_list =[2,4,6,8]\n",
    "print('original list:',num_list)\n",
    "print(cube_number(num_list))\n",
    "        \n",
    "        "
   ]
  },
  {
   "cell_type": "code",
   "execution_count": 25,
   "id": "2ab5f3a9-16b3-46fa-95b2-8657aceec1ee",
   "metadata": {},
   "outputs": [
    {
     "name": "stdout",
     "output_type": "stream",
     "text": [
      "original list: [2, 3, 4, 5]\n",
      "14\n"
     ]
    }
   ],
   "source": [
    "# make a funcn to give the sum of all elements\n",
    "def sum_list(numbers_list):\n",
    "    sum1=[]\n",
    "    sum1=sum(numbers_list)\n",
    "    return sum1\n",
    "\n",
    "y= [2,3,4,5]\n",
    "print('original list:',y)\n",
    "print(sum_list(y))\n",
    "        "
   ]
  },
  {
   "cell_type": "code",
   "execution_count": 17,
   "id": "0ea05794-2b59-4ca2-bb05-d685f93d5458",
   "metadata": {},
   "outputs": [
    {
     "name": "stdout",
     "output_type": "stream",
     "text": [
      "original list: [2, 3, 4, 5]\n",
      "14\n"
     ]
    }
   ],
   "source": [
    "# make a funcn to give the sum of all elements\n",
    "def sum_list(num_list):\n",
    "    sum=0\n",
    "    for i in num_list:\n",
    "        sum=sum+i\n",
    "    return sum\n",
    "\n",
    "y= [2,3,4,5]\n",
    "print('original list:',y)\n",
    "print(sum_list(y))"
   ]
  },
  {
   "cell_type": "code",
   "execution_count": 27,
   "id": "3d1ed068-6719-4ccb-8e21-eb2619dcab08",
   "metadata": {},
   "outputs": [
    {
     "name": "stdout",
     "output_type": "stream",
     "text": [
      "original: (1, 2, 3, 4, 5)\n"
     ]
    },
    {
     "data": {
      "text/plain": [
       "120"
      ]
     },
     "execution_count": 27,
     "metadata": {},
     "output_type": "execute_result"
    }
   ],
   "source": [
    "# make a funcn to take tuple as an input then give product \n",
    "def product(num):\n",
    "    product=1\n",
    "    for i in num:\n",
    "        product=product*i\n",
    "    return product\n",
    "        \n",
    "\n",
    "num=(1,2,3,4,5)\n",
    "print('original:',num)\n",
    "product(num)\n",
    "\n",
    "\n",
    "\n"
   ]
  },
  {
   "cell_type": "code",
   "execution_count": 70,
   "id": "21f57082-09c4-4899-b7ea-55d140bd00e6",
   "metadata": {},
   "outputs": [
    {
     "name": "stdin",
     "output_type": "stream",
     "text": [
      "ENter a number: /\n"
     ]
    },
    {
     "data": {
      "text/plain": [
       "'Enter a valid number'"
      ]
     },
     "execution_count": 70,
     "metadata": {},
     "output_type": "execute_result"
    }
   ],
   "source": [
    "# make a funcn to check if the number entered is valid and then check if number is even.\n",
    "def even_num(number):\n",
    "    if number.replace('.','').replace('-','').replace('+','').isdigit():\n",
    "        num=float(number)\n",
    "        if num%2==0:\n",
    "            return 'The number is Even'\n",
    "        else:\n",
    "            return'The number is Odd'\n",
    "        \n",
    "    else:\n",
    "         return'Enter a valid number'\n",
    "\n",
    "number=input('ENter a number:')\n",
    "even_num(number)\n"
   ]
  },
  {
   "cell_type": "code",
   "execution_count": 74,
   "id": "ad4b49b0-0243-4ce4-a5f5-9da4e16027ce",
   "metadata": {},
   "outputs": [
    {
     "data": {
      "text/plain": [
       "'Number is even'"
      ]
     },
     "execution_count": 74,
     "metadata": {},
     "output_type": "execute_result"
    }
   ],
   "source": [
    "def is_valid_even(num):\n",
    "    if type(num)==int:\n",
    "        if num%2==0:\n",
    "            return 'Number is even'\n",
    "        else:\n",
    "            return'Number is Odd'\n",
    "\n",
    "    else:\n",
    "        return'Enter a valid Number'\n",
    "\n",
    "\n",
    "is_valid_even(58)\n"
   ]
  },
  {
   "cell_type": "code",
   "execution_count": 76,
   "id": "73fabcb5-4810-4e7a-a0b5-acf552c46de5",
   "metadata": {},
   "outputs": [
    {
     "name": "stdout",
     "output_type": "stream",
     "text": [
      "Number is 10 Category: Number is even\n",
      "Number is 11 Category: Number is Odd\n",
      "Number is 12 Category: Number is even\n",
      "Number is 13 Category: Number is Odd\n",
      "Number is 14 Category: Number is even\n",
      "Number is 15 Category: Number is Odd\n",
      "Number is 16 Category: Number is even\n",
      "Number is 17 Category: Number is Odd\n",
      "Number is 18 Category: Number is even\n",
      "Number is 19 Category: Number is Odd\n"
     ]
    }
   ],
   "source": [
    "for i in range(10,20):\n",
    "        print('Number is',i,'Category:',is_valid_even(i))"
   ]
  },
  {
   "cell_type": "code",
   "execution_count": null,
   "id": "0251b802-739d-4193-9854-387ab5faf4e6",
   "metadata": {},
   "outputs": [],
   "source": []
  },
  {
   "cell_type": "code",
   "execution_count": null,
   "id": "33e8aff2-7c01-4697-9de6-043afe36e51e",
   "metadata": {},
   "outputs": [],
   "source": []
  },
  {
   "cell_type": "code",
   "execution_count": null,
   "id": "24de7d91-ba3f-4a8a-a31c-8efea6f4896e",
   "metadata": {},
   "outputs": [],
   "source": []
  },
  {
   "cell_type": "code",
   "execution_count": null,
   "id": "86c090bf-d554-4349-b452-6f7a842b0d9b",
   "metadata": {},
   "outputs": [],
   "source": [
    "# Default Agruments\n",
    "# Positional Agruments\n",
    "# Keywords Arguments"
   ]
  },
  {
   "cell_type": "code",
   "execution_count": 60,
   "id": "eea6a67c-c196-4568-b16a-98ead27d34a6",
   "metadata": {},
   "outputs": [],
   "source": [
    "def power(a=1,b=1):   # these type of arguments are called defaault arguments\n",
    "    return a**b\n",
    "    "
   ]
  },
  {
   "cell_type": "code",
   "execution_count": 62,
   "id": "1bb69703-1cc2-417c-8c29-8b13033fb1bb",
   "metadata": {},
   "outputs": [
    {
     "data": {
      "text/plain": [
       "1"
      ]
     },
     "execution_count": 62,
     "metadata": {},
     "output_type": "execute_result"
    }
   ],
   "source": [
    "power()"
   ]
  },
  {
   "cell_type": "code",
   "execution_count": 64,
   "id": "40b3f3f3-bcb3-43f1-8245-5afa64194dc2",
   "metadata": {},
   "outputs": [
    {
     "data": {
      "text/plain": [
       "8"
      ]
     },
     "execution_count": 64,
     "metadata": {},
     "output_type": "execute_result"
    }
   ],
   "source": [
    "power(2,3)"
   ]
  },
  {
   "cell_type": "code",
   "execution_count": 66,
   "id": "ea4d8840-8fad-47ef-9cf3-3fd6945d8f23",
   "metadata": {},
   "outputs": [
    {
     "data": {
      "text/plain": [
       "8"
      ]
     },
     "execution_count": 66,
     "metadata": {},
     "output_type": "execute_result"
    }
   ],
   "source": [
    "power(b=3,a=2)"
   ]
  },
  {
   "cell_type": "code",
   "execution_count": 78,
   "id": "c1334e3f-ccea-4ed9-a5c2-87aa10408ebf",
   "metadata": {},
   "outputs": [],
   "source": [
    "def power(c=3.8,b=1):\n",
    "    return c**b"
   ]
  },
  {
   "cell_type": "code",
   "execution_count": 80,
   "id": "c6ad50aa-f043-4c73-b3f8-6f877548f169",
   "metadata": {},
   "outputs": [
    {
     "data": {
      "text/plain": [
       "14.44"
      ]
     },
     "execution_count": 80,
     "metadata": {},
     "output_type": "execute_result"
    }
   ],
   "source": [
    "power(b=2)"
   ]
  },
  {
   "cell_type": "code",
   "execution_count": 84,
   "id": "cbd52e54-a6c0-4d98-8434-e691ca172ce7",
   "metadata": {},
   "outputs": [
    {
     "data": {
      "text/plain": [
       "(2, 3, 4, 5, 6)"
      ]
     },
     "execution_count": 84,
     "metadata": {},
     "output_type": "execute_result"
    }
   ],
   "source": [
    "a=(2,3,4,5,6)\n",
    "a"
   ]
  },
  {
   "cell_type": "code",
   "execution_count": 86,
   "id": "b8ddb0f6-0f65-4586-8c09-43cff437b93f",
   "metadata": {},
   "outputs": [
    {
     "data": {
      "text/plain": [
       "(2, 3, 4, 5, 6)"
      ]
     },
     "execution_count": 86,
     "metadata": {},
     "output_type": "execute_result"
    }
   ],
   "source": [
    "a,b,c,d,e=(2,3,4,5,6)\n",
    "a,b,c,d,e"
   ]
  },
  {
   "cell_type": "code",
   "execution_count": 90,
   "id": "ecb07b12-60e6-472b-ac3d-b5d0c5be083a",
   "metadata": {},
   "outputs": [
    {
     "data": {
      "text/plain": [
       "(2, 3, [4, 5, 6])"
      ]
     },
     "execution_count": 90,
     "metadata": {},
     "output_type": "execute_result"
    }
   ],
   "source": [
    "a,b,*others=(2,3,4,5,6)\n",
    "a,b,others"
   ]
  },
  {
   "cell_type": "code",
   "execution_count": 92,
   "id": "5218525d-7c5c-4a9b-8f96-f760a2503c94",
   "metadata": {},
   "outputs": [],
   "source": [
    "# *args , *keywargs\n",
    "\n",
    "def product(*args):\n",
    "    product=1\n",
    "    for i in args:\n",
    "        product=product*i\n",
    "\n",
    "    print(args)\n",
    "    return product\n"
   ]
  },
  {
   "cell_type": "code",
   "execution_count": 94,
   "id": "4909312b-1e94-40d7-9ad7-ea25670b5009",
   "metadata": {},
   "outputs": [
    {
     "name": "stdout",
     "output_type": "stream",
     "text": [
      "(2, 3, 4, 5, 2, 3, 4, 5, 2, 3, 4, 5)\n"
     ]
    },
    {
     "data": {
      "text/plain": [
       "1728000"
      ]
     },
     "execution_count": 94,
     "metadata": {},
     "output_type": "execute_result"
    }
   ],
   "source": [
    "product(2,3,4,5,2,3,4,5,2,3,4,5)"
   ]
  },
  {
   "cell_type": "code",
   "execution_count": 96,
   "id": "ef216271-85c5-49ba-9363-93acc32a0d1a",
   "metadata": {},
   "outputs": [
    {
     "name": "stdin",
     "output_type": "stream",
     "text": [
      "Enter your Name: sumaiya khan\n",
      "Enter your age: 29\n",
      "Enter your gender: female\n",
      "Enter your profession: housewife\n"
     ]
    },
    {
     "name": "stdout",
     "output_type": "stream",
     "text": [
      "('sumaiya khan', '29', 'female', 'housewife')\n"
     ]
    }
   ],
   "source": [
    "def profile(*args):\n",
    "    print(args)\n",
    "\n",
    "full_name=input('Enter your Name:')\n",
    "age= input('Enter your age:')\n",
    "gender=input('Enter your gender:')\n",
    "profession=input('Enter your profession:')\n",
    "profile(full_name,age,gender,profession)\n",
    "\n",
    "    "
   ]
  },
  {
   "cell_type": "code",
   "execution_count": 106,
   "id": "e87f1888-3f86-4b9b-be86-28eb65bb3063",
   "metadata": {},
   "outputs": [
    {
     "name": "stdin",
     "output_type": "stream",
     "text": [
      "Enter your Name: Sumaiya\n",
      "Enter your age: 29\n",
      "Enter your gender: Female\n",
      "Enter your profession: Houeswife\n"
     ]
    },
    {
     "name": "stdout",
     "output_type": "stream",
     "text": [
      "name -----> Sumaiya\n",
      "age -----> 29\n",
      "gender -----> Female\n",
      "profession -----> Houeswife\n"
     ]
    }
   ],
   "source": [
    "def user_details(**kwargs):\n",
    "    for key,value in kwargs.items():\n",
    "        print(key,'----->',value)\n",
    "    \n",
    "\n",
    "name=input('Enter your Name:')\n",
    "age= input('Enter your age:')\n",
    "gender=input('Enter your gender:')\n",
    "profession=input('Enter your profession:')\n",
    "user_details(name=name,age=age,gender=gender,profession=profession)\n"
   ]
  },
  {
   "cell_type": "code",
   "execution_count": 108,
   "id": "8b1a91fb-9df4-483c-8e51-2b6226d187f5",
   "metadata": {},
   "outputs": [],
   "source": [
    "def capitals_of_country(**kwargs):\n",
    "    for key,value in kwargs.items():\n",
    "        print(key,'---->',value)\n"
   ]
  },
  {
   "cell_type": "code",
   "execution_count": 110,
   "id": "0e0ca873-b4fc-4a6c-b98a-b05fed660b3d",
   "metadata": {},
   "outputs": [
    {
     "name": "stdout",
     "output_type": "stream",
     "text": [
      "Pakistan ----> Islamabad\n",
      "India ----> Delhi\n",
      "Bangladesh ----> Dhaka\n"
     ]
    }
   ],
   "source": [
    "capitals_of_country(Pakistan='Islamabad',India='Delhi',Bangladesh='Dhaka')"
   ]
  },
  {
   "cell_type": "code",
   "execution_count": 112,
   "id": "8f1eb9b0-1556-4dfa-8200-7c4901343133",
   "metadata": {},
   "outputs": [],
   "source": [
    "def school(**kwargs):\n",
    "    for key,value in kwargs.items():\n",
    "        print(key,'----->',value)\n",
    "        "
   ]
  },
  {
   "cell_type": "code",
   "execution_count": 120,
   "id": "5f0b8bd2-09aa-4fe6-960e-90398b217c71",
   "metadata": {},
   "outputs": [
    {
     "name": "stdin",
     "output_type": "stream",
     "text": [
      "Enter your school: MEIS\n",
      "Enter your university: NED\n",
      "Enter your graduation: Electrical\n"
     ]
    },
    {
     "name": "stdout",
     "output_type": "stream",
     "text": [
      "my_school -----> MEIS\n",
      "my_university -----> NED\n",
      "graduation -----> Electrical\n"
     ]
    }
   ],
   "source": [
    "my_school=input('Enter your school:')\n",
    "my_university= input('Enter your university:')\n",
    "graduation=input('Enter your graduation:')\n",
    "user_details(my_school=my_school,my_university=my_university,graduation=graduation)"
   ]
  },
  {
   "cell_type": "code",
   "execution_count": 116,
   "id": "c28f6fac-4274-42bd-a6b7-9e147a4334c4",
   "metadata": {},
   "outputs": [
    {
     "name": "stdout",
     "output_type": "stream",
     "text": [
      "None\n",
      "[1, 2, 3, 4, 5]\n"
     ]
    }
   ],
   "source": [
    "list=[1,2,3,4]\n",
    "print(list.append(5))\n",
    "print(list)"
   ]
  },
  {
   "cell_type": "code",
   "execution_count": null,
   "id": "9c6d2ab3-7c9a-4cb2-b160-7f0ae32527cb",
   "metadata": {},
   "outputs": [],
   "source": []
  }
 ],
 "metadata": {
  "kernelspec": {
   "display_name": "Python 3 (ipykernel)",
   "language": "python",
   "name": "python3"
  },
  "language_info": {
   "codemirror_mode": {
    "name": "ipython",
    "version": 3
   },
   "file_extension": ".py",
   "mimetype": "text/x-python",
   "name": "python",
   "nbconvert_exporter": "python",
   "pygments_lexer": "ipython3",
   "version": "3.12.4"
  }
 },
 "nbformat": 4,
 "nbformat_minor": 5
}

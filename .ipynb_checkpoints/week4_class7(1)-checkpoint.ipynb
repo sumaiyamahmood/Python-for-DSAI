{
 "cells": [
  {
   "cell_type": "markdown",
   "id": "cc78bd4b-e689-4e0b-8ed9-edd05d770ebe",
   "metadata": {},
   "source": [
    "# CONDITIONAL STATEMENTS\n"
   ]
  },
  {
   "cell_type": "code",
   "execution_count": 26,
   "id": "f6295d31-6e13-4f2d-a3b4-ea9a7c63ba6b",
   "metadata": {},
   "outputs": [
    {
     "name": "stdout",
     "output_type": "stream",
     "text": [
      "you can not cast a vote\n",
      "I am outside if block\n"
     ]
    }
   ],
   "source": [
    "# Conditional statements\n",
    "# If ,else\n",
    "\n",
    "age = 18\n",
    "if age>18:\n",
    "    print('you can cast a vote')\n",
    "\n",
    "else:\n",
    "    print('you can not cast a vote')\n",
    "\n",
    "print('I am outside if block')"
   ]
  },
  {
   "cell_type": "code",
   "execution_count": 24,
   "id": "bd8ba62b-78da-4580-8208-77184b9c9973",
   "metadata": {},
   "outputs": [
    {
     "name": "stdin",
     "output_type": "stream",
     "text": [
      "Enter your age: 8\n"
     ]
    },
    {
     "name": "stdout",
     "output_type": "stream",
     "text": [
      "You cannot cast a vote\n"
     ]
    }
   ],
   "source": [
    "age = float(input('Enter your age:'))\n",
    "if age>18:\n",
    "    print('You can cast a vote and your age is greater than 18')\n",
    "\n",
    "elif age== 18:\n",
    "    print('You are 18 years old')\n",
    "\n",
    "else:\n",
    "    print('You cannot cast a vote')"
   ]
  },
  {
   "cell_type": "code",
   "execution_count": null,
   "id": "cf9ab16e-a19c-44ca-a257-07c41292c7b6",
   "metadata": {},
   "outputs": [],
   "source": []
  }
 ],
 "metadata": {
  "kernelspec": {
   "display_name": "Python 3 (ipykernel)",
   "language": "python",
   "name": "python3"
  },
  "language_info": {
   "codemirror_mode": {
    "name": "ipython",
    "version": 3
   },
   "file_extension": ".py",
   "mimetype": "text/x-python",
   "name": "python",
   "nbconvert_exporter": "python",
   "pygments_lexer": "ipython3",
   "version": "3.12.4"
  }
 },
 "nbformat": 4,
 "nbformat_minor": 5
}

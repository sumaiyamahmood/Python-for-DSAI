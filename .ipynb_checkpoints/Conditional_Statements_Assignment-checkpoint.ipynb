{
 "cells": [
  {
   "cell_type": "markdown",
   "id": "812a5544-6920-4c7e-8ada-cdce784ccd76",
   "metadata": {},
   "source": [
    "## Question 1"
   ]
  },
  {
   "cell_type": "code",
   "execution_count": 8,
   "id": "4853ae58-aaf1-4091-a329-be61821bb8cf",
   "metadata": {},
   "outputs": [
    {
     "name": "stdin",
     "output_type": "stream",
     "text": [
      "Enter your desired number: 66\n"
     ]
    },
    {
     "name": "stdout",
     "output_type": "stream",
     "text": [
      "Number is divisible by 3\n"
     ]
    }
   ],
   "source": [
    "#Write a program to check whether the given input number is divisible by 3 or else\n",
    "#show a message “Number is not divisible by 3”.\n",
    "\n",
    "num=int(input('Enter your desired number:'))\n",
    "\n",
    "if num%3==0:\n",
    "    print('Number is divisible by 3')\n",
    "else:\n",
    "    print('Number is not divisible by 3')\n",
    "\n"
   ]
  },
  {
   "cell_type": "markdown",
   "id": "78fc8f58-192d-4ba7-9f4a-0b3cd5787c98",
   "metadata": {},
   "source": [
    "## Question 2"
   ]
  },
  {
   "cell_type": "code",
   "execution_count": 23,
   "id": "caeae13f-04ab-4d1a-ab61-c38c7b6e593f",
   "metadata": {},
   "outputs": [
    {
     "name": "stdin",
     "output_type": "stream",
     "text": [
      "Enter a number: 82\n"
     ]
    },
    {
     "name": "stdout",
     "output_type": "stream",
     "text": [
      "Number is Even\n"
     ]
    }
   ],
   "source": [
    "#Write a program that checks whether the given input is an even number or an\n",
    "#odd number.\n",
    "\n",
    "number=int(input('Enter a number:'))\n",
    "\n",
    "if number%2==0:\n",
    "    print('Number is Even')\n",
    "else:\n",
    "    print('Number is Odd')\n",
    "\n"
   ]
  },
  {
   "cell_type": "markdown",
   "id": "baade892-5256-4145-9798-1ca5534423f8",
   "metadata": {},
   "source": [
    "## Question 3"
   ]
  },
  {
   "cell_type": "code",
   "execution_count": 26,
   "id": "a2fba051-407a-4e26-8964-768afdc82f37",
   "metadata": {},
   "outputs": [
    {
     "name": "stdin",
     "output_type": "stream",
     "text": [
      "Enter your age: 25\n"
     ]
    },
    {
     "name": "stdout",
     "output_type": "stream",
     "text": [
      "Old enough\n"
     ]
    }
   ],
   "source": [
    "#Write an if/else statement with the following condition:\n",
    "#If the variable age is greater than 18, output \"Old enough\", otherwise output \"Too young\".\n",
    "\n",
    "age =int(input('Enter your age:'))\n",
    "if age>18:\n",
    "    print('Old enough')\n",
    "else:\n",
    "    print('Too young')\n",
    "\n"
   ]
  },
  {
   "cell_type": "markdown",
   "id": "e21ec493-e3fd-4d20-ae2d-7220e980725d",
   "metadata": {},
   "source": [
    "## Question 4"
   ]
  },
  {
   "cell_type": "code",
   "execution_count": 35,
   "id": "97ae28f7-b779-4a30-acc8-8d672a37cc83",
   "metadata": {},
   "outputs": [
    {
     "name": "stdin",
     "output_type": "stream",
     "text": [
      "Enter your name: Ahmed\n"
     ]
    }
   ],
   "source": [
    "#Write a program that prompts the user for their name, and then displays a special\n",
    "#greeting to that person if their name is the same as yours. If the name entered by the\n",
    "#user is anything other than your name, your code should not produce any output.\n",
    "\n",
    "name= input('Enter your name:')\n",
    "if name =='Sumaiya' :\n",
    "    print('Hello Sumaiya, Good Morning!')\n"
   ]
  },
  {
   "cell_type": "markdown",
   "id": "4130e602-d731-4d9f-9e3b-68121fd4e6ad",
   "metadata": {},
   "source": [
    "## Question 5"
   ]
  },
  {
   "cell_type": "code",
   "execution_count": 45,
   "id": "adfb276c-9b33-472c-a882-f8fbec3839aa",
   "metadata": {},
   "outputs": [
    {
     "name": "stdin",
     "output_type": "stream",
     "text": [
      "Enter a calendar year(YYYY): 2024\n"
     ]
    },
    {
     "name": "stdout",
     "output_type": "stream",
     "text": [
      "2024 is a leap Year\n"
     ]
    }
   ],
   "source": [
    "#Write a program that takes a calendar year in YYYY format in a variable. Check & \n",
    "#notify the user whether it is a leap year or not.\n",
    "\n",
    "year = int(input('Enter a calendar year(YYYY):'))\n",
    "if year%4==0 and year%100!=0:\n",
    "    print(year,'is a leap Year')\n",
    "else:\n",
    "    print(year,'is not a leap Year')\n",
    "    "
   ]
  },
  {
   "cell_type": "markdown",
   "id": "26596170-532e-4e1f-8206-bde691604ba3",
   "metadata": {},
   "source": [
    "## Question 6"
   ]
  },
  {
   "cell_type": "code",
   "execution_count": 51,
   "id": "1d700954-892d-464a-b6fc-421637f50347",
   "metadata": {},
   "outputs": [
    {
     "name": "stdin",
     "output_type": "stream",
     "text": [
      "Enter your first number: 3\n",
      "Enter your second number: 3\n"
     ]
    },
    {
     "name": "stdout",
     "output_type": "stream",
     "text": [
      "Both numbers are equal\n"
     ]
    }
   ],
   "source": [
    "#Write a program that accept two integers and display the larger. Also\n",
    "#show if the two integers are equal.\n",
    "\n",
    "num1=int(input('Enter your first number:'))\n",
    "num2=int(input('Enter your second number:'))\n",
    "\n",
    "if num1>num2:\n",
    "    print(num1,'is greater')\n",
    "elif num2>num1:\n",
    "    print(num2,'is greater')\n",
    "else:\n",
    "    print('Both numbers are equal')\n",
    "\n"
   ]
  },
  {
   "cell_type": "markdown",
   "id": "899e91aa-a209-48e6-8045-ab160bb45cad",
   "metadata": {},
   "source": [
    "## Question 7"
   ]
  },
  {
   "cell_type": "code",
   "execution_count": 58,
   "id": "18590ad4-7131-41d1-bd8f-cb81a35cb779",
   "metadata": {},
   "outputs": [
    {
     "name": "stdin",
     "output_type": "stream",
     "text": [
      "Enter your desired number: 0\n"
     ]
    },
    {
     "name": "stdout",
     "output_type": "stream",
     "text": [
      "The number is zero\n"
     ]
    }
   ],
   "source": [
    "#Write a program that takes input a number from user & state whether the\n",
    "#number is positive, negative or zero.\n",
    "\n",
    "user_input=int(input('Enter your desired number:'))\n",
    "\n",
    "if user_input>0:\n",
    "    print('The number is Positive')\n",
    "elif user_input==0:\n",
    "    print('The number is zero')\n",
    "else:\n",
    "    print('The number is Negative')"
   ]
  },
  {
   "cell_type": "markdown",
   "id": "8b9ce3ae-1358-4ac4-b3b5-4263c6175acc",
   "metadata": {},
   "source": [
    "## Question 8"
   ]
  },
  {
   "cell_type": "code",
   "execution_count": 15,
   "id": "a9a8d538-3a3c-49b5-9502-c1a977fa9463",
   "metadata": {},
   "outputs": [
    {
     "name": "stdin",
     "output_type": "stream",
     "text": [
      "Enter any alphabet: k\n"
     ]
    },
    {
     "name": "stdout",
     "output_type": "stream",
     "text": [
      "False\n"
     ]
    }
   ],
   "source": [
    "#Write a program that takes a character (i.e. string of length 1) and returns true if\n",
    "#it is a vowel, false otherwise.\n",
    "\n",
    "y=input('Enter any alphabet:')\n",
    "if y in 'aeiou':\n",
    "    print('True')\n",
    "else:\n",
    "    print('False')"
   ]
  },
  {
   "cell_type": "markdown",
   "id": "88b6e3cb-0491-4200-9c22-44024cea24d2",
   "metadata": {},
   "source": [
    "## Question 9"
   ]
  },
  {
   "cell_type": "code",
   "execution_count": 70,
   "id": "2d335ee4-71e6-4491-a420-a24d1ebdc07e",
   "metadata": {},
   "outputs": [
    {
     "name": "stdin",
     "output_type": "stream",
     "text": [
      "Enter your age: 29\n"
     ]
    },
    {
     "name": "stdout",
     "output_type": "stream",
     "text": [
      "Old enough\n"
     ]
    }
   ],
   "source": [
    "#Use a conditional (ternary) operator for this exercise:\n",
    "#If the variable age is a value below 18, the value of the variable voteable should be \"Too young\", \n",
    "#otherwise the value of voteable should be \"Old enough\".\n",
    "\n",
    "age=int(input('Enter your age:'))\n",
    "\n",
    "voteable = 'Too young' if age<18 else 'Old enough'\n",
    "\n",
    "print(voteable)"
   ]
  },
  {
   "cell_type": "markdown",
   "id": "3cdfe9ca-aae6-4a02-ba8a-002f94ddf920",
   "metadata": {},
   "source": [
    "## Question 10"
   ]
  },
  {
   "cell_type": "code",
   "execution_count": 79,
   "id": "c1392e1b-2c46-4f36-9441-722e8aff870f",
   "metadata": {},
   "outputs": [
    {
     "name": "stdin",
     "output_type": "stream",
     "text": [
      "Enter your password: 1235\n"
     ]
    },
    {
     "name": "stdout",
     "output_type": "stream",
     "text": [
      "Incorrect password\n"
     ]
    }
   ],
   "source": [
    "#Write a program that\n",
    "# a) Store correct password in a variable.\n",
    "# b) Asks user to enter his/her password\n",
    "# c) Validate the two passwords:\n",
    "#    i. Check if user has entered password. If not, then give message “ Please enter your password”\n",
    "#    ii. Check if both passwords are same. If they are same, show message “Correct! The password you entered matches the original password”.\n",
    "#    iii. Show “Incorrect password” otherwise.\n",
    "\n",
    "password = 'abc12345'\n",
    "user_password = input('Enter your password:')\n",
    "if user_password=='':\n",
    "    print('Please enter your password')\n",
    "elif user_password==password:\n",
    "    print('Correct! The password your entered matches the original password')\n",
    "else:\n",
    "    print('Incorrect password')"
   ]
  },
  {
   "cell_type": "markdown",
   "id": "c5c57d9f-492b-4bcb-a1e4-e78014373ed3",
   "metadata": {},
   "source": [
    "## Question 11"
   ]
  },
  {
   "cell_type": "code",
   "execution_count": 13,
   "id": "50aa1c30-691b-4614-8162-67c20956a048",
   "metadata": {},
   "outputs": [
    {
     "name": "stdin",
     "output_type": "stream",
     "text": [
      "Enter time in 24 hr format(HHMM): 2200\n"
     ]
    },
    {
     "name": "stdout",
     "output_type": "stream",
     "text": [
      "Good Night!\n"
     ]
    }
   ],
   "source": [
    "time = int(input('Enter time in 24 hr format(HHMM):'))\n",
    "if time>=0000 and time<1200:\n",
    "    print('Good Morning!')\n",
    "elif time>=1200 and time<1700:\n",
    "    print('Good Afternoon!')\n",
    "elif time>=1700 and time<2100:\n",
    "    print('Good Evening!')\n",
    "elif time>=2100 and time<=2359:\n",
    "    print('Good Night!')"
   ]
  },
  {
   "cell_type": "code",
   "execution_count": null,
   "id": "1b7cfc60-e9e0-4fb6-8c94-c7e705dad4e1",
   "metadata": {},
   "outputs": [],
   "source": []
  }
 ],
 "metadata": {
  "kernelspec": {
   "display_name": "Python 3 (ipykernel)",
   "language": "python",
   "name": "python3"
  },
  "language_info": {
   "codemirror_mode": {
    "name": "ipython",
    "version": 3
   },
   "file_extension": ".py",
   "mimetype": "text/x-python",
   "name": "python",
   "nbconvert_exporter": "python",
   "pygments_lexer": "ipython3",
   "version": "3.12.4"
  }
 },
 "nbformat": 4,
 "nbformat_minor": 5
}

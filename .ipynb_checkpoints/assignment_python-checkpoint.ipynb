{
 "cells": [
  {
   "cell_type": "markdown",
   "id": "c738cee1-43e1-4db7-ab83-95b30d891b66",
   "metadata": {},
   "source": [
    "## Question 1"
   ]
  },
  {
   "cell_type": "code",
   "execution_count": 2,
   "id": "f405691c-575c-445e-b839-00b202021e79",
   "metadata": {},
   "outputs": [
    {
     "name": "stdout",
     "output_type": "stream",
     "text": [
      "1\n",
      "2\n",
      "3\n",
      "4\n",
      "5\n",
      "6\n",
      "7\n",
      "8\n",
      "9\n",
      "10\n"
     ]
    }
   ],
   "source": [
    "# Write a Python program to print the numbers from 1 to 10 using a for loop.\n",
    "\n",
    "for i in range(1,11):\n",
    "    print(i)"
   ]
  },
  {
   "cell_type": "markdown",
   "id": "579106df-7a64-4c29-8804-623606ea5af1",
   "metadata": {},
   "source": [
    "## Question 2"
   ]
  },
  {
   "cell_type": "code",
   "execution_count": 9,
   "id": "83936fae-f990-40c2-a652-1d8f5c8a0032",
   "metadata": {},
   "outputs": [
    {
     "name": "stdout",
     "output_type": "stream",
     "text": [
      "1\n",
      "2\n",
      "3\n",
      "4\n",
      "5\n"
     ]
    }
   ],
   "source": [
    "# Create a list containing the numbers 1 to 5. Then, using a for loop, print each element of the list.\n",
    "\n",
    "numbers = [1,2,3,4,5]\n",
    "for num in numbers:\n",
    "    print(num)"
   ]
  },
  {
   "cell_type": "markdown",
   "id": "be6653bd-f6cb-4a0a-b464-108d808e24c8",
   "metadata": {},
   "source": [
    "## Question 3"
   ]
  },
  {
   "cell_type": "code",
   "execution_count": 16,
   "id": "e3e1d1ad-45cf-4c40-949e-d2447ac5492d",
   "metadata": {},
   "outputs": [
    {
     "name": "stdout",
     "output_type": "stream",
     "text": [
      "The sum of all numbers in list is: 21\n"
     ]
    }
   ],
   "source": [
    "# Write a program that takes a list of numbers and returns the sum of all the numbers in the list.\n",
    "\n",
    "def sum_of_list(num):\n",
    "    return sum(num)\n",
    "\n",
    "num=[1,2,3,4,5,6]\n",
    "result = sum_of_list(num)\n",
    "print('The sum of all numbers in list is:',result)\n"
   ]
  },
  {
   "cell_type": "markdown",
   "id": "9e32ba0b-0356-4bbc-8ca9-b8e5b4412414",
   "metadata": {},
   "source": [
    "## Question 4"
   ]
  },
  {
   "cell_type": "code",
   "execution_count": 19,
   "id": "64d770e4-9124-4d77-aca5-c6d5e4ec80f1",
   "metadata": {},
   "outputs": [
    {
     "name": "stdout",
     "output_type": "stream",
     "text": [
      "sumaiya"
     ]
    }
   ],
   "source": [
    "# Given a list of strings, write a program to concatenate all the strings into one.\n",
    "\n",
    "name =['s','u','m','a','i','y','a']\n",
    "for i in name:\n",
    "    print(i,end='')\n",
    "\n"
   ]
  },
  {
   "cell_type": "markdown",
   "id": "1b4ae5eb-ecdd-4bb8-bbbc-07442454457e",
   "metadata": {},
   "source": [
    "## Question 5"
   ]
  },
  {
   "cell_type": "code",
   "execution_count": 24,
   "id": "5537cf6f-a086-4a22-b0ed-1f2e73efa3e4",
   "metadata": {},
   "outputs": [
    {
     "name": "stdout",
     "output_type": "stream",
     "text": [
      "The largest number in the list is: 20\n"
     ]
    }
   ],
   "source": [
    "# Write a program that takes a list of numbers and returns the largest number in the list.\n",
    "\n",
    "def largest_num_inlist(num):\n",
    "    return max(num)\n",
    "\n",
    "x= [2,8,10,14,20]\n",
    "res=largest_num_inlist(x)\n",
    "print('The largest number in the list is:',res)"
   ]
  },
  {
   "cell_type": "markdown",
   "id": "f8b6e51e-a5f5-4eb1-a5cf-36a15c4bc10b",
   "metadata": {},
   "source": [
    "## Question 6"
   ]
  },
  {
   "cell_type": "code",
   "execution_count": 72,
   "id": "7b8b35eb-28c3-487c-90c6-bf325973d6ea",
   "metadata": {},
   "outputs": [
    {
     "name": "stdout",
     "output_type": "stream",
     "text": [
      "[1, 4, 9, 16, 25, 36, 49, 64, 81, 100]\n"
     ]
    }
   ],
   "source": [
    "# Create a list containing the numbers 1 to 10. Using a for loop, square each number in the list and print the result.\n",
    "\n",
    "def square(numbers):\n",
    "    square_list=[]\n",
    "    for num in numbers:\n",
    "        square_list.append(num**2)\n",
    "        \n",
    "    return square_list\n",
    "\n",
    "\n",
    "\n",
    "numbers=[1,2,3,4,5,6,7,8,9,10]\n",
    "print(square(numbers))\n",
    "    "
   ]
  },
  {
   "cell_type": "markdown",
   "id": "ff32f3d6-c98e-4a2f-8157-a9532e0b2b1f",
   "metadata": {},
   "source": [
    "## Question 7"
   ]
  },
  {
   "cell_type": "code",
   "execution_count": 40,
   "id": "9a7fd97a-68cb-4a28-b30e-854cb129ff39",
   "metadata": {},
   "outputs": [
    {
     "name": "stdout",
     "output_type": "stream",
     "text": [
      "Even number list: [2, 4, 6, 8, 10]\n"
     ]
    }
   ],
   "source": [
    "# Write a program that takes a list of numbers and returns a new list containing only the even numbers from the original list.\n",
    "\n",
    "def even_numberlist(x):\n",
    "    even_number= [i for i in x if i%2==0]\n",
    "    return even_number\n",
    "\n",
    "num1=[1,2,3,4,5,6,7,8,9,10]\n",
    "result = even_numberlist(num1)\n",
    "print('Even number list:',result)\n"
   ]
  },
  {
   "cell_type": "markdown",
   "id": "8056a2e1-e8e9-41a5-a46c-96aa8e1bebfe",
   "metadata": {},
   "source": [
    "## Question 8"
   ]
  },
  {
   "cell_type": "code",
   "execution_count": 106,
   "id": "92d7490f-17af-4c48-b549-212424908477",
   "metadata": {},
   "outputs": [
    {
     "name": "stdout",
     "output_type": "stream",
     "text": [
      "Element-wise addition: [3, 7, 11, 15, 19]\n"
     ]
    }
   ],
   "source": [
    "# Write a program that takes a list of strings and returns a new list containing the lengths of each string.\n",
    "\n",
    "def element_wise_addition(list1,list2):\n",
    "    combine_list=[list1[i]+list2[i] for i in range(len(list1))]\n",
    "    return combine_list\n",
    "\n",
    "num_1=[1,3,5,7,9]\n",
    "num_2=[2,4,6,8,10]\n",
    "result= element_wise_addition(num_1,num_2)\n",
    "print('Element-wise addition:',result)\n"
   ]
  },
  {
   "cell_type": "markdown",
   "id": "3ef92c97-7b16-4aaa-aab1-38ba711f9a27",
   "metadata": {},
   "source": [
    "## Question 9"
   ]
  },
  {
   "cell_type": "code",
   "execution_count": 116,
   "id": "1fd3e4a9-4b64-4b39-935d-67e07af7861b",
   "metadata": {},
   "outputs": [
    {
     "name": "stdout",
     "output_type": "stream",
     "text": [
      "The lengths of each string are: [7, 6, 4, 5]\n"
     ]
    }
   ],
   "source": [
    "# Write a program that takes a list of strings and returns a new list containing the lengths of each string.\n",
    "\n",
    "def length_of_string(strings):\n",
    "    length=[]\n",
    "    for x in strings:\n",
    "        length.append(len(x))\n",
    "        \n",
    "    return length\n",
    "\n",
    "name = ['sumaiya','sundus','musa','warda']\n",
    "result = length_of_string(name)\n",
    "print('The lengths of each string are:',result)"
   ]
  },
  {
   "cell_type": "markdown",
   "id": "78eb16cd-3022-463e-9d0f-460c0896cbaf",
   "metadata": {},
   "source": [
    "## Question 10"
   ]
  },
  {
   "cell_type": "code",
   "execution_count": 61,
   "id": "d18e8767-0cd2-4f99-9812-ae3b9d08e83a",
   "metadata": {},
   "outputs": [
    {
     "name": "stdout",
     "output_type": "stream",
     "text": [
      "1\n",
      "3\n",
      "5\n",
      "7\n",
      "9\n"
     ]
    }
   ],
   "source": [
    "#Create a list of numbers from 1 to 10. Using list slicing and a for loop, print every second element of the list.\n",
    "\n",
    "nm=[1,2,3,4,5,6,7,8,9,10]\n",
    "x=nm[0::2]\n",
    "for num in x:\n",
    "    print(num)"
   ]
  },
  {
   "cell_type": "code",
   "execution_count": null,
   "id": "84028e5d-7dd1-4704-b788-773dd0e98eb6",
   "metadata": {},
   "outputs": [],
   "source": []
  }
 ],
 "metadata": {
  "kernelspec": {
   "display_name": "Python 3 (ipykernel)",
   "language": "python",
   "name": "python3"
  },
  "language_info": {
   "codemirror_mode": {
    "name": "ipython",
    "version": 3
   },
   "file_extension": ".py",
   "mimetype": "text/x-python",
   "name": "python",
   "nbconvert_exporter": "python",
   "pygments_lexer": "ipython3",
   "version": "3.12.4"
  }
 },
 "nbformat": 4,
 "nbformat_minor": 5
}

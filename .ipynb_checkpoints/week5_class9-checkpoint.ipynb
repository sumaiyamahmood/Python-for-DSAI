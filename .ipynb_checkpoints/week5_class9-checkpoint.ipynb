{
 "cells": [
  {
   "cell_type": "code",
   "execution_count": 1,
   "id": "cdd41efb-6163-449d-ba87-11dde446ead0",
   "metadata": {},
   "outputs": [
    {
     "name": "stdin",
     "output_type": "stream",
     "text": [
      "Enter your email:  abc@gmail.com\n",
      "Enter your password: 12345\n"
     ]
    },
    {
     "name": "stdout",
     "output_type": "stream",
     "text": [
      "welcome to dashboard\n"
     ]
    }
   ],
   "source": [
    "#username = 'sajid@gmail.com' and password = '12345'\n",
    "\n",
    "username = input('Enter your email: ')\n",
    "password = input('Enter your password:')\n",
    "\n",
    "if username == 'abc@gmail.com' and password == '12345':\n",
    "    print('welcome to dashboard')\n",
    "\n",
    "elif username == 'abc@gmail.com' and password != '12345':\n",
    "    print('Password is incorrect. Re-enter your password')\n",
    "    password = input('Enter password again')\n",
    "    if password=='12345':\n",
    "        print('Now welcome after one attempt')\n",
    "    else:\n",
    "        print('Your password is Incorrect')\n",
    "\n",
    "else:\n",
    "    print('Enter correct credentials')\n",
    "    "
   ]
  },
  {
   "cell_type": "code",
   "execution_count": 21,
   "id": "6310f86a-fe6e-4969-bc45-75db521b48e6",
   "metadata": {},
   "outputs": [
    {
     "name": "stdin",
     "output_type": "stream",
     "text": [
      "Enter your email:  abc@gmail.com\n",
      "Enter your password: 1234\n"
     ]
    },
    {
     "name": "stdout",
     "output_type": "stream",
     "text": [
      "Password is incorrect. Re-enter your password\n"
     ]
    },
    {
     "name": "stdin",
     "output_type": "stream",
     "text": [
      "Enter password again 12345\n"
     ]
    },
    {
     "name": "stdout",
     "output_type": "stream",
     "text": [
      "Now welcome after one attempt\n"
     ]
    }
   ],
   "source": [
    "username = input('Enter your email: ')\n",
    "if '@' in username:\n",
    "    password = input('Enter your password:')\n",
    "    if username == 'abc@gmail.com' and password == '12345':\n",
    "        print('welcome to dashboard')\n",
    "\n",
    "    elif username == 'abc@gmail.com' and password != '12345':\n",
    "        print('Password is incorrect. Re-enter your password')\n",
    "        password = input('Enter password again')\n",
    "        if password=='12345':\n",
    "            print('Now welcome after one attempt')\n",
    "        else:\n",
    "            print('Your password is Incorrect')\n",
    "\n",
    "    else:\n",
    "        print('Enter correct credentials')\n",
    "    \n",
    "else:\n",
    "    print('Incorrect username')"
   ]
  },
  {
   "cell_type": "code",
   "execution_count": 27,
   "id": "e98a4b98-ddfb-42ec-a952-6abf5ab586f2",
   "metadata": {},
   "outputs": [
    {
     "name": "stdin",
     "output_type": "stream",
     "text": [
      "Enter your units consumed: 200\n"
     ]
    },
    {
     "name": "stdout",
     "output_type": "stream",
     "text": [
      "your electricity bill is : 5350.0\n"
     ]
    }
   ],
   "source": [
    "units = float(input('Enter your units consumed:'))\n",
    "if units < 150:\n",
    "    perunit_charge = 15\n",
    "    fixed_charges=250\n",
    "    \n",
    "elif units>150 and units<250:\n",
    "    perunit_charge = 25\n",
    "    fixed_charges=350\n",
    "elif units>250 and units <350:\n",
    "    perunit_charge =35\n",
    "    fixed_charges=450\n",
    "else:\n",
    "    perunit_charge =45\n",
    "    fixed_charges = 1000\n",
    "total_bill = (units*perunit_charge)+fixed_charges\n",
    "print('your electricity bill is :',total_bill)\n"
   ]
  },
  {
   "cell_type": "code",
   "execution_count": 35,
   "id": "adf045cd-8116-4e8b-8bc3-3fd7dc3784c7",
   "metadata": {},
   "outputs": [
    {
     "name": "stdin",
     "output_type": "stream",
     "text": [
      "Enter your desired Number: 12\n",
      "Enter your desired Number: 15\n",
      "\n",
      "1-Addition\n",
      "2-Substraction\n",
      "3-Multiplication\n",
      "4-Division\n",
      " 5\n"
     ]
    },
    {
     "name": "stdout",
     "output_type": "stream",
     "text": [
      "Select option from the given menu list \n"
     ]
    }
   ],
   "source": [
    "# menu driven program\n",
    "\n",
    "number1 = float(input('Enter your desired Number:'))\n",
    "number2 = float(input('Enter your desired Number:'))\n",
    "\n",
    "\n",
    "option = input('''\n",
    "1-Addition\n",
    "2-Substraction\n",
    "3-Multiplication\n",
    "4-Division\n",
    "''')\n",
    "\n",
    "if option =='1':\n",
    "    print('Addition of',number1,'and',number2,'is:',number1+number2)\n",
    "\n",
    "elif option =='2':\n",
    "    print('Difference of',number1,'and',number2,'is:',number1-number2)\n",
    "\n",
    "elif option =='3':\n",
    "    print('Product of',number1,'and',number2,'is:',number1*number2)\n",
    "\n",
    "elif option =='4':\n",
    "    print('Division of',number1,'and',number2,'is:',number1/number2)\n",
    "\n",
    "else:\n",
    "    print('Select option from the given menu list ')"
   ]
  },
  {
   "cell_type": "markdown",
   "id": "3271d8b7-8706-47a7-bd9c-b5c79c0a87f6",
   "metadata": {},
   "source": [
    "## Iterative statements"
   ]
  },
  {
   "cell_type": "code",
   "execution_count": 40,
   "id": "424f9aa9-b426-43c8-911f-95235f8284dd",
   "metadata": {},
   "outputs": [
    {
     "name": "stdout",
     "output_type": "stream",
     "text": [
      "We are learning python\n"
     ]
    }
   ],
   "source": [
    "print('We are learning python')"
   ]
  },
  {
   "cell_type": "code",
   "execution_count": 46,
   "id": "694665ca-a940-411e-a909-1dc91be75bfa",
   "metadata": {},
   "outputs": [
    {
     "name": "stdout",
     "output_type": "stream",
     "text": [
      "We are learning python\n",
      "We are learning python\n",
      "We are learning python\n",
      "We are learning python\n",
      "We are learning python\n",
      "I am out of loop\n"
     ]
    }
   ],
   "source": [
    "# syntax for loop\n",
    "# while (condition):\n",
    "    # body of a while \n",
    "# outside the body of a while\n",
    "\n",
    "i=0\n",
    "while i<5:\n",
    "    print('We are learning python')\n",
    "    i+=1\n",
    "\n",
    "print('I am out of loop')"
   ]
  },
  {
   "cell_type": "code",
   "execution_count": 52,
   "id": "986882f8-fc5f-41aa-979b-e2fa9074a982",
   "metadata": {},
   "outputs": [
    {
     "name": "stdin",
     "output_type": "stream",
     "text": [
      "Enter a number: 5\n"
     ]
    },
    {
     "name": "stdout",
     "output_type": "stream",
     "text": [
      "5 * 1 = 5\n",
      "5 * 2 = 10\n",
      "5 * 3 = 15\n",
      "5 * 4 = 20\n",
      "5 * 5 = 25\n",
      "5 * 6 = 30\n",
      "5 * 7 = 35\n",
      "5 * 8 = 40\n",
      "5 * 9 = 45\n",
      "5 * 10 = 50\n"
     ]
    }
   ],
   "source": [
    "# take number from user and print its table \n",
    "\n",
    "number = int(input('Enter a number:'))\n",
    "i = 1\n",
    "while i<11:\n",
    "    print(number,'*',i,'=',number*i)\n",
    "    i+=1\n"
   ]
  },
  {
   "cell_type": "code",
   "execution_count": 54,
   "id": "e82cf397-3332-445a-8463-d7e263989434",
   "metadata": {},
   "outputs": [
    {
     "name": "stdout",
     "output_type": "stream",
     "text": [
      "1\n",
      "2\n",
      "3\n"
     ]
    }
   ],
   "source": [
    "i=1\n",
    "while i<10:\n",
    "    print(i)\n",
    "    if i==3:\n",
    "        break\n",
    "    i+=1"
   ]
  },
  {
   "cell_type": "code",
   "execution_count": 56,
   "id": "1d791f17-18a6-40a1-98f3-2238e8d6ce59",
   "metadata": {},
   "outputs": [
    {
     "name": "stdout",
     "output_type": "stream",
     "text": [
      "1\n",
      "2\n",
      "limit crossed\n"
     ]
    }
   ],
   "source": [
    "# while loop with else\n",
    "\n",
    "x=1\n",
    "while x<3:\n",
    "    print(x)\n",
    "    x+=1\n",
    "\n",
    "else:\n",
    "    print('limit crossed')"
   ]
  },
  {
   "cell_type": "code",
   "execution_count": 74,
   "id": "ec2d4f8a-b3f4-4eb1-907b-69ce54fbc778",
   "metadata": {},
   "outputs": [
    {
     "name": "stdout",
     "output_type": "stream",
     "text": [
      "20\n",
      "30\n",
      "40\n",
      "60\n",
      "70\n",
      "80\n"
     ]
    }
   ],
   "source": [
    "num =10 \n",
    "while num<100:\n",
    "    num =num+10\n",
    "    if num==50:\n",
    "        continue\n",
    "    if num ==90:\n",
    "        break\n",
    "    print(num)\n",
    "    "
   ]
  },
  {
   "cell_type": "code",
   "execution_count": null,
   "id": "01bf8bbd-255f-43fe-838f-7dcf4ff3245e",
   "metadata": {},
   "outputs": [],
   "source": []
  }
 ],
 "metadata": {
  "kernelspec": {
   "display_name": "Python 3 (ipykernel)",
   "language": "python",
   "name": "python3"
  },
  "language_info": {
   "codemirror_mode": {
    "name": "ipython",
    "version": 3
   },
   "file_extension": ".py",
   "mimetype": "text/x-python",
   "name": "python",
   "nbconvert_exporter": "python",
   "pygments_lexer": "ipython3",
   "version": "3.12.4"
  }
 },
 "nbformat": 4,
 "nbformat_minor": 5
}

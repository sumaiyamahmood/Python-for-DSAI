{
 "cells": [
  {
   "cell_type": "markdown",
   "id": "2bb1f98d-49ab-4293-87eb-f5dacef21cce",
   "metadata": {},
   "source": [
    "Name: Sumaiya KHAN\n",
    "profession: Housewife\n",
    "organization: \n",
    "contact No: 0332-8202103\n",
    "Email: smk.mahmood95@gmail.com"
   ]
  },
  {
   "cell_type": "code",
   "execution_count": 2,
   "id": "9af80723-3403-40c2-82ac-4a627a5bb19d",
   "metadata": {},
   "outputs": [
    {
     "name": "stdout",
     "output_type": "stream",
     "text": [
      "['apple', 'banana', 'cherry', 'date']\n"
     ]
    }
   ],
   "source": [
    "fruits = ['apple', 'banana', 'cherry', 'date']\n",
    "print(fruits)"
   ]
  },
  {
   "cell_type": "code",
   "execution_count": 5,
   "id": "f708313b-361c-4d90-a89c-39fc9a001f7b",
   "metadata": {},
   "outputs": [
    {
     "name": "stdout",
     "output_type": "stream",
     "text": [
      "['apple', 'banana', 'cherry', 'date', 'elderberry']\n"
     ]
    }
   ],
   "source": [
    "fruits.append('elderberry')\n",
    "print(fruits)"
   ]
  },
  {
   "cell_type": "code",
   "execution_count": 7,
   "id": "5f631ff6-3bff-4698-9c8b-dbe5785a6a89",
   "metadata": {},
   "outputs": [
    {
     "name": "stdout",
     "output_type": "stream",
     "text": [
      "['apple', 'cherry', 'date', 'elderberry']\n"
     ]
    }
   ],
   "source": [
    "fruits.remove('banana')\n",
    "print(fruits)"
   ]
  },
  {
   "cell_type": "code",
   "execution_count": 9,
   "id": "90b8375d-c8ca-4f9c-98cb-482803f63acd",
   "metadata": {},
   "outputs": [
    {
     "name": "stdout",
     "output_type": "stream",
     "text": [
      "['apple', 'cherry', 'elderberry']\n"
     ]
    }
   ],
   "source": [
    "fruits.pop(2)\n",
    "print(fruits)"
   ]
  },
  {
   "cell_type": "markdown",
   "id": "22d15684-b22d-4f1a-9a90-76f1a24a28f5",
   "metadata": {},
   "source": [
    "## QUESTION 2"
   ]
  },
  {
   "cell_type": "code",
   "execution_count": 13,
   "id": "afa80c31-edc8-463a-84bf-6c0eda8cc446",
   "metadata": {},
   "outputs": [
    {
     "name": "stdin",
     "output_type": "stream",
     "text": [
      "Enter your name: Sumaiya\n",
      "Enter your age: 29\n"
     ]
    },
    {
     "name": "stdout",
     "output_type": "stream",
     "text": [
      "Hello Sumaiya , you are 29  years old.\n"
     ]
    }
   ],
   "source": [
    "#Write a Python script that asks the user for their name and age, stores them in variables,\n",
    "#and then prints a message saying \"Hello [name], you are [age] years old.\"\n",
    "\n",
    "name = input('Enter your name:')\n",
    "age = int(input('Enter your age:'))\n",
    "\n",
    "print('Hello',name,', you are',age,' years old.')"
   ]
  },
  {
   "cell_type": "markdown",
   "id": "219bdc41-e54f-4e93-88c6-69842f2cc9f6",
   "metadata": {},
   "source": [
    "## QUESTION 3"
   ]
  },
  {
   "cell_type": "code",
   "execution_count": 25,
   "id": "5f90b448-b79e-4981-b3c0-c36bec7855e4",
   "metadata": {},
   "outputs": [
    {
     "name": "stdin",
     "output_type": "stream",
     "text": [
      "Enter your desired number: 5\n"
     ]
    },
    {
     "name": "stdout",
     "output_type": "stream",
     "text": [
      "The number is Positive\n"
     ]
    }
   ],
   "source": [
    "user_input = input('Enter your desired number:')\n",
    "if user_input.replace('.','').replace('-','').replace('+','').isdigit():\n",
    "    num = float(user_input)\n",
    "    if num>0:\n",
    "        print('The number is Positive')\n",
    "    elif num==0:\n",
    "        print('The number is Zero')\n",
    "    else:\n",
    "        print('The number is Negative')\n",
    "\n",
    "else:\n",
    "    print('Enter a valid number')"
   ]
  },
  {
   "cell_type": "markdown",
   "id": "65fb8087-818d-49cc-873d-90ac3d36f362",
   "metadata": {},
   "source": [
    "## QUESTION 5"
   ]
  },
  {
   "cell_type": "code",
   "execution_count": 29,
   "id": "cc28b410-cf0a-4bd1-a4f0-1f4286868e16",
   "metadata": {},
   "outputs": [
    {
     "name": "stdout",
     "output_type": "stream",
     "text": [
      "The area of circle is: 176.715 m^2\n"
     ]
    }
   ],
   "source": [
    "# The diameter of a circle is 15 meters.\n",
    "#i-Calculate the area of a circle and assign the value to a variable name of area_of_circle\n",
    "#ii- Calculate the circumference of a circle and assign the value to a variable name of\n",
    "#circum_of_circle\n",
    "#iii- Take diameter as user input and calculate the area.\n",
    "\n",
    "import math\n",
    "diameter = 15\n",
    "radius = diameter/2\n",
    "area_of_circle = math.pi * (radius**2)\n",
    "print('The area of circle is:',round(area_of_circle,3),'m^2')\n",
    "    "
   ]
  },
  {
   "cell_type": "code",
   "execution_count": 31,
   "id": "d4ad3107-93f9-45c6-890b-6241f719df49",
   "metadata": {},
   "outputs": [
    {
     "name": "stdout",
     "output_type": "stream",
     "text": [
      "The circumference of circle is: 47.124 meters\n"
     ]
    }
   ],
   "source": [
    "circum_of_circle = 2 * math.pi * radius\n",
    "print('The circumference of circle is:',round(circum_of_circle,3),'meters')"
   ]
  },
  {
   "cell_type": "code",
   "execution_count": 33,
   "id": "18b00571-b99d-4d09-a94b-d540cd58cc51",
   "metadata": {},
   "outputs": [
    {
     "name": "stdin",
     "output_type": "stream",
     "text": [
      "Enter the value of diameter: 4\n"
     ]
    },
    {
     "name": "stdout",
     "output_type": "stream",
     "text": [
      "The area of circle is: 12.57 m^2\n"
     ]
    }
   ],
   "source": [
    "import math\n",
    "diameter_user = float(input('Enter the value of diameter:'))\n",
    "r = diameter_user/2\n",
    "area = math.pi * (r**2)\n",
    "print('The area of circle is:',round(area,2),'m^2')"
   ]
  },
  {
   "cell_type": "markdown",
   "id": "2d2830c5-a566-440d-a804-478d145cc64e",
   "metadata": {},
   "source": [
    "## QUESTION 6"
   ]
  },
  {
   "cell_type": "code",
   "execution_count": 37,
   "id": "075984e2-2661-44ca-9f03-52ad083ca8b1",
   "metadata": {},
   "outputs": [
    {
     "name": "stdout",
     "output_type": "stream",
     "text": [
      "The revenue generated for 29 passengers is $ 5800 and the profit is $ 800\n"
     ]
    }
   ],
   "source": [
    "#A travel company wants to fly a plane to the Bahamas. Flying the plane costs 5000 dollars.\n",
    "#So far, 29 people have signed up for the trip. If the company charges 200 dollars per ticket,\n",
    "#what is the profit made by the company? Create variables for each numeric quantity and use\n",
    "#appropriate arithmetic operations.\n",
    "\n",
    "cost_of_plane = 5000\n",
    "people = 29\n",
    "cost_of_ticket = 200\n",
    "revenue = people * cost_of_ticket\n",
    "profit = revenue - cost_of_plane\n",
    "print('The revenue generated for',people,'passengers is $',revenue,'and the profit is $',profit)\n"
   ]
  },
  {
   "cell_type": "markdown",
   "id": "7e0d9157-5169-42c5-b1c5-c5ef08c62753",
   "metadata": {},
   "source": [
    "## QUESTION 8"
   ]
  },
  {
   "cell_type": "code",
   "execution_count": 45,
   "id": "3faf20f9-0cd8-487c-8955-df5b1f075e39",
   "metadata": {},
   "outputs": [
    {
     "name": "stdin",
     "output_type": "stream",
     "text": [
      "Enter your email: ahmed@gmail.com\n",
      "Enter your username: ahmed@gmail.com\n",
      "Enter your password: 1234\n"
     ]
    },
    {
     "name": "stdout",
     "output_type": "stream",
     "text": [
      "Password is incorrect. Re-enter your password\n"
     ]
    },
    {
     "name": "stdin",
     "output_type": "stream",
     "text": [
      "Enter password again ahmed@321\n"
     ]
    },
    {
     "name": "stdout",
     "output_type": "stream",
     "text": [
      "Now welcome after one attempt\n"
     ]
    }
   ],
   "source": [
    "username = input('Enter your email:')\n",
    "if '@' in username:\n",
    "    username = input('Enter your username:')\n",
    "    password = input('Enter your password:')\n",
    "    if username =='ahmed@gmail.com' and password =='ahmed@321':\n",
    "        print('Welcome to dashboard')\n",
    "    elif username=='ahmed@gmail.com' and password!='ahmed@321':\n",
    "        print('Password is incorrect. Re-enter your password')\n",
    "        password = input('Enter password again')\n",
    "        \n",
    "        if password =='ahmed@321':\n",
    "            print('Now welcome after one attempt')\n",
    "        else:\n",
    "            print('Login has failed')\n",
    "        \n",
    "    else:\n",
    "        print('Enter correct credentials')\n",
    "\n",
    "\n",
    "else:\n",
    "    print('Incorrect username')\n"
   ]
  },
  {
   "cell_type": "markdown",
   "id": "4e501027-752a-4b9d-b5c5-ad1e9efe5232",
   "metadata": {},
   "source": [
    "## QUESTION 9"
   ]
  },
  {
   "cell_type": "code",
   "execution_count": 52,
   "id": "a185fd1a-00ab-47b9-9bcb-60f0524e4197",
   "metadata": {},
   "outputs": [
    {
     "name": "stdout",
     "output_type": "stream",
     "text": [
      "x= 12.5\n",
      "y= 45.8\n",
      "z= 33.1\n"
     ]
    }
   ],
   "source": [
    "# (a) Working with Tuples:\n",
    "#Consider the following tuple:\n",
    "#coordinates = (12.5, 45.8, 33.1)\n",
    "#i. Write a Python code snippet to unpack the values of the coordinates tuple into three variables: x, y, and z.\n",
    "#ii. Explain why tuples are generally preferred over lists for storing fixed sets of data.\n",
    "\n",
    "\n",
    "coordinates = (12.5, 45.8, 33.1)\n",
    "# unpacking\n",
    "x,y,z = (12.5,45.8,33.1)\n",
    "print('x=',x)\n",
    "print('y=',y)\n",
    "print('z=',z)\n"
   ]
  },
  {
   "cell_type": "markdown",
   "id": "8a0c268e-da3a-4c59-bc4f-2ca3abc1b98c",
   "metadata": {},
   "source": [
    "#ii. Explain why tuples are generally preferred over lists for storing fixed sets of data.\n",
    "\n",
    "we use tuples because they are immutable in nature, and have better performance\n",
    "\n",
    "\n"
   ]
  },
  {
   "cell_type": "code",
   "execution_count": 54,
   "id": "3fab6ea1-af10-4f2e-8ed9-0e94591dcb81",
   "metadata": {},
   "outputs": [
    {
     "name": "stdout",
     "output_type": "stream",
     "text": [
      "{'Ali': 85, 'Saima': 90, 'Kabeer': 78, 'Ahmed': 92}\n"
     ]
    }
   ],
   "source": [
    "#(b) Working with Dictionaries:\n",
    "#student_scores = {'Ali': 85, 'Saima': 90, 'Kabeer': 78}\n",
    "#i. Write a Python code snippet to add a new student Ahmed with a score of 92 to the\n",
    "#student_scores dictionary.\n",
    "#ii. Write a Python code snippet to update Kabeer's score to 82 in the student_scores\n",
    "#dictionary.\n",
    "\n",
    "student_scores = {'Ali': 85, 'Saima': 90, 'Kabeer': 78}\n",
    "student_scores['Ahmed']=92\n",
    "print(student_scores)\n"
   ]
  },
  {
   "cell_type": "code",
   "execution_count": 58,
   "id": "57967fd2-5327-4a47-bf5e-6b05a226fa39",
   "metadata": {},
   "outputs": [
    {
     "name": "stdout",
     "output_type": "stream",
     "text": [
      "{'Ali': 85, 'Saima': 90, 'Kabeer': 82, 'Ahmed': 92}\n"
     ]
    }
   ],
   "source": [
    "student_scores['Kabeer']=82\n",
    "print(student_scores)"
   ]
  },
  {
   "cell_type": "markdown",
   "id": "659f8691-9881-4aaa-b744-aa9bd97f6c5b",
   "metadata": {},
   "source": [
    "## QUESTION 7"
   ]
  },
  {
   "cell_type": "code",
   "execution_count": 66,
   "id": "f3b05913-5ea9-4f8a-8e21-4a1a4cd5699e",
   "metadata": {},
   "outputs": [
    {
     "name": "stdin",
     "output_type": "stream",
     "text": [
      "Enter your desired number: 5\n",
      "Enter your desired number: 2\n",
      "\n",
      "1-Addition\n",
      "2-Substraction\n",
      "3-Multiplication\n",
      "4-Factorial\n",
      "5-Division\n",
      "6-Exponentiation (Power)\n",
      "7-Square Root\n",
      "8-Exit\n",
      " 1\n"
     ]
    },
    {
     "name": "stdout",
     "output_type": "stream",
     "text": [
      "Addition of 5.0 and 2.0 is: 7.0\n"
     ]
    }
   ],
   "source": [
    "import math\n",
    "number1 = float(input('Enter your desired number:'))\n",
    "number2 = float(input('Enter your desired number:'))\n",
    "\n",
    "option = input('''\n",
    "1-Addition\n",
    "2-Substraction\n",
    "3-Multiplication\n",
    "4-Factorial\n",
    "5-Division\n",
    "6-Exponentiation (Power)\n",
    "7-Square Root\n",
    "8-Exit\n",
    "''')\n",
    "\n",
    "if option =='1':\n",
    "    print('Addition of',number1,'and',number2,'is:',number1+number2)\n",
    "\n",
    "elif option =='2':\n",
    "     print('Difference of',number1,'and',number2,'is:',number1-number2)\n",
    "\n",
    "elif option =='3':\n",
    "     print('Product of',number1,'and',number2,'is:',number1*number2)\n",
    "\n",
    "elif option =='4':\n",
    "    if number1<0:\n",
    "        print('Enter a non-negative integer number:')\n",
    "    else:\n",
    "     print('Factorial of',number1,'is:',math.factorial(number1))\n",
    "\n",
    "elif option =='5':\n",
    "     print('Division of',number1,'and',number2,'is:',number1/number2)\n",
    "\n",
    "elif option =='6':\n",
    "    exponent=int(input('Enter your exponent value:'))\n",
    "    base =int(input('Enter your base value:'))\n",
    "    print('Power of',base,'is:',math.pow(base,exponent))\n",
    "\n",
    "elif option=='7':\n",
    "    if number1<0:\n",
    "        print('Enter a non negative integer')\n",
    "    else:\n",
    "        print('Square root of',number1,'is:',math.sqrt(number1))\n",
    "\n",
    "elif option=='8':\n",
    "    print('you exit the program')\n",
    "\n",
    "else:\n",
    "    print('Select option from given menu list')\n",
    "\n",
    "    "
   ]
  },
  {
   "cell_type": "code",
   "execution_count": null,
   "id": "d2c719af-0b61-4604-8699-69292355e793",
   "metadata": {},
   "outputs": [],
   "source": []
  }
 ],
 "metadata": {
  "kernelspec": {
   "display_name": "Python 3 (ipykernel)",
   "language": "python",
   "name": "python3"
  },
  "language_info": {
   "codemirror_mode": {
    "name": "ipython",
    "version": 3
   },
   "file_extension": ".py",
   "mimetype": "text/x-python",
   "name": "python",
   "nbconvert_exporter": "python",
   "pygments_lexer": "ipython3",
   "version": "3.12.4"
  }
 },
 "nbformat": 4,
 "nbformat_minor": 5
}

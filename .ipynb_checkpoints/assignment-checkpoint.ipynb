{
 "cells": [
  {
   "cell_type": "markdown",
   "id": "07935610-d665-4a6d-bde3-87ba19d5d344",
   "metadata": {},
   "source": [
    "Question 1\n",
    "\n",
    "\n",
    "\n",
    "first_name = 'Sumaiya'\n",
    "last_name = 'Khan'\n",
    "len(first_name)"
   ]
  },
  {
   "cell_type": "code",
   "execution_count": 34,
   "id": "787184ed-84cf-4b9b-92d0-d05da3fe0227",
   "metadata": {},
   "outputs": [
    {
     "name": "stdout",
     "output_type": "stream",
     "text": [
      "The sum of both numbers is: 9\n",
      "The difference of both numbers is: -1\n",
      "The product of both numbers is: 20\n",
      "The division of both numbers is: 1.25\n",
      "The Remainder of two numbers is: 4\n",
      "The Power is: 625\n",
      "The Floor division of both numbers is: 1\n"
     ]
    }
   ],
   "source": [
    "num_one = 5\n",
    "num_two = 4\n",
    "total = num_one + num_two\n",
    "diff = num_two - num_one\n",
    "product = num_one * num_two\n",
    "division = num_one / num_two\n",
    "remainder = num_two % num_one\n",
    "exp = num_one ** num_two\n",
    "floor_division = num_one // num_two\n",
    "print('The sum of both numbers is:',total)\n",
    "print('The difference of both numbers is:',diff)\n",
    "print('The product of both numbers is:',product)\n",
    "print('The division of both numbers is:',division)\n",
    "print('The Remainder of two numbers is:',remainder)\n",
    "print('The Power is:',exp)\n",
    "print('The Floor division of both numbers is:',floor_division)"
   ]
  },
  {
   "cell_type": "code",
   "execution_count": 20,
   "id": "2e9cd245-e881-4da6-8b34-9c1b1d0b0140",
   "metadata": {},
   "outputs": [
    {
     "data": {
      "text/plain": [
       "3"
      ]
     },
     "execution_count": 20,
     "metadata": {},
     "output_type": "execute_result"
    }
   ],
   "source": [
    "3 % 5\n"
   ]
  },
  {
   "cell_type": "code",
   "execution_count": 22,
   "id": "f0c4cc7d-6d48-4ef2-a3c3-67ac02c89209",
   "metadata": {},
   "outputs": [
    {
     "data": {
      "text/plain": [
       "7"
      ]
     },
     "execution_count": 22,
     "metadata": {},
     "output_type": "execute_result"
    }
   ],
   "source": [
    "7 % 10"
   ]
  },
  {
   "cell_type": "code",
   "execution_count": 24,
   "id": "64aa6d74-f443-499a-b826-a01a99f9f95c",
   "metadata": {},
   "outputs": [
    {
     "data": {
      "text/plain": [
       "6"
      ]
     },
     "execution_count": 24,
     "metadata": {},
     "output_type": "execute_result"
    }
   ],
   "source": [
    "6 % 8"
   ]
  },
  {
   "cell_type": "code",
   "execution_count": 26,
   "id": "d0bc0949-917f-44e7-89d9-09233876ee11",
   "metadata": {},
   "outputs": [
    {
     "data": {
      "text/plain": [
       "2"
      ]
     },
     "execution_count": 26,
     "metadata": {},
     "output_type": "execute_result"
    }
   ],
   "source": [
    "8 % 6"
   ]
  },
  {
   "cell_type": "code",
   "execution_count": 28,
   "id": "ee2f4d08-4b17-4bb0-9756-8af05678d951",
   "metadata": {},
   "outputs": [
    {
     "data": {
      "text/plain": [
       "11"
      ]
     },
     "execution_count": 28,
     "metadata": {},
     "output_type": "execute_result"
    }
   ],
   "source": [
    "11 % 13"
   ]
  },
  {
   "cell_type": "code",
   "execution_count": null,
   "id": "32096bf8-de5c-4525-9444-df51daf4d13b",
   "metadata": {},
   "outputs": [],
   "source": []
  }
 ],
 "metadata": {
  "kernelspec": {
   "display_name": "Python 3 (ipykernel)",
   "language": "python",
   "name": "python3"
  },
  "language_info": {
   "codemirror_mode": {
    "name": "ipython",
    "version": 3
   },
   "file_extension": ".py",
   "mimetype": "text/x-python",
   "name": "python",
   "nbconvert_exporter": "python",
   "pygments_lexer": "ipython3",
   "version": "3.12.4"
  }
 },
 "nbformat": 4,
 "nbformat_minor": 5
}

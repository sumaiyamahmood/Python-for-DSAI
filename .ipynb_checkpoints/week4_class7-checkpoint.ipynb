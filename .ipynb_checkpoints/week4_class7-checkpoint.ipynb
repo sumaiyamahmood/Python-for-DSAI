{
 "cells": [
  {
   "cell_type": "code",
   "execution_count": 1,
   "id": "990c51b5-6637-4009-a7d2-270ee78e04fb",
   "metadata": {},
   "outputs": [],
   "source": [
    "# Dictionaries are used to store data values in key:value pairs\n",
    "# a dictionary is a collection which is ordered*,\n",
    "# changeable and do not allow duplicates\n",
    "# key value pair {}\n",
    "# mutable\n",
    "# key always be immutable\n",
    "#key always be unique"
   ]
  },
  {
   "cell_type": "code",
   "execution_count": 2,
   "id": "9f2fb51a-3562-437a-a096-22abf55257d8",
   "metadata": {},
   "outputs": [],
   "source": [
    "emp_d = set({})  # this changes dictionary explicitly to set \n",
    "name = set()  # this is how you declare and empty set\n"
   ]
  },
  {
   "cell_type": "code",
   "execution_count": 3,
   "id": "1631add6-0283-4c58-a6d5-cfbbcec0db40",
   "metadata": {},
   "outputs": [
    {
     "name": "stdout",
     "output_type": "stream",
     "text": [
      "<class 'set'>\n"
     ]
    }
   ],
   "source": [
    "emp_d = set() \n",
    "print(type(emp_d))"
   ]
  },
  {
   "cell_type": "code",
   "execution_count": 4,
   "id": "0fef293d-7aa9-41de-876f-36249d134256",
   "metadata": {},
   "outputs": [
    {
     "name": "stdout",
     "output_type": "stream",
     "text": [
      "{'Name': 'Sajid', 'Gender': 'Male', 'Skills': ['Data Science', 'AI', 'ML'], 'Age': 31}\n",
      "<class 'dict'>\n"
     ]
    }
   ],
   "source": [
    "person = { 'Name' : 'Sajid', \n",
    "          'Gender' : 'Male', \n",
    "          'Skills': ['Data Science','AI' ,'ML'], \n",
    "          'Age' : 31}\n",
    "print(person)\n",
    "print(type(person))"
   ]
  },
  {
   "cell_type": "code",
   "execution_count": 5,
   "id": "255fe1fc-b79f-4763-8bea-f2ae0a6e0bde",
   "metadata": {},
   "outputs": [
    {
     "data": {
      "text/plain": [
       "dict_keys(['Name', 'Gender', 'Skills', 'Age'])"
      ]
     },
     "execution_count": 5,
     "metadata": {},
     "output_type": "execute_result"
    }
   ],
   "source": [
    "# keys of a dictionary\n",
    "person.keys()   # this key funcn tells all the keys that exist in your dict"
   ]
  },
  {
   "cell_type": "code",
   "execution_count": 6,
   "id": "4f85e3fc-b3c1-4c90-8fc9-f4f073499151",
   "metadata": {},
   "outputs": [
    {
     "data": {
      "text/plain": [
       "dict_values(['Sajid', 'Male', ['Data Science', 'AI', 'ML'], 31])"
      ]
     },
     "execution_count": 6,
     "metadata": {},
     "output_type": "execute_result"
    }
   ],
   "source": [
    "# values in your dictionary\n",
    "person.values()  # this value funcn tells all the values of the dict."
   ]
  },
  {
   "cell_type": "code",
   "execution_count": 7,
   "id": "dcbd1bc4-1fc9-4d15-bb47-c6efbee76690",
   "metadata": {},
   "outputs": [
    {
     "data": {
      "text/plain": [
       "dict_items([('Name', 'Sajid'), ('Gender', 'Male'), ('Skills', ['Data Science', 'AI', 'ML']), ('Age', 31)])"
      ]
     },
     "execution_count": 7,
     "metadata": {},
     "output_type": "execute_result"
    }
   ],
   "source": [
    "# keys and values together\n",
    "person.items()"
   ]
  },
  {
   "cell_type": "code",
   "execution_count": 8,
   "id": "0ce16db0-6078-4999-9ed4-d0aa9f565235",
   "metadata": {},
   "outputs": [
    {
     "data": {
      "text/plain": [
       "['Data Science', 'AI', 'ML']"
      ]
     },
     "execution_count": 8,
     "metadata": {},
     "output_type": "execute_result"
    }
   ],
   "source": [
    "person.get('Skills')  # get ka funcn ek he key leta ha \n"
   ]
  },
  {
   "cell_type": "code",
   "execution_count": 9,
   "id": "bb356736-b181-46bf-9dd9-1e44156aaf28",
   "metadata": {},
   "outputs": [
    {
     "data": {
      "text/plain": [
       "31"
      ]
     },
     "execution_count": 9,
     "metadata": {},
     "output_type": "execute_result"
    }
   ],
   "source": [
    "person.get('Age')"
   ]
  },
  {
   "cell_type": "code",
   "execution_count": 10,
   "id": "15a48caf-427a-49a1-a885-e9160f4b99bc",
   "metadata": {},
   "outputs": [
    {
     "name": "stdout",
     "output_type": "stream",
     "text": [
      "{'Name': 'Sajid', 'Gender': 'Male', 'Marks': {'Python': 70, 'JS': 75, 'Java': 89}, 'Age': 31}\n",
      "<class 'dict'>\n"
     ]
    }
   ],
   "source": [
    "person1 = { 'Name' : 'Sajid', \n",
    "          'Gender' : 'Male', \n",
    "          'Marks': { 'Python':70, 'JS':75 ,'Java':89},\n",
    "          'Age' : 31}\n",
    "print(person1)\n",
    "print(type(person1))"
   ]
  },
  {
   "cell_type": "raw",
   "id": "81e36b8f-92a9-45fd-b747-b32b9e0d49df",
   "metadata": {},
   "source": []
  },
  {
   "cell_type": "code",
   "execution_count": 11,
   "id": "338792a8-12bc-4314-9458-b503ac40ccff",
   "metadata": {},
   "outputs": [
    {
     "data": {
      "text/plain": [
       "89"
      ]
     },
     "execution_count": 11,
     "metadata": {},
     "output_type": "execute_result"
    }
   ],
   "source": [
    "person1.get('Marks')['Java']"
   ]
  },
  {
   "cell_type": "code",
   "execution_count": 12,
   "id": "692493bd-8ce4-42da-be51-88a2aca7cd85",
   "metadata": {},
   "outputs": [
    {
     "name": "stdout",
     "output_type": "stream",
     "text": [
      "4\n",
      "4\n"
     ]
    }
   ],
   "source": [
    "print(len(person))\n",
    "print(len(person1))"
   ]
  },
  {
   "cell_type": "code",
   "execution_count": 13,
   "id": "3b8a455d-96c1-4ce0-beb2-fb24bd431a46",
   "metadata": {},
   "outputs": [
    {
     "ename": "TypeError",
     "evalue": "unsupported operand type(s) for +: 'dict' and 'dict'",
     "output_type": "error",
     "traceback": [
      "\u001b[1;31m---------------------------------------------------------------------------\u001b[0m",
      "\u001b[1;31mTypeError\u001b[0m                                 Traceback (most recent call last)",
      "Cell \u001b[1;32mIn[13], line 3\u001b[0m\n\u001b[0;32m      1\u001b[0m \u001b[38;5;66;03m# this operator (+) is not supported with dict\u001b[39;00m\n\u001b[0;32m      2\u001b[0m \u001b[38;5;66;03m# we cannot add dictionaries.\u001b[39;00m\n\u001b[1;32m----> 3\u001b[0m person\u001b[38;5;241m+\u001b[39mperson1\n",
      "\u001b[1;31mTypeError\u001b[0m: unsupported operand type(s) for +: 'dict' and 'dict'"
     ]
    }
   ],
   "source": [
    "# this operator (+) is not supported with dict\n",
    "# we cannot add dictionaries.\n",
    "person+person1  # concadination (adding 1 dict with another)"
   ]
  },
  {
   "cell_type": "code",
   "execution_count": 14,
   "id": "c0c4d15f-5b6c-4d84-ac11-1315128c03ca",
   "metadata": {},
   "outputs": [
    {
     "name": "stdout",
     "output_type": "stream",
     "text": [
      "{'Name': 'Sajid', 'Gender': 'Male', 'Skills': ['Data Science', 'AI', 'ML'], 'Age': 31, 'Marks': {'Python': 70, 'JS': 75, 'Java': 89}}\n"
     ]
    }
   ],
   "source": [
    "# we can update our dict using update funcn\n",
    "# update means data is changed \n",
    "# permananet change\n",
    "person.update(person1)\n",
    "print(person)"
   ]
  },
  {
   "cell_type": "code",
   "execution_count": 16,
   "id": "b3306bde-0710-418d-84df-d3d8dc549498",
   "metadata": {},
   "outputs": [
    {
     "ename": "AttributeError",
     "evalue": "'dict' object has no attribute 'append'",
     "output_type": "error",
     "traceback": [
      "\u001b[1;31m---------------------------------------------------------------------------\u001b[0m",
      "\u001b[1;31mAttributeError\u001b[0m                            Traceback (most recent call last)",
      "Cell \u001b[1;32mIn[16], line 1\u001b[0m\n\u001b[1;32m----> 1\u001b[0m person\u001b[38;5;241m.\u001b[39mappend(person1)\n",
      "\u001b[1;31mAttributeError\u001b[0m: 'dict' object has no attribute 'append'"
     ]
    }
   ],
   "source": [
    "person.append(person1)  # this funcn is not supported"
   ]
  },
  {
   "cell_type": "code",
   "execution_count": 18,
   "id": "46060808-ba5b-4d0c-a170-a3187b21cfe8",
   "metadata": {},
   "outputs": [
    {
     "data": {
      "text/plain": [
       "70"
      ]
     },
     "execution_count": 18,
     "metadata": {},
     "output_type": "execute_result"
    }
   ],
   "source": [
    "person.get('Marks')['Python']"
   ]
  },
  {
   "cell_type": "code",
   "execution_count": 20,
   "id": "0c1c7224-8c45-464b-963f-44845ca103fa",
   "metadata": {},
   "outputs": [],
   "source": [
    "person['Organization']='Institute of Space Technology'  # adding another key in the dict"
   ]
  },
  {
   "cell_type": "code",
   "execution_count": 22,
   "id": "55a389ea-9baf-46bc-b69c-4f9ceac76418",
   "metadata": {},
   "outputs": [
    {
     "name": "stdout",
     "output_type": "stream",
     "text": [
      "{'Name': 'Sajid', 'Gender': 'Male', 'Skills': ['Data Science', 'AI', 'ML'], 'Age': 31, 'Marks': {'Python': 70, 'JS': 75, 'Java': 89}, 'Organization': 'Institute of Space Technology'}\n"
     ]
    }
   ],
   "source": [
    "print(person)"
   ]
  },
  {
   "cell_type": "code",
   "execution_count": 24,
   "id": "8bff1b22-e6f6-474a-b9a8-4d279f49e43d",
   "metadata": {},
   "outputs": [
    {
     "name": "stdout",
     "output_type": "stream",
     "text": [
      "{'Name': 'Sajid', 'Gender': 'Male', 'Skills': ['Data Science', 'AI', 'ML'], 'Age': 31, 'Marks': {'Python': 70, 'JS': 75, 'Java': 89}, 'Organization': 'Institute of Space Technology', 'Roll': 40, 'Address': 'Pakistan'}\n"
     ]
    }
   ],
   "source": [
    "# to add multiple keys:values in dict we can use update duncn\n",
    "person.update({'Roll':40 ,'Address':'Pakistan'})\n",
    "print(person)"
   ]
  },
  {
   "cell_type": "code",
   "execution_count": 26,
   "id": "322c9d44-ea38-4c7c-8ed3-bde7f851abc2",
   "metadata": {},
   "outputs": [
    {
     "data": {
      "text/plain": [
       "['Address', 'Age', 'Gender', 'Marks', 'Name', 'Organization', 'Roll', 'Skills']"
      ]
     },
     "execution_count": 26,
     "metadata": {},
     "output_type": "execute_result"
    }
   ],
   "source": [
    "sorted(person)"
   ]
  },
  {
   "cell_type": "code",
   "execution_count": 28,
   "id": "c6420e50-8664-44a5-a34a-b092d07a7199",
   "metadata": {},
   "outputs": [
    {
     "name": "stdout",
     "output_type": "stream",
     "text": [
      "{'Name': 'Sajid', 'Gender': 'Male', 'Skills': ['Data Science', 'AI', 'ML'], 'Age': 31, 'Marks': {'Python': 70, 'JS': 75, 'Java': 89}, 'Organization': 'Institute of Space Technology', 'Roll': 40, 'Address': 'Pakistan', 'Subject': ['Maths', 'Chem']}\n"
     ]
    }
   ],
   "source": [
    "person['Subject']=['Maths','Chem']\n",
    "print(person)"
   ]
  },
  {
   "cell_type": "code",
   "execution_count": 30,
   "id": "6b416f7f-abf5-45ea-a70b-bd91d7a0b073",
   "metadata": {},
   "outputs": [
    {
     "data": {
      "text/plain": [
       "'Male'"
      ]
     },
     "execution_count": 30,
     "metadata": {},
     "output_type": "execute_result"
    }
   ],
   "source": [
    "# pop funcn will delete the specific key\n",
    "# pop mein you will have to give key as an input\n",
    "person.pop('Gender')\n",
    "  "
   ]
  },
  {
   "cell_type": "code",
   "execution_count": 32,
   "id": "a578442a-f6d6-4041-ad33-bc92ca3e4816",
   "metadata": {},
   "outputs": [
    {
     "name": "stdout",
     "output_type": "stream",
     "text": [
      "{'Name': 'Sajid', 'Skills': ['Data Science', 'AI', 'ML'], 'Age': 31, 'Marks': {'Python': 70, 'JS': 75, 'Java': 89}, 'Organization': 'Institute of Space Technology', 'Roll': 40, 'Address': 'Pakistan', 'Subject': ['Maths', 'Chem']}\n"
     ]
    }
   ],
   "source": [
    "print(person)"
   ]
  },
  {
   "cell_type": "code",
   "execution_count": 34,
   "id": "1d8e56bf-ee9e-4c5b-a427-04d6f6444a2d",
   "metadata": {},
   "outputs": [
    {
     "ename": "KeyError",
     "evalue": "'Pakistan'",
     "output_type": "error",
     "traceback": [
      "\u001b[1;31m---------------------------------------------------------------------------\u001b[0m",
      "\u001b[1;31mKeyError\u001b[0m                                  Traceback (most recent call last)",
      "Cell \u001b[1;32mIn[34], line 1\u001b[0m\n\u001b[1;32m----> 1\u001b[0m person\u001b[38;5;241m.\u001b[39mpop(\u001b[38;5;124m'\u001b[39m\u001b[38;5;124mPakistan\u001b[39m\u001b[38;5;124m'\u001b[39m)\n",
      "\u001b[1;31mKeyError\u001b[0m: 'Pakistan'"
     ]
    }
   ],
   "source": [
    "person.pop('Pakistan')  # only keys can be given as input"
   ]
  },
  {
   "cell_type": "code",
   "execution_count": 36,
   "id": "43343f20-30aa-4919-b1a2-545b51518999",
   "metadata": {},
   "outputs": [
    {
     "data": {
      "text/plain": [
       "('Subject', ['Maths', 'Chem'])"
      ]
     },
     "execution_count": 36,
     "metadata": {},
     "output_type": "execute_result"
    }
   ],
   "source": [
    "person.popitem()  # deletes the last key:value from dict"
   ]
  },
  {
   "cell_type": "code",
   "execution_count": 38,
   "id": "22d869ad-52c1-471c-ac4e-02ff389d7fca",
   "metadata": {},
   "outputs": [
    {
     "name": "stdout",
     "output_type": "stream",
     "text": [
      "{'Name': 'Sajid', 'Skills': ['Data Science', 'AI', 'ML'], 'Age': 31, 'Marks': {'Python': 70, 'JS': 75, 'Java': 89}, 'Organization': 'Institute of Space Technology', 'Roll': 40, 'Address': 'Pakistan'}\n"
     ]
    }
   ],
   "source": [
    "print(person)"
   ]
  },
  {
   "cell_type": "raw",
   "id": "979edb4d-c03d-4bb1-bc64-bc23ccada923",
   "metadata": {},
   "source": []
  },
  {
   "cell_type": "code",
   "execution_count": 44,
   "id": "7265ed85-f29e-47f1-bcb7-03126782ac4f",
   "metadata": {},
   "outputs": [
    {
     "name": "stdout",
     "output_type": "stream",
     "text": [
      "Farooq\n",
      "{'brand': 'Ford', 'teacher': 'Farooq', 'year': 1964}\n"
     ]
    }
   ],
   "source": [
    "# setdefault funcn\n",
    "\n",
    "python = {\n",
    "    'brand':'Ford',\n",
    "    'teacher':'Farooq',\n",
    "    'year':1964\n",
    "}\n",
    "x= python.setdefault('teacher','Sajid')\n",
    "\n",
    "print(x)\n",
    "print(python)"
   ]
  },
  {
   "cell_type": "code",
   "execution_count": 46,
   "id": "664c7dac-8e2c-4d09-b574-e8f18360f11e",
   "metadata": {},
   "outputs": [
    {
     "name": "stdout",
     "output_type": "stream",
     "text": [
      "['__doc__', '__loader__', '__name__', '__package__', '__spec__', 'acos', 'acosh', 'asin', 'asinh', 'atan', 'atan2', 'atanh', 'cbrt', 'ceil', 'comb', 'copysign', 'cos', 'cosh', 'degrees', 'dist', 'e', 'erf', 'erfc', 'exp', 'exp2', 'expm1', 'fabs', 'factorial', 'floor', 'fmod', 'frexp', 'fsum', 'gamma', 'gcd', 'hypot', 'inf', 'isclose', 'isfinite', 'isinf', 'isnan', 'isqrt', 'lcm', 'ldexp', 'lgamma', 'log', 'log10', 'log1p', 'log2', 'modf', 'nan', 'nextafter', 'perm', 'pi', 'pow', 'prod', 'radians', 'remainder', 'sin', 'sinh', 'sqrt', 'sumprod', 'tan', 'tanh', 'tau', 'trunc', 'ulp']\n"
     ]
    }
   ],
   "source": [
    "import math\n",
    "print(dir(math))"
   ]
  },
  {
   "cell_type": "code",
   "execution_count": 48,
   "id": "e3cad5ca-1b20-4735-b35d-c335ccc7d894",
   "metadata": {},
   "outputs": [
    {
     "data": {
      "text/plain": [
       "3"
      ]
     },
     "execution_count": 48,
     "metadata": {},
     "output_type": "execute_result"
    }
   ],
   "source": [
    "math.floor(3.5)"
   ]
  },
  {
   "cell_type": "code",
   "execution_count": 50,
   "id": "43416e27-673d-4a1b-ba86-3d971a351853",
   "metadata": {},
   "outputs": [
    {
     "data": {
      "text/plain": [
       "4"
      ]
     },
     "execution_count": 50,
     "metadata": {},
     "output_type": "execute_result"
    }
   ],
   "source": [
    "math.ceil(3.5)"
   ]
  },
  {
   "cell_type": "code",
   "execution_count": 52,
   "id": "9498e2f1-0b30-41ef-b400-708a61800a2c",
   "metadata": {},
   "outputs": [
    {
     "data": {
      "text/plain": [
       "4.0"
      ]
     },
     "execution_count": 52,
     "metadata": {},
     "output_type": "execute_result"
    }
   ],
   "source": [
    "math.sqrt(16)"
   ]
  },
  {
   "cell_type": "code",
   "execution_count": 54,
   "id": "ce6ae2d2-2d0b-4659-b2a2-cb250eff5d8d",
   "metadata": {},
   "outputs": [
    {
     "data": {
      "text/plain": [
       "0.0"
      ]
     },
     "execution_count": 54,
     "metadata": {},
     "output_type": "execute_result"
    }
   ],
   "source": [
    "math.sin(0)"
   ]
  },
  {
   "cell_type": "code",
   "execution_count": 58,
   "id": "079946c4-0663-4c65-bcea-07060639d5fb",
   "metadata": {},
   "outputs": [
    {
     "data": {
      "text/plain": [
       "8.0"
      ]
     },
     "execution_count": 58,
     "metadata": {},
     "output_type": "execute_result"
    }
   ],
   "source": [
    "math.pow(2,3)"
   ]
  },
  {
   "cell_type": "code",
   "execution_count": 60,
   "id": "3347abc3-89c5-45a2-b3d2-a44862d8fba9",
   "metadata": {},
   "outputs": [
    {
     "data": {
      "text/plain": [
       "6"
      ]
     },
     "execution_count": 60,
     "metadata": {},
     "output_type": "execute_result"
    }
   ],
   "source": [
    "math.factorial(3)"
   ]
  },
  {
   "cell_type": "code",
   "execution_count": 67,
   "id": "baabf087-82dc-4c00-853d-1b8249393af5",
   "metadata": {},
   "outputs": [
    {
     "data": {
      "text/plain": [
       "['AddPackagePath',\n",
       " 'Module',\n",
       " 'ModuleFinder',\n",
       " 'ReplacePackage',\n",
       " '_C_BUILTIN',\n",
       " '_C_EXTENSION',\n",
       " '_PKG_DIRECTORY',\n",
       " '_PY_COMPILED',\n",
       " '_PY_FROZEN',\n",
       " '_PY_SOURCE',\n",
       " '_SEARCH_ERROR',\n",
       " '__builtins__',\n",
       " '__cached__',\n",
       " '__doc__',\n",
       " '__file__',\n",
       " '__loader__',\n",
       " '__name__',\n",
       " '__package__',\n",
       " '__spec__',\n",
       " '_find_module',\n",
       " 'dis',\n",
       " 'importlib',\n",
       " 'io',\n",
       " 'marshal',\n",
       " 'os',\n",
       " 'packagePathMap',\n",
       " 'replacePackageMap',\n",
       " 'sys',\n",
       " 'test']"
      ]
     },
     "execution_count": 67,
     "metadata": {},
     "output_type": "execute_result"
    }
   ],
   "source": [
    "import modulefinder\n",
    "dir(modulefinder)"
   ]
  },
  {
   "cell_type": "code",
   "execution_count": 69,
   "id": "0588b917-bb10-4786-9b73-f10a75d05955",
   "metadata": {},
   "outputs": [
    {
     "data": {
      "text/plain": [
       "['__all__',\n",
       " '__builtins__',\n",
       " '__cached__',\n",
       " '__doc__',\n",
       " '__file__',\n",
       " '__loader__',\n",
       " '__name__',\n",
       " '__package__',\n",
       " '__spec__',\n",
       " 'iskeyword',\n",
       " 'issoftkeyword',\n",
       " 'kwlist',\n",
       " 'softkwlist']"
      ]
     },
     "execution_count": 69,
     "metadata": {},
     "output_type": "execute_result"
    }
   ],
   "source": [
    "import keyword\n",
    "dir(keyword)"
   ]
  },
  {
   "cell_type": "code",
   "execution_count": 71,
   "id": "e3ade6c7-0b80-4157-9bae-0a1c43927f79",
   "metadata": {},
   "outputs": [],
   "source": [
    "import random"
   ]
  },
  {
   "cell_type": "code",
   "execution_count": 73,
   "id": "31f268c9-fbf7-41d2-b7f3-6c37cd80fc7d",
   "metadata": {},
   "outputs": [
    {
     "data": {
      "text/plain": [
       "75"
      ]
     },
     "execution_count": 73,
     "metadata": {},
     "output_type": "execute_result"
    }
   ],
   "source": [
    "random.randint(1,100)"
   ]
  },
  {
   "cell_type": "code",
   "execution_count": 75,
   "id": "8db8fe76-b481-4050-90d0-c0fc332d3009",
   "metadata": {},
   "outputs": [
    {
     "data": {
      "text/plain": [
       "1"
      ]
     },
     "execution_count": 75,
     "metadata": {},
     "output_type": "execute_result"
    }
   ],
   "source": [
    "random.randint(1,5)"
   ]
  },
  {
   "cell_type": "code",
   "execution_count": 77,
   "id": "f06190b8-911d-4204-96d1-c990be26a468",
   "metadata": {},
   "outputs": [
    {
     "name": "stdout",
     "output_type": "stream",
     "text": [
      "(2, 4, 6, 8, 10)\n",
      "<class 'tuple'>\n"
     ]
    }
   ],
   "source": [
    "numbers = (2,4,6,8,10)\n",
    "print(numbers)\n",
    "print(type(numbers))\n"
   ]
  },
  {
   "cell_type": "code",
   "execution_count": 79,
   "id": "c1c25417-4be5-4077-b864-13480046a7e0",
   "metadata": {},
   "outputs": [
    {
     "name": "stdout",
     "output_type": "stream",
     "text": [
      "{1, 3, 5, 7}\n",
      "<class 'set'>\n"
     ]
    }
   ],
   "source": [
    "s1 = {1,3,5,7}\n",
    "print(s1)\n",
    "print(type(s1))"
   ]
  },
  {
   "cell_type": "code",
   "execution_count": 83,
   "id": "ea16143a-a42c-4c54-8fab-2efa9ff69748",
   "metadata": {},
   "outputs": [
    {
     "name": "stdout",
     "output_type": "stream",
     "text": [
      "{'Name': 'Sumaiya', 'Age': 29, 'Gender': 'Female'}\n",
      "<class 'dict'>\n"
     ]
    }
   ],
   "source": [
    "people ={'Name':'Sumaiya',\n",
    "         'Age':29,\n",
    "         'Gender':'Female'}\n",
    "print(people)\n",
    "print(type(people))"
   ]
  },
  {
   "cell_type": "code",
   "execution_count": null,
   "id": "715beaef-e8ba-468d-beb3-8d93560784ec",
   "metadata": {},
   "outputs": [],
   "source": []
  }
 ],
 "metadata": {
  "kernelspec": {
   "display_name": "Python 3 (ipykernel)",
   "language": "python",
   "name": "python3"
  },
  "language_info": {
   "codemirror_mode": {
    "name": "ipython",
    "version": 3
   },
   "file_extension": ".py",
   "mimetype": "text/x-python",
   "name": "python",
   "nbconvert_exporter": "python",
   "pygments_lexer": "ipython3",
   "version": "3.12.4"
  }
 },
 "nbformat": 4,
 "nbformat_minor": 5
}

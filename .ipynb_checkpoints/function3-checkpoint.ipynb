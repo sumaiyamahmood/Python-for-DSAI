{
 "cells": [
  {
   "cell_type": "code",
   "execution_count": 3,
   "id": "f0c6222b-513f-43fd-9c03-27af0d15a63f",
   "metadata": {},
   "outputs": [
    {
     "name": "stdin",
     "output_type": "stream",
     "text": [
      "Enter your first number: 90\n",
      "Enter your second number: 70\n"
     ]
    },
    {
     "name": "stdout",
     "output_type": "stream",
     "text": [
      "160.0\n",
      "20.0\n",
      "6300.0\n",
      "1.29\n"
     ]
    }
   ],
   "source": [
    "# make a func for add,sub,multiply,divide and take user input and call the funcn.\n",
    "\n",
    "def add(num1,num2):\n",
    "    sum=num1+num2\n",
    "    return sum\n",
    "\n",
    "def subtract(nm1,nm2):\n",
    "    diff=nm1-nm2\n",
    "    return diff\n",
    "\n",
    "def multiply(num1,num2):\n",
    "    product=num1*num2\n",
    "    return product\n",
    "\n",
    "def divide(num1,num2):\n",
    "    division=round(num1/num2,2)\n",
    "    return division\n",
    "\n",
    "num1=float(input('Enter your first number:'))\n",
    "num2=float(input('Enter your second number:'))\n",
    "print(add(num1,num2))\n",
    "print(subtract(num1,num2))\n",
    "print(multiply(num1,num2))\n",
    "print(divide(num1,num2))\n"
   ]
  },
  {
   "cell_type": "markdown",
   "id": "aa565bd2-6e3b-4d1b-a74a-e367c8d8aae6",
   "metadata": {},
   "source": [
    "## Scope of a Variable"
   ]
  },
  {
   "cell_type": "code",
   "execution_count": 6,
   "id": "ec838f17-ed2e-4d3a-b777-a3167dad2c1b",
   "metadata": {},
   "outputs": [
    {
     "name": "stdout",
     "output_type": "stream",
     "text": [
      "5\n",
      "6\n",
      "5\n"
     ]
    }
   ],
   "source": [
    "def g(y):\n",
    "    print(x)\n",
    "    print(x+1)\n",
    "\n",
    "x=5\n",
    "g(x)\n",
    "print(x)"
   ]
  },
  {
   "cell_type": "code",
   "execution_count": 8,
   "id": "5e7415e9-78ae-4cb7-8233-8d695cb8e8a7",
   "metadata": {},
   "outputs": [
    {
     "name": "stdout",
     "output_type": "stream",
     "text": [
      "2\n",
      "5\n"
     ]
    }
   ],
   "source": [
    "def f(y):\n",
    "    x=1\n",
    "    x+=1\n",
    "    print(x)\n",
    "\n",
    "x=5\n",
    "f(x)\n",
    "print(x)"
   ]
  },
  {
   "cell_type": "code",
   "execution_count": 10,
   "id": "159a885b-4919-4612-bc6b-af55b4605a52",
   "metadata": {},
   "outputs": [
    {
     "name": "stdout",
     "output_type": "stream",
     "text": [
      "2\n",
      "5\n"
     ]
    }
   ],
   "source": [
    "def f(y):\n",
    "    y=1\n",
    "    y+=1\n",
    "    print(y)\n",
    "\n",
    "x=5\n",
    "f(x)\n",
    "print(x)"
   ]
  },
  {
   "cell_type": "code",
   "execution_count": 14,
   "id": "185e5b61-0f2b-4c0d-92ef-d7892a54e734",
   "metadata": {},
   "outputs": [
    {
     "ename": "UnboundLocalError",
     "evalue": "cannot access local variable 'x' where it is not associated with a value",
     "output_type": "error",
     "traceback": [
      "\u001b[1;31m---------------------------------------------------------------------------\u001b[0m",
      "\u001b[1;31mUnboundLocalError\u001b[0m                         Traceback (most recent call last)",
      "Cell \u001b[1;32mIn[14], line 5\u001b[0m\n\u001b[0;32m      2\u001b[0m     x\u001b[38;5;241m+\u001b[39m\u001b[38;5;241m=\u001b[39m\u001b[38;5;241m1\u001b[39m\n\u001b[0;32m      4\u001b[0m x\u001b[38;5;241m=\u001b[39m\u001b[38;5;241m5\u001b[39m\n\u001b[1;32m----> 5\u001b[0m h(x)\n\u001b[0;32m      6\u001b[0m \u001b[38;5;28mprint\u001b[39m(x)\n",
      "Cell \u001b[1;32mIn[14], line 2\u001b[0m, in \u001b[0;36mh\u001b[1;34m(y)\u001b[0m\n\u001b[0;32m      1\u001b[0m \u001b[38;5;28;01mdef\u001b[39;00m \u001b[38;5;21mh\u001b[39m(y):\n\u001b[1;32m----> 2\u001b[0m     x\u001b[38;5;241m+\u001b[39m\u001b[38;5;241m=\u001b[39m\u001b[38;5;241m1\u001b[39m\n",
      "\u001b[1;31mUnboundLocalError\u001b[0m: cannot access local variable 'x' where it is not associated with a value"
     ]
    }
   ],
   "source": [
    "def h(y):\n",
    "    x+=1\n",
    "\n",
    "x=5\n",
    "h(x)\n",
    "print(x)"
   ]
  },
  {
   "cell_type": "markdown",
   "id": "b58e365c-4ae7-4a3a-b0de-dcd552b787ef",
   "metadata": {},
   "source": [
    "## Question"
   ]
  },
  {
   "cell_type": "code",
   "execution_count": 1,
   "id": "c7270a7f-ee79-4bac-b7d1-786e8ca9b312",
   "metadata": {},
   "outputs": [
    {
     "ename": "NameError",
     "evalue": "name 'x' is not defined",
     "output_type": "error",
     "traceback": [
      "\u001b[1;31m---------------------------------------------------------------------------\u001b[0m",
      "\u001b[1;31mNameError\u001b[0m                                 Traceback (most recent call last)",
      "Cell \u001b[1;32mIn[1], line 7\u001b[0m\n\u001b[0;32m      4\u001b[0m     \u001b[38;5;28mprint\u001b[39m(x\u001b[38;5;241m+\u001b[39m\u001b[38;5;241m1\u001b[39m)\n\u001b[0;32m      6\u001b[0m y\u001b[38;5;241m=\u001b[39m\u001b[38;5;241m5\u001b[39m\n\u001b[1;32m----> 7\u001b[0m g(y)\n\u001b[0;32m      8\u001b[0m \u001b[38;5;28mprint\u001b[39m(y)\n",
      "Cell \u001b[1;32mIn[1], line 3\u001b[0m, in \u001b[0;36mg\u001b[1;34m(y)\u001b[0m\n\u001b[0;32m      2\u001b[0m \u001b[38;5;28;01mdef\u001b[39;00m \u001b[38;5;21mg\u001b[39m(y):\n\u001b[1;32m----> 3\u001b[0m     \u001b[38;5;28mprint\u001b[39m(x)\n\u001b[0;32m      4\u001b[0m     \u001b[38;5;28mprint\u001b[39m(x\u001b[38;5;241m+\u001b[39m\u001b[38;5;241m1\u001b[39m)\n",
      "\u001b[1;31mNameError\u001b[0m: name 'x' is not defined"
     ]
    }
   ],
   "source": [
    "##clear this question\n",
    "def g(y):\n",
    "    print(x)\n",
    "    print(x+1)\n",
    "\n",
    "y=5\n",
    "g(y)\n",
    "print(y)"
   ]
  },
  {
   "cell_type": "code",
   "execution_count": 18,
   "id": "d3a192f2-1c0a-4bb5-b382-610abb9764c9",
   "metadata": {},
   "outputs": [
    {
     "name": "stdout",
     "output_type": "stream",
     "text": [
      "in f(x):x= 4\n",
      "in main program scope: z= 4\n",
      "in main program scope: x= 3\n"
     ]
    }
   ],
   "source": [
    "def f(x):\n",
    "    x=x+1\n",
    "    print('in f(x):x=',x)\n",
    "    return x\n",
    "\n",
    "x=3\n",
    "z=f(x)\n",
    "print('in main program scope: z=',z)\n",
    "print('in main program scope: x=',x)\n"
   ]
  },
  {
   "cell_type": "markdown",
   "id": "aa0821c2-26af-4abf-8065-a869c604a355",
   "metadata": {},
   "source": [
    "## Nested function "
   ]
  },
  {
   "cell_type": "code",
   "execution_count": null,
   "id": "e3fc08d8-37db-49f9-a69f-ac7d25d7762a",
   "metadata": {},
   "outputs": [],
   "source": [
    "def f():\n",
    "    def g():\n",
    "        print('inside function g')\n",
    "        f()\n",
    "    g()\n",
    "    "
   ]
  },
  {
   "cell_type": "code",
   "execution_count": 21,
   "id": "63a7a6e2-9907-471a-b680-a44b15dcd71a",
   "metadata": {},
   "outputs": [
    {
     "name": "stdout",
     "output_type": "stream",
     "text": [
      "Hello from outer function\n",
      "Hello from inner function\n"
     ]
    }
   ],
   "source": [
    "def function1(): # outer function\n",
    "    print (\"Hello from outer function\")\n",
    "    def function2(): # inner function\n",
    "        print (\"Hello from inner function\")\n",
    "    function2()\n",
    "    \n",
    "function1()"
   ]
  },
  {
   "cell_type": "code",
   "execution_count": 23,
   "id": "d6d92a78-50fa-4868-acef-b9303139e3ab",
   "metadata": {},
   "outputs": [
    {
     "name": "stdout",
     "output_type": "stream",
     "text": [
      "<function num1.<locals>.num2 at 0x000001EE6AE00720>\n",
      "50\n"
     ]
    }
   ],
   "source": [
    "def num1(x):\n",
    "    def num2(y):\n",
    "        return x * y\n",
    "    return num2\n",
    "\n",
    "res = num1(10)\n",
    "print(res)\n",
    "print(res(5))"
   ]
  },
  {
   "cell_type": "code",
   "execution_count": 27,
   "id": "13bb3524-1dd3-430b-a9c5-25c613720add",
   "metadata": {},
   "outputs": [
    {
     "name": "stdout",
     "output_type": "stream",
     "text": [
      "<function nm1.<locals>.nm2 at 0x000001EE6AE00B80>\n",
      "8\n"
     ]
    }
   ],
   "source": [
    "def nm1(x):\n",
    "    def nm2(y):\n",
    "        return x ** y\n",
    "    return nm2\n",
    "\n",
    "result = nm1(2)\n",
    "print(result)\n",
    "print(result(3))"
   ]
  },
  {
   "cell_type": "code",
   "execution_count": 33,
   "id": "5f554981-f496-4912-953d-53444b938e02",
   "metadata": {},
   "outputs": [
    {
     "name": "stdout",
     "output_type": "stream",
     "text": [
      "<function nm1.<locals>.nm2 at 0x000001EE6A0EB740>\n",
      "24\n"
     ]
    }
   ],
   "source": [
    "def nm1(x):\n",
    "    def nm2(y):\n",
    "        def nm3(z):\n",
    "            return x*y*z\n",
    "        return nm3\n",
    "    return nm2\n",
    "\n",
    "result = nm1(2)\n",
    "print(result)\n",
    "a=result(3)\n",
    "print(a(4))"
   ]
  },
  {
   "cell_type": "code",
   "execution_count": 47,
   "id": "6d04fcf6-c226-4464-a534-cce43046b82e",
   "metadata": {},
   "outputs": [
    {
     "name": "stdout",
     "output_type": "stream",
     "text": [
      "<function name1.<locals>.name2 at 0x000001EE6AE02700>\n",
      "Sumaiya Mahmood Khan \n"
     ]
    }
   ],
   "source": [
    "def name1(x):\n",
    "    def name2(y):\n",
    "        def name3(z):\n",
    "            return x+y+z\n",
    "        return name3\n",
    "    return name2\n",
    "\n",
    "fullname=name1('Sumaiya ')\n",
    "print(fullname)\n",
    "lastname=fullname('Mahmood ')\n",
    "print(lastname('Khan '))"
   ]
  },
  {
   "cell_type": "code",
   "execution_count": 49,
   "id": "a8104093-6cca-4fa9-8fb6-136437360703",
   "metadata": {},
   "outputs": [
    {
     "name": "stdout",
     "output_type": "stream",
     "text": [
      "<function name1.<locals>.name2 at 0x000001EE6AE03380>\n",
      "Sumaiya Mahmood Khan\n"
     ]
    }
   ],
   "source": [
    "def name1(x):\n",
    "    def name2(y):\n",
    "        def name3(z):\n",
    "            return x+' '+y+' '+z\n",
    "        return name3\n",
    "    return name2\n",
    "\n",
    "fullname=name1('Sumaiya')\n",
    "print(fullname)\n",
    "lastname=fullname('Mahmood')\n",
    "print(lastname('Khan'))"
   ]
  },
  {
   "cell_type": "code",
   "execution_count": null,
   "id": "b7ed5ac2-fa42-4637-8841-6d6fd493b42a",
   "metadata": {},
   "outputs": [],
   "source": []
  }
 ],
 "metadata": {
  "kernelspec": {
   "display_name": "Python 3 (ipykernel)",
   "language": "python",
   "name": "python3"
  },
  "language_info": {
   "codemirror_mode": {
    "name": "ipython",
    "version": 3
   },
   "file_extension": ".py",
   "mimetype": "text/x-python",
   "name": "python",
   "nbconvert_exporter": "python",
   "pygments_lexer": "ipython3",
   "version": "3.12.4"
  }
 },
 "nbformat": 4,
 "nbformat_minor": 5
}

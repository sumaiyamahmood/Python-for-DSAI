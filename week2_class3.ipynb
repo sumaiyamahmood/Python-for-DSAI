{
 "cells": [
  {
   "cell_type": "markdown",
   "id": "27bf976c-ca77-4e9b-a006-b46ddb59dc3e",
   "metadata": {},
   "source": [
    "Operators in Python"
   ]
  },
  {
   "cell_type": "raw",
   "id": "daa699c4-7711-40ed-bc53-d92f8d4962e0",
   "metadata": {},
   "source": [
    "The Basic type of operators in python:\n",
    "1-Arithmatic operators \n",
    "2-Relationship operator"
   ]
  },
  {
   "cell_type": "code",
   "execution_count": null,
   "id": "ebabdc5e-c4b4-4860-b048-568ef3c8cb5e",
   "metadata": {},
   "outputs": [],
   "source": [
    "print(2>3)\n",
    "print(4<2)\n",
    "print(4!=4)"
   ]
  },
  {
   "cell_type": "code",
   "execution_count": 3,
   "id": "f6fb345e-1dc5-4fb1-a62b-cf039d90dd60",
   "metadata": {},
   "outputs": [
    {
     "name": "stdin",
     "output_type": "stream",
     "text": [
      "Enter your number 1: 8\n",
      "Enter your number 2: 4\n"
     ]
    },
    {
     "name": "stdout",
     "output_type": "stream",
     "text": [
      "The Result of the given numbers: True\n",
      "The Result of the given numbers: False\n",
      "The Result of the given numbers: True\n",
      "The Result of the given numbers: False\n",
      "The Result of the given numbers: True\n",
      "The Result of the given numbers: False\n"
     ]
    }
   ],
   "source": [
    "number1 = float(input('Enter your number 1:'))\n",
    "number2 = float(input('Enter your number 2:'))\n",
    "print('The Result of the given numbers:',number1>number2)\n",
    "print('The Result of the given numbers:',number1<number2)\n",
    "print('The Result of the given numbers:',number1!=number2)\n",
    "print('The Result of the given numbers:',number1==number2)\n",
    "print('The Result of the given numbers:',number1>=number2)\n",
    "print('The Result of the given numbers:',number1<=number2)"
   ]
  },
  {
   "cell_type": "code",
   "execution_count": 4,
   "id": "fbc08fbf-fe61-47ba-933d-89816cc7d350",
   "metadata": {},
   "outputs": [
    {
     "name": "stdin",
     "output_type": "stream",
     "text": [
      "Enter your number 1: 7\n",
      "Enter your number 2: 8\n",
      "Enter your number 3: 9\n"
     ]
    },
    {
     "name": "stdout",
     "output_type": "stream",
     "text": [
      "False\n"
     ]
    }
   ],
   "source": [
    "number1 = float(input('Enter your number 1:'))\n",
    "number2 = float(input('Enter your number 2:'))\n",
    "number3 = float(input('Enter your number 3:'))\n",
    "print(number1>number2>number3)\n"
   ]
  },
  {
   "cell_type": "code",
   "execution_count": 5,
   "id": "32c15751-d486-47fa-bc4e-a93ae82bc8f7",
   "metadata": {},
   "outputs": [
    {
     "data": {
      "text/plain": [
       "False"
      ]
     },
     "execution_count": 5,
     "metadata": {},
     "output_type": "execute_result"
    }
   ],
   "source": [
    "number1 = False\n",
    "number2 = False\n",
    "number2 or number1\n"
   ]
  },
  {
   "cell_type": "code",
   "execution_count": 6,
   "id": "3bcddf38-2160-4be6-8ef2-fc4027ccd753",
   "metadata": {},
   "outputs": [
    {
     "data": {
      "text/plain": [
       "True"
      ]
     },
     "execution_count": 6,
     "metadata": {},
     "output_type": "execute_result"
    }
   ],
   "source": [
    "number1 = True\n",
    "number2 = True\n",
    "number2 and number1"
   ]
  },
  {
   "cell_type": "code",
   "execution_count": 7,
   "id": "05663daa-f5c0-4ad9-8a94-22449835a7dd",
   "metadata": {},
   "outputs": [
    {
     "data": {
      "text/plain": [
       "False"
      ]
     },
     "execution_count": 7,
     "metadata": {},
     "output_type": "execute_result"
    }
   ],
   "source": [
    "not number1\n"
   ]
  },
  {
   "cell_type": "code",
   "execution_count": null,
   "id": "f8ab6133-93f0-45e8-9285-f8c9450d8d3e",
   "metadata": {},
   "outputs": [],
   "source": [
    "number1 = bool(input('Enter first boolean input'))\n",
    "number2 = bool(input('Enter second boolean input:'))\n",
    "print('AND logic:',number1 and number2)\n",
    "print('OR logic:',number1 or number2)\n",
    "print('NOT logic:',not number1)"
   ]
  },
  {
   "cell_type": "markdown",
   "id": "22f16ea2-98c6-4583-9d2d-e61d8b6658b8",
   "metadata": {},
   "source": [
    "Assignment Operator"
   ]
  },
  {
   "cell_type": "code",
   "execution_count": null,
   "id": "b9ebbea3-4997-418e-8881-d6dc35cd2042",
   "metadata": {},
   "outputs": [],
   "source": [
    "number = 10\n",
    "number+=5\n",
    "print(number)\n"
   ]
  },
  {
   "cell_type": "code",
   "execution_count": null,
   "id": "e2f30892-d747-4010-b6cb-e70321579684",
   "metadata": {},
   "outputs": [],
   "source": [
    "a = 'Data science is the study of data to extract meaningful insights for business'\n",
    "b = 'Data science is the study of data to extract meaningful insights for business'\n",
    "print(a is b)\n",
    "print(id(a))\n",
    "print(id(b))\n"
   ]
  },
  {
   "cell_type": "code",
   "execution_count": null,
   "id": "e9d2743d-699a-4dde-a69f-a1cc44c8c7d8",
   "metadata": {},
   "outputs": [],
   "source": [
    "a = 5\n",
    "b =5\n",
    "a is b"
   ]
  },
  {
   "cell_type": "code",
   "execution_count": null,
   "id": "cfad8fd3-2a0b-4e13-a611-397adcbff5c7",
   "metadata": {},
   "outputs": [],
   "source": [
    "name = ['Sumaiya','Farooq','Rayyan','Ibrahim']\n",
    "a = 'Python'\n",
    "print('Sumaiya' in name)\n",
    "print('y' in a)\n",
    "print('P' in a)\n",
    "print('P' not in a)\n",
    "\n"
   ]
  },
  {
   "cell_type": "code",
   "execution_count": 8,
   "id": "6cea7294-dc01-4fe1-82ed-e2355dd10cc1",
   "metadata": {},
   "outputs": [
    {
     "data": {
      "text/plain": [
       "''"
      ]
     },
     "execution_count": 8,
     "metadata": {},
     "output_type": "execute_result"
    }
   ],
   "source": [
    "a ='python'\n",
    "b=''\n",
    "a and b"
   ]
  },
  {
   "cell_type": "code",
   "execution_count": 10,
   "id": "242675aa-f23f-4ff6-9273-367194c9ca5d",
   "metadata": {},
   "outputs": [
    {
     "data": {
      "text/plain": [
       "''"
      ]
     },
     "execution_count": 10,
     "metadata": {},
     "output_type": "execute_result"
    }
   ],
   "source": [
    "a and b\n"
   ]
  },
  {
   "cell_type": "code",
   "execution_count": 12,
   "id": "a1711c12-df01-46ee-a9f7-acd290afaa78",
   "metadata": {},
   "outputs": [
    {
     "data": {
      "text/plain": [
       "'python'"
      ]
     },
     "execution_count": 12,
     "metadata": {},
     "output_type": "execute_result"
    }
   ],
   "source": [
    "a or b"
   ]
  },
  {
   "cell_type": "code",
   "execution_count": null,
   "id": "5f24ca64-7616-4e39-857e-2801897cc758",
   "metadata": {},
   "outputs": [],
   "source": []
  }
 ],
 "metadata": {
  "kernelspec": {
   "display_name": "Python 3 (ipykernel)",
   "language": "python",
   "name": "python3"
  },
  "language_info": {
   "codemirror_mode": {
    "name": "ipython",
    "version": 3
   },
   "file_extension": ".py",
   "mimetype": "text/x-python",
   "name": "python",
   "nbconvert_exporter": "python",
   "pygments_lexer": "ipython3",
   "version": "3.12.4"
  }
 },
 "nbformat": 4,
 "nbformat_minor": 5
}

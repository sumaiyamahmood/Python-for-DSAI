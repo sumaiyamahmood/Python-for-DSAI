{
 "cells": [
  {
   "cell_type": "code",
   "execution_count": null,
   "id": "b832c5df-f84f-4d06-936f-6046ced2b72f",
   "metadata": {},
   "outputs": [],
   "source": [
    "b"
   ]
  },
  {
   "cell_type": "code",
   "execution_count": null,
   "id": "ba95fbbe-4783-4c17-b92c-0d3177e5f77f",
   "metadata": {},
   "outputs": [],
   "source": [
    "b"
   ]
  },
  {
   "cell_type": "code",
   "execution_count": null,
   "id": "13aeedd1-839d-49a1-8f61-a925ad686a3a",
   "metadata": {},
   "outputs": [],
   "source": [
    "b"
   ]
  },
  {
   "cell_type": "code",
   "execution_count": null,
   "id": "69838c80-68cf-4310-ae63-711176d6886a",
   "metadata": {},
   "outputs": [],
   "source": [
    "b"
   ]
  },
  {
   "cell_type": "code",
   "execution_count": null,
   "id": "228bf32b-299c-4bcf-a1d6-fc9c3e4acd11",
   "metadata": {},
   "outputs": [],
   "source": [
    "a"
   ]
  },
  {
   "cell_type": "code",
   "execution_count": null,
   "id": "62a327f7-217a-43b7-839a-b352376dfd59",
   "metadata": {},
   "outputs": [],
   "source": [
    "c"
   ]
  },
  {
   "cell_type": "code",
   "execution_count": null,
   "id": "229da197-8b80-47df-ae0c-dc415048c7e4",
   "metadata": {},
   "outputs": [],
   "source": [
    "mutable data type can be changed and immutable data type cannot be changed."
   ]
  },
  {
   "cell_type": "markdown",
   "id": "390625c3-6118-4851-a2a7-df11b16a941a",
   "metadata": {},
   "source": [
    "question 8"
   ]
  },
  {
   "cell_type": "code",
   "execution_count": 1,
   "id": "6fd46b92-7733-4205-9da1-8343e0e39616",
   "metadata": {},
   "outputs": [
    {
     "name": "stdout",
     "output_type": "stream",
     "text": [
      "[19, 19, 20, 22, 24, 24, 24, 25, 25, 26]\n",
      "19\n",
      "26\n"
     ]
    }
   ],
   "source": [
    "ages = [19, 22, 19, 24, 20, 25, 26, 24, 25, 24]\n",
    "print(sorted(ages))\n",
    "print(min(ages))\n",
    "print(max(ages))"
   ]
  },
  {
   "cell_type": "code",
   "execution_count": 3,
   "id": "3f933028-d08d-4d6e-859c-181c3778b2c0",
   "metadata": {},
   "outputs": [
    {
     "name": "stdout",
     "output_type": "stream",
     "text": [
      "[19, 22, 19, 24, 20, 25, 26, 24, 25, 24, 19, 26]\n"
     ]
    }
   ],
   "source": [
    "ages.append(19)\n",
    "ages.append(26)\n",
    "print(ages)"
   ]
  },
  {
   "cell_type": "code",
   "execution_count": 10,
   "id": "08f0adb7-6867-4ebf-a374-05946d237168",
   "metadata": {},
   "outputs": [
    {
     "name": "stdout",
     "output_type": "stream",
     "text": [
      "the median age is: 25.5\n"
     ]
    }
   ],
   "source": [
    "sum1 = 25+26\n",
    "median_age = sum1/2\n",
    "print('the median age is:',median_age)"
   ]
  },
  {
   "cell_type": "code",
   "execution_count": 45,
   "id": "6b50133d-f614-49f7-8464-f92b0b3c7d74",
   "metadata": {},
   "outputs": [
    {
     "ename": "TypeError",
     "evalue": "'int' object is not callable",
     "output_type": "error",
     "traceback": [
      "\u001b[1;31m---------------------------------------------------------------------------\u001b[0m",
      "\u001b[1;31mTypeError\u001b[0m                                 Traceback (most recent call last)",
      "Cell \u001b[1;32mIn[45], line 1\u001b[0m\n\u001b[1;32m----> 1\u001b[0m a\u001b[38;5;241m=\u001b[39m\u001b[38;5;28msum\u001b[39m(ages)\n\u001b[0;32m      2\u001b[0m average_age \u001b[38;5;241m=\u001b[39m a\u001b[38;5;241m/\u001b[39m\u001b[38;5;241m13\u001b[39m\n\u001b[0;32m      3\u001b[0m \u001b[38;5;28mprint\u001b[39m(\u001b[38;5;124m'\u001b[39m\u001b[38;5;124mthe average age is:\u001b[39m\u001b[38;5;124m'\u001b[39m,\u001b[38;5;28mround\u001b[39m(average_age,\u001b[38;5;241m2\u001b[39m))\n",
      "\u001b[1;31mTypeError\u001b[0m: 'int' object is not callable"
     ]
    }
   ],
   "source": [
    "a=sum(ages)\n",
    "average_age = a/13\n",
    "print('the average age is:',round(average_age,2))"
   ]
  },
  {
   "cell_type": "code",
   "execution_count": null,
   "id": "36eb4ac6-a500-42e3-abf0-c77ba571f292",
   "metadata": {},
   "outputs": [],
   "source": []
  },
  {
   "cell_type": "code",
   "execution_count": 24,
   "id": "9855c9aa-7037-46fe-bb42-0076ce123422",
   "metadata": {},
   "outputs": [
    {
     "name": "stdout",
     "output_type": "stream",
     "text": [
      "the range of ages is: 7\n"
     ]
    }
   ],
   "source": [
    "range_of_age = 26-19\n",
    "print('the range of ages is:',range_of_age)"
   ]
  },
  {
   "cell_type": "markdown",
   "id": "9811c7fe-4450-4a4c-b6cb-67a6fe6c6ef1",
   "metadata": {},
   "source": [
    "question 9"
   ]
  },
  {
   "cell_type": "code",
   "execution_count": 29,
   "id": "68422d24-eaa7-42f8-8fd1-64c263c3a62d",
   "metadata": {},
   "outputs": [
    {
     "name": "stdout",
     "output_type": "stream",
     "text": [
      "<class 'tuple'>\n"
     ]
    }
   ],
   "source": [
    "name =()\n",
    "print(type(name))"
   ]
  },
  {
   "cell_type": "code",
   "execution_count": 31,
   "id": "8cbc685c-1858-401d-a864-344b5e8e6136",
   "metadata": {},
   "outputs": [
    {
     "name": "stdout",
     "output_type": "stream",
     "text": [
      "<class 'tuple'>\n",
      "<class 'tuple'>\n",
      "('sundus', 'sumaiya', 'warda', 'waqas', 'saad', 'talha')\n"
     ]
    }
   ],
   "source": [
    "sisters =('sundus','sumaiya','warda')\n",
    "brothers=('waqas','saad','talha')\n",
    "siblings= sisters+brothers\n",
    "print(type(sisters))\n",
    "print(type(brothers))\n",
    "print(siblings)\n"
   ]
  },
  {
   "cell_type": "code",
   "execution_count": 33,
   "id": "cfa33fb5-d498-4f28-948f-42b5ed9cdfa5",
   "metadata": {},
   "outputs": [
    {
     "name": "stdout",
     "output_type": "stream",
     "text": [
      "6\n"
     ]
    }
   ],
   "source": [
    "print(len(siblings))"
   ]
  },
  {
   "cell_type": "code",
   "execution_count": 52,
   "id": "dd85e4e4-76bc-43cd-ac39-b2e161b3aada",
   "metadata": {},
   "outputs": [
    {
     "name": "stdout",
     "output_type": "stream",
     "text": [
      "('sundus', 'sumaiya', 'warda', 'waqas', 'saad', 'talha', 'mahmood', 'shazia')\n"
     ]
    }
   ],
   "source": [
    "family_members =('sundus','sumaiya','warda','waqas','saad','talha','mahmood','shazia')\n",
    "print(family_members)"
   ]
  },
  {
   "cell_type": "raw",
   "id": "3e374263-83f4-4372-b1a4-3d3abd2ebf26",
   "metadata": {},
   "source": []
  },
  {
   "cell_type": "code",
   "execution_count": null,
   "id": "e6473710-fe7c-47c1-8020-7be79d782971",
   "metadata": {},
   "outputs": [],
   "source": []
  }
 ],
 "metadata": {
  "kernelspec": {
   "display_name": "Python 3 (ipykernel)",
   "language": "python",
   "name": "python3"
  },
  "language_info": {
   "codemirror_mode": {
    "name": "ipython",
    "version": 3
   },
   "file_extension": ".py",
   "mimetype": "text/x-python",
   "name": "python",
   "nbconvert_exporter": "python",
   "pygments_lexer": "ipython3",
   "version": "3.12.4"
  }
 },
 "nbformat": 4,
 "nbformat_minor": 5
}

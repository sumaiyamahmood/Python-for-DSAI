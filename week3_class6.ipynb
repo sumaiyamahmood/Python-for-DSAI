{
 "cells": [
  {
   "cell_type": "markdown",
   "id": "70c834a9-f9ff-4817-a1be-3d9cedcb369d",
   "metadata": {},
   "source": [
    "## set"
   ]
  },
  {
   "cell_type": "code",
   "execution_count": 2,
   "id": "906e8396-e639-4ff6-b278-76b6fc5fb958",
   "metadata": {},
   "outputs": [
    {
     "name": "stdout",
     "output_type": "stream",
     "text": [
      "<class 'dict'>\n"
     ]
    }
   ],
   "source": [
    "# Representation {}\n",
    "name ={}\n",
    "print(type(name)) # python mai set and dict dono {} bracket se represent karta ha so if we make empty set then it assumes as dict."
   ]
  },
  {
   "cell_type": "code",
   "execution_count": 4,
   "id": "c20bf2ed-3969-45ad-8529-a1afb1ec3a6f",
   "metadata": {},
   "outputs": [
    {
     "name": "stdout",
     "output_type": "stream",
     "text": [
      "<class 'set'>\n"
     ]
    }
   ],
   "source": [
    "# whenever you want to declare an empty set so we use\n",
    "name = set()\n",
    "print(type(name))"
   ]
  },
  {
   "cell_type": "code",
   "execution_count": 6,
   "id": "331b779e-be01-49e4-90e7-c92e119051c5",
   "metadata": {},
   "outputs": [
    {
     "name": "stdout",
     "output_type": "stream",
     "text": [
      "{3, 4, 5}\n"
     ]
    }
   ],
   "source": [
    "s ={5,3,3,4}\n",
    "print(s)  # this tells k set is unordered b/c humne jis order mai elements diye woh uska order change krdeta ha "
   ]
  },
  {
   "cell_type": "code",
   "execution_count": 8,
   "id": "7eecf823-274f-411d-a18e-916c5628a1d5",
   "metadata": {},
   "outputs": [
    {
     "ename": "TypeError",
     "evalue": "unhashable type: 'set'",
     "output_type": "error",
     "traceback": [
      "\u001b[1;31m---------------------------------------------------------------------------\u001b[0m",
      "\u001b[1;31mTypeError\u001b[0m                                 Traceback (most recent call last)",
      "Cell \u001b[1;32mIn[8], line 1\u001b[0m\n\u001b[1;32m----> 1\u001b[0m s \u001b[38;5;241m=\u001b[39m{\u001b[38;5;241m5\u001b[39m,\u001b[38;5;241m3\u001b[39m,\u001b[38;5;241m3\u001b[39m,\u001b[38;5;241m4\u001b[39m,{\u001b[38;5;241m4\u001b[39m,\u001b[38;5;241m7\u001b[39m}} \u001b[38;5;66;03m# esi data types jo mutable ha in nature (eg. list and set) wo set ka part kabhi nahi banti .....items mutable nahi rkh skty\u001b[39;00m\n\u001b[0;32m      2\u001b[0m \u001b[38;5;28mprint\u001b[39m(s)\n",
      "\u001b[1;31mTypeError\u001b[0m: unhashable type: 'set'"
     ]
    }
   ],
   "source": [
    "s ={5,3,3,4,{4,7}} # esi data types jo mutable ha in nature (eg. list and set) wo set ka part kabhi nahi banti .....items mutable nahi rkh skty\n",
    "print(s) # if you add set in a set then error will be generated unhashable type"
   ]
  },
  {
   "cell_type": "code",
   "execution_count": 10,
   "id": "92e21208-b673-4baf-956c-4e88a0058aa3",
   "metadata": {},
   "outputs": [
    {
     "ename": "TypeError",
     "evalue": "unhashable type: 'list'",
     "output_type": "error",
     "traceback": [
      "\u001b[1;31m---------------------------------------------------------------------------\u001b[0m",
      "\u001b[1;31mTypeError\u001b[0m                                 Traceback (most recent call last)",
      "Cell \u001b[1;32mIn[10], line 2\u001b[0m\n\u001b[0;32m      1\u001b[0m \u001b[38;5;66;03m# same for list\u001b[39;00m\n\u001b[1;32m----> 2\u001b[0m s \u001b[38;5;241m=\u001b[39m{\u001b[38;5;241m5\u001b[39m,\u001b[38;5;241m3\u001b[39m,\u001b[38;5;241m3\u001b[39m,\u001b[38;5;241m4\u001b[39m,[\u001b[38;5;241m4\u001b[39m,\u001b[38;5;241m7\u001b[39m]}\n\u001b[0;32m      3\u001b[0m \u001b[38;5;28mprint\u001b[39m(s)\n",
      "\u001b[1;31mTypeError\u001b[0m: unhashable type: 'list'"
     ]
    }
   ],
   "source": [
    "# same for list\n",
    "s ={5,3,3,4,[4,7]} # unhashable error\n",
    "print(s)"
   ]
  },
  {
   "cell_type": "code",
   "execution_count": 12,
   "id": "e5cee567-7a3c-41d5-9124-d00c7866b33b",
   "metadata": {},
   "outputs": [
    {
     "name": "stdout",
     "output_type": "stream",
     "text": [
      "{5, 3, (9, 7), 4}\n"
     ]
    }
   ],
   "source": [
    "# but we can add tuple in a set b/c tuple is immutable\n",
    "s ={5,3,3,4,(9,7)}\n",
    "print(s)"
   ]
  },
  {
   "cell_type": "code",
   "execution_count": 28,
   "id": "01070cf9-a4aa-43ac-b51b-0b1b650dadc6",
   "metadata": {},
   "outputs": [
    {
     "name": "stdout",
     "output_type": "stream",
     "text": [
      "{1, 2.5, 'Sajid'}\n"
     ]
    }
   ],
   "source": [
    "s = {1,'Sajid',2.5,True}  # by default true matlb 1 and false matlb 0 so yahan true ko woh 1 assume kar raha ha thats why print ni kara\n",
    "print(s)"
   ]
  },
  {
   "cell_type": "code",
   "execution_count": 16,
   "id": "626ff0da-c1a0-412c-bcf1-0e597b325c1b",
   "metadata": {},
   "outputs": [
    {
     "name": "stdout",
     "output_type": "stream",
     "text": [
      "{False, 1, 2.5, 'Sajid'}\n"
     ]
    }
   ],
   "source": [
    "s = {1,'Sajid',2.5,False}  # false print hoga b/c 0 was not in set so 0 assume kar k print krdea cz 0 pehle nai tha set mai\n",
    "print(s)"
   ]
  },
  {
   "cell_type": "code",
   "execution_count": 20,
   "id": "5db4c1d3-3714-4f9e-9089-b09c1a4db778",
   "metadata": {},
   "outputs": [
    {
     "name": "stdout",
     "output_type": "stream",
     "text": [
      "<class 'set'>\n"
     ]
    }
   ],
   "source": [
    "fruit = set(['apple','banana','cherry'])  # type casting krdi list ko set bana dea.\n",
    "print(type(fruit))\n"
   ]
  },
  {
   "cell_type": "code",
   "execution_count": 22,
   "id": "6055d639-c279-4c23-a4a5-350e279ea909",
   "metadata": {},
   "outputs": [
    {
     "data": {
      "text/plain": [
       "True"
      ]
     },
     "execution_count": 22,
     "metadata": {},
     "output_type": "execute_result"
    }
   ],
   "source": [
    "s1 ={1,2,3,4}\n",
    "s2={4,2,3,1}\n",
    "s1==s2  # same ha b/c sets mai sequence matter nai krti so bs elements same hona chye doesnt matter the order."
   ]
  },
  {
   "cell_type": "code",
   "execution_count": 24,
   "id": "f6b6a8fd-9ecf-4601-8da1-365d651faf81",
   "metadata": {},
   "outputs": [
    {
     "data": {
      "text/plain": [
       "True"
      ]
     },
     "execution_count": 24,
     "metadata": {},
     "output_type": "execute_result"
    }
   ],
   "source": [
    "s1 ={1,1,2,3,4}\n",
    "s2={4,2,3,1}\n",
    "s1==s2"
   ]
  },
  {
   "cell_type": "code",
   "execution_count": 30,
   "id": "5203348b-87f6-4276-9364-0bd014b7ffaf",
   "metadata": {},
   "outputs": [
    {
     "data": {
      "text/plain": [
       "{1, 2.5, 'Sajid'}"
      ]
     },
     "execution_count": 30,
     "metadata": {},
     "output_type": "execute_result"
    }
   ],
   "source": [
    "s"
   ]
  },
  {
   "cell_type": "code",
   "execution_count": 36,
   "id": "e26f961b-3b44-45c5-ac1e-018cdd17dfd9",
   "metadata": {},
   "outputs": [
    {
     "ename": "TypeError",
     "evalue": "'set' object is not subscriptable",
     "output_type": "error",
     "traceback": [
      "\u001b[1;31m---------------------------------------------------------------------------\u001b[0m",
      "\u001b[1;31mTypeError\u001b[0m                                 Traceback (most recent call last)",
      "Cell \u001b[1;32mIn[36], line 2\u001b[0m\n\u001b[0;32m      1\u001b[0m \u001b[38;5;66;03m# Accessing element\u001b[39;00m\n\u001b[1;32m----> 2\u001b[0m \u001b[38;5;28mprint\u001b[39m(s[\u001b[38;5;241m0\u001b[39m])\n",
      "\u001b[1;31mTypeError\u001b[0m: 'set' object is not subscriptable"
     ]
    }
   ],
   "source": [
    "# Accessing element\n",
    "print(s[0])  # indexing nahi kar skte b/c set is unordered  so access nahi kar skte in set\n"
   ]
  },
  {
   "cell_type": "code",
   "execution_count": 34,
   "id": "c0b67937-729b-4dbe-959a-da2d45d4e772",
   "metadata": {},
   "outputs": [
    {
     "ename": "TypeError",
     "evalue": "'set' object does not support item assignment",
     "output_type": "error",
     "traceback": [
      "\u001b[1;31m---------------------------------------------------------------------------\u001b[0m",
      "\u001b[1;31mTypeError\u001b[0m                                 Traceback (most recent call last)",
      "Cell \u001b[1;32mIn[34], line 2\u001b[0m\n\u001b[0;32m      1\u001b[0m \u001b[38;5;66;03m# set mai nothing can be added or accessed\u001b[39;00m\n\u001b[1;32m----> 2\u001b[0m s[\u001b[38;5;241m0\u001b[39m]\u001b[38;5;241m=\u001b[39m\u001b[38;5;124m'\u001b[39m\u001b[38;5;124mbanana\u001b[39m\u001b[38;5;124m'\u001b[39m\n",
      "\u001b[1;31mTypeError\u001b[0m: 'set' object does not support item assignment"
     ]
    }
   ],
   "source": [
    "# set mai nothing can be added or accessed\n",
    "s[0]='banana'"
   ]
  },
  {
   "cell_type": "code",
   "execution_count": 38,
   "id": "c79894f1-5a5b-481e-af30-9c1171d0f329",
   "metadata": {},
   "outputs": [
    {
     "name": "stdout",
     "output_type": "stream",
     "text": [
      "{1, 2, 3, 4, 5}\n"
     ]
    }
   ],
   "source": [
    "S ={1,2,3,4}\n",
    "# add \n",
    "S.add(5)\n",
    "print(S)"
   ]
  },
  {
   "cell_type": "code",
   "execution_count": 40,
   "id": "d9755942-d73a-4d91-8f4f-64636ee7ac62",
   "metadata": {},
   "outputs": [
    {
     "ename": "TypeError",
     "evalue": "set.add() takes exactly one argument (2 given)",
     "output_type": "error",
     "traceback": [
      "\u001b[1;31m---------------------------------------------------------------------------\u001b[0m",
      "\u001b[1;31mTypeError\u001b[0m                                 Traceback (most recent call last)",
      "Cell \u001b[1;32mIn[40], line 1\u001b[0m\n\u001b[1;32m----> 1\u001b[0m S\u001b[38;5;241m.\u001b[39madd(\u001b[38;5;241m7\u001b[39m,\u001b[38;5;241m9\u001b[39m)\n\u001b[0;32m      2\u001b[0m \u001b[38;5;28mprint\u001b[39m(S)\n",
      "\u001b[1;31mTypeError\u001b[0m: set.add() takes exactly one argument (2 given)"
     ]
    }
   ],
   "source": [
    "S.add(7,9) \n",
    "print(S)"
   ]
  },
  {
   "cell_type": "code",
   "execution_count": 42,
   "id": "1c6eb88f-2087-4f7f-af9f-72cae63057c6",
   "metadata": {},
   "outputs": [
    {
     "name": "stdout",
     "output_type": "stream",
     "text": [
      "{1, 2, 3, 4, 5, 6, 7, 8}\n"
     ]
    }
   ],
   "source": [
    "# set mai multiple values add krne k lye update ka funcn use krengye\n",
    "# update\n",
    "S.update([5,8,6,7])\n",
    "print(S)"
   ]
  },
  {
   "cell_type": "code",
   "execution_count": null,
   "id": "2e7bc39f-0b2a-4451-ade4-579051f60604",
   "metadata": {},
   "outputs": [],
   "source": [
    "# set mai multiple time bhi agar run karenge tou woh add ni krega bar bar rather bs 1 bar add krdega b/c set mai duplicate ni hota."
   ]
  },
  {
   "cell_type": "code",
   "execution_count": 44,
   "id": "7b2ded44-f097-44db-a634-b39a265f2e65",
   "metadata": {},
   "outputs": [
    {
     "name": "stdout",
     "output_type": "stream",
     "text": [
      "{0, 1, 2, 3, 4, 5, 6, 7, 8, 9}\n"
     ]
    }
   ],
   "source": [
    "S.update((0,9))\n",
    "print(S)"
   ]
  },
  {
   "cell_type": "code",
   "execution_count": 46,
   "id": "8574954b-504c-452d-ae38-63e9d0c4ab1e",
   "metadata": {},
   "outputs": [
    {
     "ename": "TypeError",
     "evalue": "'int' object is not iterable",
     "output_type": "error",
     "traceback": [
      "\u001b[1;31m---------------------------------------------------------------------------\u001b[0m",
      "\u001b[1;31mTypeError\u001b[0m                                 Traceback (most recent call last)",
      "Cell \u001b[1;32mIn[46], line 1\u001b[0m\n\u001b[1;32m----> 1\u001b[0m S\u001b[38;5;241m.\u001b[39mupdate(\u001b[38;5;241m11\u001b[39m,\u001b[38;5;241m32\u001b[39m)\n\u001b[0;32m      2\u001b[0m \u001b[38;5;28mprint\u001b[39m(S)\n",
      "\u001b[1;31mTypeError\u001b[0m: 'int' object is not iterable"
     ]
    }
   ],
   "source": [
    "S.update(11,32) # never write like this always pass the elements in a list /set/tuple\n",
    "print(S)"
   ]
  },
  {
   "cell_type": "code",
   "execution_count": 48,
   "id": "68d2cf0a-e14f-49f3-b318-e6e86374467f",
   "metadata": {},
   "outputs": [
    {
     "name": "stdout",
     "output_type": "stream",
     "text": [
      "{0, 1, 2, 3, 4, 5, 6, 7, 8, 9, 33, 34}\n"
     ]
    }
   ],
   "source": [
    "S.update({34,33})\n",
    "print(S)"
   ]
  },
  {
   "cell_type": "code",
   "execution_count": 50,
   "id": "a04f5afd-74e0-4dc8-89fa-83b70cd48f6e",
   "metadata": {},
   "outputs": [
    {
     "name": "stdout",
     "output_type": "stream",
     "text": [
      "{1, 2, 3, 4, 5, 6, 7, 8, 9, 33, 34}\n"
     ]
    }
   ],
   "source": [
    "S.pop() # pop works in set but wo randomly delete karega not the last one so it supports this funcn but we dont use it normally.\n",
    "print(S)"
   ]
  },
  {
   "cell_type": "code",
   "execution_count": 52,
   "id": "b7629311-5c7f-44dd-9cc7-73a501db1014",
   "metadata": {},
   "outputs": [
    {
     "name": "stdout",
     "output_type": "stream",
     "text": [
      "{1, 2, 3, 4, 6, 7, 8, 9, 33, 34}\n"
     ]
    }
   ],
   "source": [
    "S.remove(5) # remove funcn can be used to del an element \n",
    "print(S)"
   ]
  },
  {
   "cell_type": "code",
   "execution_count": 54,
   "id": "5e61521d-87d3-47e6-9b13-3f9f3b8c0f23",
   "metadata": {},
   "outputs": [
    {
     "name": "stdout",
     "output_type": "stream",
     "text": [
      "{1, 2, 3, 4, 6, 7, 8, 9, 33, 34}\n"
     ]
    }
   ],
   "source": [
    "S.discard(44) # discard will delete the element that is given \n",
    "print\n",
    "print(S)"
   ]
  },
  {
   "cell_type": "code",
   "execution_count": 56,
   "id": "c9b32e24-3e4e-47de-9b53-152044084d45",
   "metadata": {},
   "outputs": [
    {
     "name": "stdout",
     "output_type": "stream",
     "text": [
      "set()\n"
     ]
    }
   ],
   "source": [
    "S.clear() # gives yoou an empty set\n",
    "print(S)"
   ]
  },
  {
   "cell_type": "code",
   "execution_count": 58,
   "id": "1ade1af2-c86c-4f9c-8da3-ed4d09c2cc72",
   "metadata": {},
   "outputs": [
    {
     "name": "stdout",
     "output_type": "stream",
     "text": [
      "{2, 3, 4, 5, 6, 10, 12, 13}\n"
     ]
    }
   ],
   "source": [
    "# operation in a set\n",
    "# union (|)\n",
    "s3 = {2,3,4,5,6}\n",
    "s4 = {3,4,5,10,12,13}\n",
    "print(s3|s4)"
   ]
  },
  {
   "cell_type": "code",
   "execution_count": 60,
   "id": "84ca5928-e3ef-4f8d-b98a-81aeb31733ff",
   "metadata": {},
   "outputs": [
    {
     "name": "stdout",
     "output_type": "stream",
     "text": [
      "{3, 4, 5}\n"
     ]
    }
   ],
   "source": [
    "# intersection (&)\n",
    "s3 = {2,3,4,5,6}\n",
    "s4 = {3,4,5,10,12,13}\n",
    "print(s3&s4)"
   ]
  },
  {
   "cell_type": "code",
   "execution_count": 64,
   "id": "6dd25f50-0932-4020-a140-35d1ab3d8308",
   "metadata": {},
   "outputs": [
    {
     "name": "stdout",
     "output_type": "stream",
     "text": [
      "{2, 6}\n",
      "{10, 12, 13}\n"
     ]
    }
   ],
   "source": [
    "# Difference (-)\n",
    "s3 = {2,3,4,5,6}\n",
    "s4 = {3,4,5,10,12,13}\n",
    "print(s3-s4) # both ans will be diff\n",
    "print(s4-s3)"
   ]
  },
  {
   "cell_type": "code",
   "execution_count": 68,
   "id": "b840caa4-17a5-481b-af23-8d48427773fe",
   "metadata": {},
   "outputs": [
    {
     "name": "stdout",
     "output_type": "stream",
     "text": [
      "{2, 6, 10, 12, 13}\n",
      "{2, 6, 10, 12, 13}\n"
     ]
    }
   ],
   "source": [
    "# Symmetric Difference (^)\n",
    "s3 = {2,3,4,5,6}\n",
    "s4 = {3,4,5,10,12,13}\n",
    "print(s3^s4) # both will be same \n",
    "print(s4^s3)"
   ]
  },
  {
   "cell_type": "code",
   "execution_count": 70,
   "id": "3729bcf4-c024-4808-a93f-558490f20948",
   "metadata": {},
   "outputs": [
    {
     "data": {
      "text/plain": [
       "True"
      ]
     },
     "execution_count": 70,
     "metadata": {},
     "output_type": "execute_result"
    }
   ],
   "source": [
    "# membership in set\n",
    "3 in s3"
   ]
  },
  {
   "cell_type": "code",
   "execution_count": 72,
   "id": "e63a43b0-aa3b-40c1-b338-8ad29bc0fe6e",
   "metadata": {},
   "outputs": [
    {
     "name": "stdout",
     "output_type": "stream",
     "text": [
      "6\n",
      "22\n",
      "1\n",
      "7\n",
      "[1, 2, 3, 4, 5, 7]\n"
     ]
    }
   ],
   "source": [
    "# len/sum/min/max/sorted\n",
    "s ={3,1,4,5,2,7}\n",
    "print(len(s))\n",
    "print(sum(s))\n",
    "print(min(s))\n",
    "print(max(s))\n",
    "print(sorted(s))"
   ]
  },
  {
   "cell_type": "code",
   "execution_count": null,
   "id": "0ab9c412-569e-401b-9d40-138acbea6dd7",
   "metadata": {},
   "outputs": [],
   "source": [
    "print(sorted(s))"
   ]
  },
  {
   "cell_type": "code",
   "execution_count": 1,
   "id": "26eafd76-6afc-4de8-9336-851579bb4ce3",
   "metadata": {},
   "outputs": [
    {
     "name": "stdout",
     "output_type": "stream",
     "text": [
      "{1, 2, 3, 4, 5}\n",
      "{1, 2, 3, 4, 5, 6, 7, 8}\n",
      "{1, 2, 3, 4, 5, 6, 7, 8}\n",
      "{4, 5, 6, 7, 8}\n"
     ]
    }
   ],
   "source": [
    "# union/update\n",
    "s1={1,2,3,4,5}\n",
    "s2={4,5,6,7,8}\n",
    "\n",
    "# s1 | s2\n",
    "result=s1.union(s2) \n",
    "print(s1)\n",
    "print(result)\n",
    "\n",
    "s1.update(s2) #s1 ko update krdega s2 se\n",
    "print(s1)\n",
    "print(s2)\n"
   ]
  },
  {
   "cell_type": "markdown",
   "id": "305c31e0-cb7a-4bde-87fe-fa6c281ae4aa",
   "metadata": {},
   "source": [
    "##issuperset / isdisjoint / issubset"
   ]
  },
  {
   "cell_type": "code",
   "execution_count": 80,
   "id": "0b3ecd75-852e-486f-a468-d475de05c75a",
   "metadata": {},
   "outputs": [
    {
     "data": {
      "text/plain": [
       "True"
      ]
     },
     "execution_count": 80,
     "metadata": {},
     "output_type": "execute_result"
    }
   ],
   "source": [
    "s1 = {1,2,3,4,5}\n",
    "s2={3,4,5}\n",
    "\n",
    "s1.issuperset(s2)"
   ]
  },
  {
   "cell_type": "code",
   "execution_count": 82,
   "id": "2cf41f83-b0bc-4f96-b691-6d0838b1fa51",
   "metadata": {},
   "outputs": [
    {
     "data": {
      "text/plain": [
       "False"
      ]
     },
     "execution_count": 82,
     "metadata": {},
     "output_type": "execute_result"
    }
   ],
   "source": [
    "s1 = {1,2,3,4,5}\n",
    "s2={1,8,5,6}\n",
    "\n",
    "s1.isdisjoint(s2)"
   ]
  },
  {
   "cell_type": "code",
   "execution_count": 86,
   "id": "ef8bd7a4-627a-4c06-a1e4-ade374e9b3e4",
   "metadata": {},
   "outputs": [
    {
     "data": {
      "text/plain": [
       "True"
      ]
     },
     "execution_count": 86,
     "metadata": {},
     "output_type": "execute_result"
    }
   ],
   "source": [
    "s1 = {1,2,3,4,}\n",
    "s2={7,8,5,6}   # both sets should be different so disjoint true aega\n",
    "\n",
    "s1.isdisjoint(s2)\n"
   ]
  },
  {
   "cell_type": "code",
   "execution_count": 94,
   "id": "1ef5055a-d36f-4bc4-a72d-c988fe1f0bb4",
   "metadata": {},
   "outputs": [
    {
     "data": {
      "text/plain": [
       "False"
      ]
     },
     "execution_count": 94,
     "metadata": {},
     "output_type": "execute_result"
    }
   ],
   "source": [
    "s1 = {1,2,3,4,5}\n",
    "s2={3,4,5}\n",
    "\n",
    "s1.issubset(s2)\n"
   ]
  },
  {
   "cell_type": "code",
   "execution_count": 92,
   "id": "cce3b9df-c83e-4d39-a52e-4a86d5e83567",
   "metadata": {},
   "outputs": [
    {
     "data": {
      "text/plain": [
       "True"
      ]
     },
     "execution_count": 92,
     "metadata": {},
     "output_type": "execute_result"
    }
   ],
   "source": [
    "s1 = {1,2,3,4,5}\n",
    "s2={3,4,5}\n",
    "\n",
    "s2.issubset(s1)"
   ]
  },
  {
   "cell_type": "code",
   "execution_count": 96,
   "id": "76de9e1c-5bb4-40c5-bb14-acb8ad998d78",
   "metadata": {},
   "outputs": [
    {
     "name": "stdout",
     "output_type": "stream",
     "text": [
      "frozenset({1, 2, 3})\n"
     ]
    }
   ],
   "source": [
    "# create frozenset\n",
    "fs1 = frozenset([1,2,3]) # now it acts as a tuple\n",
    "print(fs1)"
   ]
  },
  {
   "cell_type": "code",
   "execution_count": null,
   "id": "0202d447-64a3-4657-99c8-1f2f57c57072",
   "metadata": {},
   "outputs": [],
   "source": [
    "#frozen set is a special type of set which is immutable."
   ]
  },
  {
   "cell_type": "code",
   "execution_count": 100,
   "id": "4ba57369-71c3-4aa8-a50d-79fac899afb8",
   "metadata": {},
   "outputs": [
    {
     "data": {
      "text/plain": [
       "frozenset({1, 2, 3, 5, 6, 7, 8})"
      ]
     },
     "execution_count": 100,
     "metadata": {},
     "output_type": "execute_result"
    }
   ],
   "source": [
    "fs1 = frozenset([1,2,3])\n",
    "fs2 = frozenset([5,6,7,8])\n",
    "\n",
    "fs1 | fs2"
   ]
  },
  {
   "cell_type": "code",
   "execution_count": null,
   "id": "8786a564-0b7d-4260-93a5-bac04b46f1c3",
   "metadata": {},
   "outputs": [],
   "source": [
    "# what works and what does not\n",
    "# works --> all read functions\n",
    "# doesnot work ---> write operations"
   ]
  },
  {
   "cell_type": "code",
   "execution_count": 108,
   "id": "dea55255-0f23-49eb-b0be-06b4aecc8904",
   "metadata": {},
   "outputs": [
    {
     "data": {
      "text/plain": [
       "frozenset({1, 2, frozenset({3, 4})})"
      ]
     },
     "execution_count": 108,
     "metadata": {},
     "output_type": "execute_result"
    }
   ],
   "source": [
    "# when to use\n",
    "# 2D sets\n",
    "fs = frozenset([1,2,frozenset([3,4])])\n",
    "fs"
   ]
  },
  {
   "cell_type": "code",
   "execution_count": null,
   "id": "3235797e-3565-4b2f-bd3c-ceb866cbd5bb",
   "metadata": {},
   "outputs": [],
   "source": []
  }
 ],
 "metadata": {
  "kernelspec": {
   "display_name": "Python 3 (ipykernel)",
   "language": "python",
   "name": "python3"
  },
  "language_info": {
   "codemirror_mode": {
    "name": "ipython",
    "version": 3
   },
   "file_extension": ".py",
   "mimetype": "text/x-python",
   "name": "python",
   "nbconvert_exporter": "python",
   "pygments_lexer": "ipython3",
   "version": "3.12.4"
  }
 },
 "nbformat": 4,
 "nbformat_minor": 5
}

{
 "cells": [
  {
   "cell_type": "code",
   "execution_count": 1,
   "id": "1ed7ee29-bc6a-41f7-b1d3-0aed58d31f1c",
   "metadata": {},
   "outputs": [
    {
     "name": "stdout",
     "output_type": "stream",
     "text": [
      "We are learning Python\n"
     ]
    }
   ],
   "source": [
    "print('We are learning Python')\n"
   ]
  },
  {
   "cell_type": "raw",
   "id": "d01d7b32-9709-4d8a-9503-3ae6d178a28a",
   "metadata": {},
   "source": [
    "number = 20\n",
    "print(number)"
   ]
  },
  {
   "cell_type": "code",
   "execution_count": 2,
   "id": "45628158-7e77-4ed2-a5ce-b8a6facc2afa",
   "metadata": {},
   "outputs": [
    {
     "data": {
      "text/plain": [
       "4"
      ]
     },
     "execution_count": 2,
     "metadata": {},
     "output_type": "execute_result"
    }
   ],
   "source": [
    "2**2\n"
   ]
  },
  {
   "cell_type": "code",
   "execution_count": 4,
   "id": "2b8017da-3002-4085-9991-260c6aab0786",
   "metadata": {},
   "outputs": [
    {
     "name": "stdin",
     "output_type": "stream",
     "text": [
      "Enter Maths marks: 80\n",
      "Enter English marks: 89\n",
      "Enter Physics marks: 94\n",
      "Enter Chemistry marks: 76\n",
      "Enter Urdu marks: 85\n"
     ]
    },
    {
     "name": "stdout",
     "output_type": "stream",
     "text": [
      "Marks obtained : 424.0\n",
      "Marks obtained in percentage : 84.8\n"
     ]
    }
   ],
   "source": [
    "maths = float(input('Enter Maths marks:'))\n",
    "eng = float(input('Enter English marks:'))--\n",
    "phy = float(input('Enter Physics marks:'))\n",
    "chem = float(input('Enter Chemistry marks:'))\n",
    "urdu = float(input('Enter Urdu marks:'))\n",
    "total_marks = 500\n",
    "sum = maths + eng + phy + chem + urdu\n",
    "marks = sum / total_marks\n",
    "marks_obtained = marks * 100\n",
    "print('Marks obtained :',sum)\n",
    "print('Marks obtained in percentage :',marks_obtained)\n"
   ]
  },
  {
   "cell_type": "code",
   "execution_count": 6,
   "id": "81838865-0f2f-4574-8a59-c1161fd55a4b",
   "metadata": {},
   "outputs": [
    {
     "name": "stdout",
     "output_type": "stream",
     "text": [
      "<class 'int'>\n"
     ]
    }
   ],
   "source": [
    "number = int(3.6)\n",
    "print(type(number))\n"
   ]
  },
  {
   "cell_type": "code",
   "execution_count": 10,
   "id": "df888bf9-4a72-44a5-b044-0902d7900bda",
   "metadata": {},
   "outputs": [
    {
     "name": "stdout",
     "output_type": "stream",
     "text": [
      "<class 'str'>\n"
     ]
    }
   ],
   "source": [
    "number = str(6.5)\n",
    "print(type(number))"
   ]
  },
  {
   "cell_type": "code",
   "execution_count": 12,
   "id": "c8bc4d12-e2f2-43ba-ae50-dde91060dad3",
   "metadata": {},
   "outputs": [
    {
     "data": {
      "text/plain": [
       "1"
      ]
     },
     "execution_count": 12,
     "metadata": {},
     "output_type": "execute_result"
    }
   ],
   "source": [
    "min(1,2,3,4,5,7,8)\n"
   ]
  },
  {
   "cell_type": "code",
   "execution_count": 14,
   "id": "02934891-faab-4a70-aac3-4e8851a9cd26",
   "metadata": {},
   "outputs": [
    {
     "data": {
      "text/plain": [
       "65"
      ]
     },
     "execution_count": 14,
     "metadata": {},
     "output_type": "execute_result"
    }
   ],
   "source": [
    "max(5,8,9,45,65,0)"
   ]
  },
  {
   "cell_type": "code",
   "execution_count": 16,
   "id": "36de2612-d132-4828-90f6-2ba96016315e",
   "metadata": {},
   "outputs": [
    {
     "data": {
      "text/plain": [
       "8"
      ]
     },
     "execution_count": 16,
     "metadata": {},
     "output_type": "execute_result"
    }
   ],
   "source": [
    "pow(2,3)"
   ]
  },
  {
   "cell_type": "code",
   "execution_count": null,
   "id": "57002be7-6e0e-44c1-9647-b66eabf3a1aa",
   "metadata": {},
   "outputs": [],
   "source": []
  }
 ],
 "metadata": {
  "kernelspec": {
   "display_name": "Python 3 (ipykernel)",
   "language": "python",
   "name": "python3"
  },
  "language_info": {
   "codemirror_mode": {
    "name": "ipython",
    "version": 3
   },
   "file_extension": ".py",
   "mimetype": "text/x-python",
   "name": "python",
   "nbconvert_exporter": "python",
   "pygments_lexer": "ipython3",
   "version": "3.12.4"
  }
 },
 "nbformat": 4,
 "nbformat_minor": 5
}

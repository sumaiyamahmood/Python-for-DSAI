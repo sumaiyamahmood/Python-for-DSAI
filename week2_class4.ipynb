{
 "cells": [
  {
   "cell_type": "code",
   "execution_count": 1,
   "id": "71e9f49c-bd82-4bee-8224-69345370d136",
   "metadata": {},
   "outputs": [
    {
     "name": "stdin",
     "output_type": "stream",
     "text": [
      "Enter your full name:  sumaiya khan \n",
      "enter your first name: sumaiya\n"
     ]
    },
    {
     "data": {
      "text/plain": [
       "False"
      ]
     },
     "execution_count": 1,
     "metadata": {},
     "output_type": "execute_result"
    }
   ],
   "source": [
    "full_name = input('Enter your full name: ')\n",
    "first_name = input('enter your first name:')\n",
    "first_name in full_name\n",
    "first_name not in full_name"
   ]
  },
  {
   "cell_type": "code",
   "execution_count": 2,
   "id": "f1784f3a-b1e5-4303-956b-121fb1008d74",
   "metadata": {},
   "outputs": [
    {
     "name": "stdout",
     "output_type": "stream",
     "text": [
      "<class 'list'>\n",
      "declaring an empty list []\n"
     ]
    }
   ],
   "source": [
    "# declaring an empty list\n",
    "fruits =[]\n",
    "print(type(fruits))\n",
    "print('declaring an empty list',fruits)"
   ]
  },
  {
   "cell_type": "code",
   "execution_count": 3,
   "id": "6bdb6661-8e8a-4c0d-81ee-481b8a561cee",
   "metadata": {},
   "outputs": [
    {
     "name": "stdout",
     "output_type": "stream",
     "text": [
      "<class 'list'>\n",
      "['Mango', 'Banana', 'Grapes', 'Avacado', 'Berry']\n",
      "5\n"
     ]
    }
   ],
   "source": [
    "fruits =['Mango','Banana','Grapes','Avacado','Berry']\n",
    "print(type(fruits))\n",
    "print(fruits)\n",
    "print(len(fruits))"
   ]
  },
  {
   "cell_type": "markdown",
   "id": "9e21b9f9-8f1b-4bbd-bc3d-ecb5ba111459",
   "metadata": {},
   "source": [
    "adding elements in a list by using append"
   ]
  },
  {
   "cell_type": "code",
   "execution_count": 5,
   "id": "e44b365c-a838-4709-9958-a2738008d0fa",
   "metadata": {},
   "outputs": [
    {
     "name": "stdout",
     "output_type": "stream",
     "text": [
      "['Mango', 'Banana', 'Grapes', 'Avacado', 'Berry', 'Apple']\n"
     ]
    }
   ],
   "source": [
    "fruits.append('Apple')\n",
    "print(fruits)"
   ]
  },
  {
   "cell_type": "code",
   "execution_count": 6,
   "id": "b2d9eb86-dacf-4479-a73f-f388d25b6929",
   "metadata": {},
   "outputs": [
    {
     "name": "stdout",
     "output_type": "stream",
     "text": [
      "['Mango', 'Banana', 'Grapes', 'Avacado', 'Berry', 'Apple', 'Dragon fruit']\n"
     ]
    }
   ],
   "source": [
    "fruits.append('Dragon fruit')\n",
    "print(fruits)"
   ]
  },
  {
   "cell_type": "markdown",
   "id": "d94f6f90-956d-40a4-938d-0dfdf07b58c4",
   "metadata": {},
   "source": [
    "indexing always started with 0 [0,1,2,3,4,5,6]"
   ]
  },
  {
   "cell_type": "code",
   "execution_count": 8,
   "id": "da8d8742-a2da-4e83-a15a-c2badab19414",
   "metadata": {},
   "outputs": [
    {
     "name": "stdout",
     "output_type": "stream",
     "text": [
      "Mango\n",
      "Berry\n"
     ]
    }
   ],
   "source": [
    "print(fruits[0])\n",
    "print(fruits[4])"
   ]
  },
  {
   "cell_type": "markdown",
   "id": "2b00d351-2c00-44db-9614-4ece99a1e458",
   "metadata": {},
   "source": [
    "print fruits[]"
   ]
  },
  {
   "cell_type": "code",
   "execution_count": 10,
   "id": "90d3922c-a75f-4a81-9d2d-ed6294cab786",
   "metadata": {},
   "outputs": [
    {
     "ename": "SyntaxError",
     "evalue": "invalid syntax. Perhaps you forgot a comma? (3325017178.py, line 1)",
     "output_type": "error",
     "traceback": [
      "\u001b[1;36m  Cell \u001b[1;32mIn[10], line 1\u001b[1;36m\u001b[0m\n\u001b[1;33m    print(fruits[])\u001b[0m\n\u001b[1;37m          ^\u001b[0m\n\u001b[1;31mSyntaxError\u001b[0m\u001b[1;31m:\u001b[0m invalid syntax. Perhaps you forgot a comma?\n"
     ]
    }
   ],
   "source": [
    "print(fruits[])"
   ]
  },
  {
   "cell_type": "markdown",
   "id": "3ad316a2-ec09-491d-bd1f-d598608b9212",
   "metadata": {},
   "source": [
    "print(fruits[:])  inclusive : exclusive"
   ]
  },
  {
   "cell_type": "code",
   "execution_count": 23,
   "id": "a5bd22bf-0fc3-4dcf-82d7-7ca15fae21e9",
   "metadata": {},
   "outputs": [
    {
     "name": "stdout",
     "output_type": "stream",
     "text": [
      "['Mango', 'Banana', 'Grapes', 'Avacado', 'Berry', 'Apple', 'Dragon fruit']\n",
      "['Mango', 'Banana', 'Grapes', 'Avacado']\n"
     ]
    }
   ],
   "source": [
    "print(fruits[:])\n",
    "print(fruits[0:4])"
   ]
  },
  {
   "cell_type": "markdown",
   "id": "cba76875-9932-468a-9866-5523b23782d7",
   "metadata": {},
   "source": [
    "if we want from banana till apple then"
   ]
  },
  {
   "cell_type": "code",
   "execution_count": 25,
   "id": "7a64949c-0a93-4a59-b165-05cbfca4a921",
   "metadata": {},
   "outputs": [
    {
     "name": "stdout",
     "output_type": "stream",
     "text": [
      "['Banana', 'Grapes', 'Avacado', 'Berry', 'Apple']\n"
     ]
    }
   ],
   "source": [
    "print(fruits[1:6])"
   ]
  },
  {
   "cell_type": "markdown",
   "id": "6f861a03-3be1-4230-8e31-fc56a57779cf",
   "metadata": {},
   "source": [
    "inclusive : exclusive : step"
   ]
  },
  {
   "cell_type": "code",
   "execution_count": 27,
   "id": "a7d5d02d-4405-433e-a6cc-753f5d298b34",
   "metadata": {},
   "outputs": [
    {
     "name": "stdout",
     "output_type": "stream",
     "text": [
      "['Mango', 'Grapes', 'Berry', 'Dragon fruit']\n"
     ]
    }
   ],
   "source": [
    "print(fruits[0:7:2])"
   ]
  },
  {
   "cell_type": "code",
   "execution_count": 29,
   "id": "e9175577-cfe9-4e42-ae48-b12672ea2824",
   "metadata": {},
   "outputs": [
    {
     "name": "stdout",
     "output_type": "stream",
     "text": [
      "['Grapes', 'Berry', 'Dragon fruit']\n"
     ]
    }
   ],
   "source": [
    "print(fruits[2:7:2])"
   ]
  },
  {
   "cell_type": "code",
   "execution_count": 31,
   "id": "4232a3e0-daaa-478d-a682-877f300a5774",
   "metadata": {},
   "outputs": [
    {
     "name": "stdout",
     "output_type": "stream",
     "text": [
      "['Banana', 'Avacado', 'Apple']\n"
     ]
    }
   ],
   "source": [
    "print(fruits[1:6:2])"
   ]
  },
  {
   "cell_type": "markdown",
   "id": "cd730af7-47eb-4b58-a730-c2f28ef706a1",
   "metadata": {},
   "source": [
    "negative indexing [-4,-3,-2,-1] "
   ]
  },
  {
   "cell_type": "code",
   "execution_count": 34,
   "id": "e51234eb-a8ec-40a5-807b-481ba2ec3541",
   "metadata": {},
   "outputs": [
    {
     "name": "stdout",
     "output_type": "stream",
     "text": [
      "Dragon fruit\n",
      "Grapes\n",
      "['Grapes', 'Avacado', 'Berry', 'Apple']\n",
      "['Banana', 'Avacado', 'Apple']\n"
     ]
    }
   ],
   "source": [
    "print(fruits[-1])\n",
    "print(fruits[-5])\n",
    "print(fruits[-5:-1])\n",
    "print(fruits[-6:-1:2])"
   ]
  },
  {
   "cell_type": "code",
   "execution_count": 36,
   "id": "0abe82a3-b6f7-43e8-adb3-3a692d9469d2",
   "metadata": {},
   "outputs": [
    {
     "name": "stdout",
     "output_type": "stream",
     "text": [
      "['Mango', 'Banana', 'Grapes', 'Avacado', 'Berry', 'Apple', 'Dragon fruit']\n"
     ]
    }
   ],
   "source": [
    "print(fruits)\n"
   ]
  },
  {
   "cell_type": "markdown",
   "id": "3012c862-5fb1-447b-be32-e5dbeddf3ea2",
   "metadata": {},
   "source": [
    "insert function"
   ]
  },
  {
   "cell_type": "code",
   "execution_count": 39,
   "id": "d7d92a43-dad0-416b-85d8-ff03766ed9da",
   "metadata": {},
   "outputs": [
    {
     "name": "stdout",
     "output_type": "stream",
     "text": [
      "['Mango', 'Apricot', 'Banana', 'Grapes', 'Avacado', 'Berry', 'Apple', 'Dragon fruit']\n"
     ]
    }
   ],
   "source": [
    "fruits.insert(1,'Apricot')\n",
    "print(fruits)"
   ]
  },
  {
   "cell_type": "code",
   "execution_count": 41,
   "id": "9b1baca8-3630-4710-a64e-a17bad62cf45",
   "metadata": {},
   "outputs": [
    {
     "name": "stdout",
     "output_type": "stream",
     "text": [
      "['Mango', 'Apricot', 'Banana', 'Grapes', 'Avacado', 'Watermelon', 'Berry', 'Apple', 'Dragon fruit']\n"
     ]
    }
   ],
   "source": [
    "fruits.insert(5,'Watermelon')\n",
    "print(fruits)"
   ]
  },
  {
   "cell_type": "code",
   "execution_count": 43,
   "id": "a9df9227-7382-480a-b726-1fab5a570724",
   "metadata": {},
   "outputs": [
    {
     "data": {
      "text/plain": [
       "9"
      ]
     },
     "execution_count": 43,
     "metadata": {},
     "output_type": "execute_result"
    }
   ],
   "source": [
    "len(fruits)\n"
   ]
  },
  {
   "cell_type": "code",
   "execution_count": 45,
   "id": "314bf00a-cd6f-4293-80d6-aab9bdf870be",
   "metadata": {},
   "outputs": [
    {
     "ename": "IndexError",
     "evalue": "list index out of range",
     "output_type": "error",
     "traceback": [
      "\u001b[1;31m---------------------------------------------------------------------------\u001b[0m",
      "\u001b[1;31mIndexError\u001b[0m                                Traceback (most recent call last)",
      "Cell \u001b[1;32mIn[45], line 1\u001b[0m\n\u001b[1;32m----> 1\u001b[0m fruits[\u001b[38;5;241m10\u001b[39m]\n",
      "\u001b[1;31mIndexError\u001b[0m: list index out of range"
     ]
    }
   ],
   "source": [
    "fruits[10]"
   ]
  },
  {
   "cell_type": "markdown",
   "id": "24016fd9-a4cb-4f11-bdfd-7db02d2c4b73",
   "metadata": {},
   "source": [
    "when the element you called is not a part of your list then it will generate an error of index out of range."
   ]
  },
  {
   "cell_type": "code",
   "execution_count": 48,
   "id": "e9ffeb07-c331-4b11-9b46-89b59e02427b",
   "metadata": {},
   "outputs": [
    {
     "name": "stdout",
     "output_type": "stream",
     "text": [
      "['Mango', 'Apricot', 'Banana', 'Grapes', 'Avacado', 'Watermelon', 'Berry', 'Apple']\n"
     ]
    }
   ],
   "source": [
    "fruits.pop()\n",
    "print(fruits)"
   ]
  },
  {
   "cell_type": "markdown",
   "id": "e014b9f3-3336-451f-8561-6bfa3b1b9678",
   "metadata": {},
   "source": [
    "this deletes the last element from the list which was dragon fruit"
   ]
  },
  {
   "cell_type": "code",
   "execution_count": 51,
   "id": "866b6049-2c54-4310-b798-efc888c982c1",
   "metadata": {},
   "outputs": [
    {
     "name": "stdout",
     "output_type": "stream",
     "text": [
      "['Apricot', 'Banana', 'Grapes', 'Avacado', 'Watermelon', 'Berry', 'Apple']\n"
     ]
    }
   ],
   "source": [
    "fruits.pop(0)\n",
    "print(fruits)"
   ]
  },
  {
   "cell_type": "markdown",
   "id": "491db0ca-ae34-46dd-ae5c-563d98e639ba",
   "metadata": {},
   "source": [
    "now it deletes the element at position 0 which was mango"
   ]
  },
  {
   "cell_type": "code",
   "execution_count": 54,
   "id": "6f382b71-16f4-47ce-a06b-d06c95176676",
   "metadata": {},
   "outputs": [],
   "source": [
    "fruits.remove('Grapes')"
   ]
  },
  {
   "cell_type": "code",
   "execution_count": 56,
   "id": "31217e43-2be2-42c0-bb59-796dc6145896",
   "metadata": {},
   "outputs": [
    {
     "name": "stdout",
     "output_type": "stream",
     "text": [
      "['Apricot', 'Banana', 'Avacado', 'Watermelon', 'Berry', 'Apple']\n"
     ]
    }
   ],
   "source": [
    "print(fruits)"
   ]
  },
  {
   "cell_type": "code",
   "execution_count": 58,
   "id": "ae8cef25-4478-4957-84e5-6c78b70c12f7",
   "metadata": {},
   "outputs": [
    {
     "ename": "TypeError",
     "evalue": "'str' object cannot be interpreted as an integer",
     "output_type": "error",
     "traceback": [
      "\u001b[1;31m---------------------------------------------------------------------------\u001b[0m",
      "\u001b[1;31mTypeError\u001b[0m                                 Traceback (most recent call last)",
      "Cell \u001b[1;32mIn[58], line 1\u001b[0m\n\u001b[1;32m----> 1\u001b[0m fruits\u001b[38;5;241m.\u001b[39mpop(\u001b[38;5;124m'\u001b[39m\u001b[38;5;124mGrapes\u001b[39m\u001b[38;5;124m'\u001b[39m)\n\u001b[0;32m      2\u001b[0m \u001b[38;5;28mprint\u001b[39m(fruits)\n",
      "\u001b[1;31mTypeError\u001b[0m: 'str' object cannot be interpreted as an integer"
     ]
    }
   ],
   "source": [
    "fruits.pop('Grapes')\n",
    "print(fruits)"
   ]
  },
  {
   "cell_type": "code",
   "execution_count": 60,
   "id": "2358b91b-d09c-4a2b-bfcd-0cad43d38004",
   "metadata": {},
   "outputs": [
    {
     "name": "stdout",
     "output_type": "stream",
     "text": [
      "['melon', 'mango', 'kiwi']\n"
     ]
    }
   ],
   "source": [
    "fruits_in_summer = ['melon','mango','kiwi']\n",
    "print(fruits_in_summer)"
   ]
  },
  {
   "cell_type": "code",
   "execution_count": 62,
   "id": "046bb80e-903f-45f4-8368-788772041263",
   "metadata": {},
   "outputs": [
    {
     "name": "stdout",
     "output_type": "stream",
     "text": [
      "['Apricot', 'Banana', 'Avacado', 'Watermelon', 'Berry', 'Apple', ['melon', 'mango', 'kiwi']]\n"
     ]
    }
   ],
   "source": [
    "fruits.append(fruits_in_summer)\n",
    "print(fruits)"
   ]
  },
  {
   "cell_type": "code",
   "execution_count": 64,
   "id": "3cec5424-be76-48e6-8be1-5c3a92242000",
   "metadata": {},
   "outputs": [
    {
     "name": "stdout",
     "output_type": "stream",
     "text": [
      "Apple\n",
      "['melon', 'mango', 'kiwi']\n"
     ]
    }
   ],
   "source": [
    "print(fruits[5])\n",
    "print(fruits[6])"
   ]
  },
  {
   "cell_type": "markdown",
   "id": "c272ab6e-6225-4fa4-9900-d8c7ffd216a6",
   "metadata": {},
   "source": [
    "we want only mango and kiwi"
   ]
  },
  {
   "cell_type": "code",
   "execution_count": 67,
   "id": "296fd183-86d5-48ad-9360-691fd12a5450",
   "metadata": {},
   "outputs": [
    {
     "name": "stdout",
     "output_type": "stream",
     "text": [
      "['mango', 'kiwi']\n"
     ]
    }
   ],
   "source": [
    "print(fruits[6][1:])"
   ]
  },
  {
   "cell_type": "markdown",
   "id": "d2392b0d-e149-438d-bdaf-5c211e068bf9",
   "metadata": {},
   "source": [
    "so for this first we will put a parent index and then child index ayega because 6 index k andar 3 elements hai"
   ]
  },
  {
   "cell_type": "code",
   "execution_count": 70,
   "id": "b08c96d7-4760-4ae7-8e0c-4a3512a0b3bf",
   "metadata": {},
   "outputs": [
    {
     "name": "stdout",
     "output_type": "stream",
     "text": [
      "mango\n",
      "['melon', 'mango']\n"
     ]
    }
   ],
   "source": [
    "print(fruits[6][1])\n",
    "print(fruits[6][0:2])"
   ]
  },
  {
   "cell_type": "code",
   "execution_count": 72,
   "id": "5b9dfce7-cd38-4628-a4fe-e0bdf10275c8",
   "metadata": {},
   "outputs": [
    {
     "name": "stdout",
     "output_type": "stream",
     "text": [
      "['melon', 'kiwi']\n"
     ]
    }
   ],
   "source": [
    "print(fruits[6][0:3:2])"
   ]
  },
  {
   "cell_type": "code",
   "execution_count": 74,
   "id": "579ee481-d7f3-40d5-89ef-ba1982bbc6ec",
   "metadata": {},
   "outputs": [
    {
     "data": {
      "text/plain": [
       "1"
      ]
     },
     "execution_count": 74,
     "metadata": {},
     "output_type": "execute_result"
    }
   ],
   "source": [
    "fruits.count('Apple')"
   ]
  },
  {
   "cell_type": "code",
   "execution_count": 76,
   "id": "15ff4786-4b0f-4cb3-98ea-09c1ba7d1822",
   "metadata": {},
   "outputs": [
    {
     "name": "stdout",
     "output_type": "stream",
     "text": [
      "['Apricot', 'Banana', 'Avacado', 'Watermelon', 'Berry', 'Apple', ['melon', 'mango', 'kiwi']]\n"
     ]
    }
   ],
   "source": [
    "print(fruits)"
   ]
  },
  {
   "cell_type": "code",
   "execution_count": 78,
   "id": "9a3dc12f-9675-4bbf-a0e0-bd890076f610",
   "metadata": {},
   "outputs": [
    {
     "data": {
      "text/plain": [
       "1"
      ]
     },
     "execution_count": 78,
     "metadata": {},
     "output_type": "execute_result"
    }
   ],
   "source": [
    "fruits.count('Berry')"
   ]
  },
  {
   "cell_type": "code",
   "execution_count": 80,
   "id": "91ba71ca-4e92-481e-a0ef-f6c6a611f2a7",
   "metadata": {},
   "outputs": [
    {
     "data": {
      "text/plain": [
       "1"
      ]
     },
     "execution_count": 80,
     "metadata": {},
     "output_type": "execute_result"
    }
   ],
   "source": [
    "fruits[6].count('kiwi')"
   ]
  },
  {
   "cell_type": "markdown",
   "id": "1efec9cf-e789-41ad-a1dd-97d780b89711",
   "metadata": {},
   "source": [
    "to check an element in a child index we will first call parent index then count function just like we did above for kiwi"
   ]
  },
  {
   "cell_type": "code",
   "execution_count": 83,
   "id": "4381849b-306b-4572-8d70-7667363a4b1b",
   "metadata": {},
   "outputs": [
    {
     "name": "stdout",
     "output_type": "stream",
     "text": [
      "1\n",
      "1\n"
     ]
    }
   ],
   "source": [
    "print(fruits.count('Berry'))\n",
    "print(fruits[6].count('kiwi'))"
   ]
  },
  {
   "cell_type": "code",
   "execution_count": null,
   "id": "019a6bb0-7f55-4c84-bdde-3a2e3d424d53",
   "metadata": {},
   "outputs": [],
   "source": []
  },
  {
   "cell_type": "code",
   "execution_count": 87,
   "id": "986d746b-cbc8-40b6-b0ae-d8abe7dd3d35",
   "metadata": {},
   "outputs": [
    {
     "name": "stdout",
     "output_type": "stream",
     "text": [
      "['Apricot', 'Banana', 'Avacado', 'Watermelon', 'Berry', 'Apple', ['melon', 'mango', 'kiwi']]\n"
     ]
    }
   ],
   "source": [
    "fruits.reverse()\n",
    "print(fruits)"
   ]
  },
  {
   "cell_type": "code",
   "execution_count": 89,
   "id": "42f6569f-8ba8-44e7-9981-f9c9cb9f9fc8",
   "metadata": {},
   "outputs": [
    {
     "name": "stdout",
     "output_type": "stream",
     "text": [
      "['Apricot', 'Banana', 'Avacado', 'Watermelon', 'Berry', 'Apple', ['melon', 'mango', 'kiwi']]\n"
     ]
    }
   ],
   "source": [
    "print(fruits)"
   ]
  },
  {
   "cell_type": "code",
   "execution_count": null,
   "id": "32dbb47f-dc71-4481-9c1d-0e4b53270197",
   "metadata": {},
   "outputs": [],
   "source": []
  }
 ],
 "metadata": {
  "kernelspec": {
   "display_name": "Python 3 (ipykernel)",
   "language": "python",
   "name": "python3"
  },
  "language_info": {
   "codemirror_mode": {
    "name": "ipython",
    "version": 3
   },
   "file_extension": ".py",
   "mimetype": "text/x-python",
   "name": "python",
   "nbconvert_exporter": "python",
   "pygments_lexer": "ipython3",
   "version": "3.12.4"
  }
 },
 "nbformat": 4,
 "nbformat_minor": 5
}

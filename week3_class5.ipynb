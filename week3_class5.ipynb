{
 "cells": [
  {
   "cell_type": "code",
   "execution_count": 42,
   "id": "ae658cfd-d971-435d-81aa-13e2a6c3bcf9",
   "metadata": {},
   "outputs": [
    {
     "name": "stdout",
     "output_type": "stream",
     "text": [
      "['Apple', 'Banana', 'Grapes', 'Orange']\n"
     ]
    }
   ],
   "source": [
    "my_favourite_fruits = ['Apple','Banana','Grapes','Orange']\n",
    "not_favourite = ['Strawberry','Apricot','Guava','Peach']\n",
    "occasional_fruits = ['Mango','Watermelon','Pear','Avacado']\n",
    "print(my_favourite_fruits)\n"
   ]
  },
  {
   "cell_type": "code",
   "execution_count": 44,
   "id": "4d9b991e-5199-4906-8266-f28552610c94",
   "metadata": {},
   "outputs": [
    {
     "name": "stdout",
     "output_type": "stream",
     "text": [
      "['Apple', 'Banana', 'Grapes', 'Orange', ['Strawberry', 'Apricot', 'Guava', 'Peach']]\n"
     ]
    }
   ],
   "source": [
    "my_favourite_fruits.append(not_favourite)\n",
    "print(my_favourite_fruits)"
   ]
  },
  {
   "cell_type": "code",
   "execution_count": 46,
   "id": "816f76a0-67e4-4114-99cd-27d5052440b8",
   "metadata": {},
   "outputs": [
    {
     "name": "stdout",
     "output_type": "stream",
     "text": [
      "[['Mango', 'Watermelon', 'Pear', 'Avacado'], 'Apple', 'Banana', 'Grapes', 'Orange', ['Strawberry', 'Apricot', 'Guava', 'Peach']]\n"
     ]
    }
   ],
   "source": [
    "my_favourite_fruits.insert(0,occasional_fruits)\n",
    "print(my_favourite_fruits)"
   ]
  },
  {
   "cell_type": "code",
   "execution_count": 30,
   "id": "3f759307-fdcf-4d04-8763-c920a2b8acf8",
   "metadata": {},
   "outputs": [
    {
     "data": {
      "text/plain": [
       "['Strawberry', 'Apricot', 'Guava', 'Peach']"
      ]
     },
     "execution_count": 30,
     "metadata": {},
     "output_type": "execute_result"
    }
   ],
   "source": [
    "my_favourite_fruits[5]"
   ]
  },
  {
   "cell_type": "code",
   "execution_count": 32,
   "id": "4224d5bb-e30e-427d-a4ad-532e207bf1b7",
   "metadata": {},
   "outputs": [
    {
     "data": {
      "text/plain": [
       "6"
      ]
     },
     "execution_count": 32,
     "metadata": {},
     "output_type": "execute_result"
    }
   ],
   "source": [
    "len(my_favourite_fruits)"
   ]
  },
  {
   "cell_type": "code",
   "execution_count": 34,
   "id": "75658118-2ec3-4733-98ef-cb5e9a9df3a2",
   "metadata": {},
   "outputs": [
    {
     "data": {
      "text/plain": [
       "1"
      ]
     },
     "execution_count": 34,
     "metadata": {},
     "output_type": "execute_result"
    }
   ],
   "source": [
    "my_favourite_fruits.count('Apple')"
   ]
  },
  {
   "cell_type": "code",
   "execution_count": 36,
   "id": "e928ff90-7c93-4d4d-948b-ef9a6529a986",
   "metadata": {},
   "outputs": [
    {
     "name": "stdout",
     "output_type": "stream",
     "text": [
      "[['Mango', 'Watermelon', 'Pear', 'Avacado'], 'Apple', 'Banana', 'Grapes', 'Orange', ['Strawberry', 'Peach']]\n"
     ]
    }
   ],
   "source": [
    "my_favourite_fruits[5].remove('Apricot')\n",
    "my_favourite_fruits[5].remove('Guava')\n",
    "print(my_favourite_fruits)"
   ]
  },
  {
   "cell_type": "code",
   "execution_count": 38,
   "id": "aa8d9454-af2b-4ea0-b4e3-b318ab0dcefd",
   "metadata": {},
   "outputs": [
    {
     "name": "stdout",
     "output_type": "stream",
     "text": [
      "[['Strawberry', 'Peach'], 'Orange', 'Grapes', 'Banana', 'Apple', ['Mango', 'Watermelon', 'Pear', 'Avacado']]\n"
     ]
    }
   ],
   "source": [
    "my_favourite_fruits.reverse()\n",
    "print(my_favourite_fruits)"
   ]
  },
  {
   "cell_type": "code",
   "execution_count": 9,
   "id": "25fc86aa-70ee-4523-b7d0-4870e50ddc16",
   "metadata": {},
   "outputs": [
    {
     "name": "stdout",
     "output_type": "stream",
     "text": [
      "[]\n"
     ]
    }
   ],
   "source": [
    "#  to clear the entire list we use clear function.\n",
    "my_favourite_fruits.clear()\n",
    "print(my_favourite_fruits)"
   ]
  },
  {
   "cell_type": "code",
   "execution_count": 10,
   "id": "06082c64-d462-4fe1-98b1-1bd761cecceb",
   "metadata": {},
   "outputs": [],
   "source": [
    "# delete function deletes the entire list so the list wont exist\n"
   ]
  },
  {
   "cell_type": "code",
   "execution_count": 48,
   "id": "6fe61eb5-a327-4e26-b476-e7546c3fbf0e",
   "metadata": {},
   "outputs": [
    {
     "name": "stdout",
     "output_type": "stream",
     "text": [
      "[['Mango', 'Watermelon', 'Pear', 'Avacado'], 'Apple', 'Banana', 'Grapes', 'Orange', ['Strawberry', 'Apricot', 'Guava', 'Peach']]\n"
     ]
    }
   ],
   "source": [
    "print(my_favourite_fruits)"
   ]
  },
  {
   "cell_type": "code",
   "execution_count": 52,
   "id": "be4b9105-0bfc-4e1e-8e22-2827eaffe1ca",
   "metadata": {},
   "outputs": [
    {
     "data": {
      "text/plain": [
       "True"
      ]
     },
     "execution_count": 52,
     "metadata": {},
     "output_type": "execute_result"
    }
   ],
   "source": [
    "# membership operator\n",
    "'Apple' in my_favourite_fruits"
   ]
  },
  {
   "cell_type": "code",
   "execution_count": 54,
   "id": "ec7f8cb7-d643-4394-b445-9972aa58a289",
   "metadata": {},
   "outputs": [
    {
     "data": {
      "text/plain": [
       "True"
      ]
     },
     "execution_count": 54,
     "metadata": {},
     "output_type": "execute_result"
    }
   ],
   "source": [
    "'Mango' in my_favourite_fruits[0]"
   ]
  },
  {
   "cell_type": "code",
   "execution_count": 56,
   "id": "91cd60a2-ad89-4bdb-b619-250a3393a382",
   "metadata": {},
   "outputs": [
    {
     "data": {
      "text/plain": [
       "False"
      ]
     },
     "execution_count": 56,
     "metadata": {},
     "output_type": "execute_result"
    }
   ],
   "source": [
    "'Mango' in my_favourite_fruits # false beacuse mango sub class mai ha "
   ]
  },
  {
   "cell_type": "code",
   "execution_count": 58,
   "id": "c12b1fa5-e0fd-4b99-b4ed-d27e774e122e",
   "metadata": {},
   "outputs": [
    {
     "data": {
      "text/plain": [
       "True"
      ]
     },
     "execution_count": 58,
     "metadata": {},
     "output_type": "execute_result"
    }
   ],
   "source": [
    "'Pomegrante' not in my_favourite_fruits"
   ]
  },
  {
   "cell_type": "code",
   "execution_count": 80,
   "id": "f46b44b1-997b-458f-bba9-1649ced8c25f",
   "metadata": {},
   "outputs": [
    {
     "name": "stdout",
     "output_type": "stream",
     "text": [
      "(1, 2, 2, 3, 4, 2, 6, 7, 8)\n",
      "<class 'tuple'>\n"
     ]
    }
   ],
   "source": [
    "# Mutable is changeable\n",
    "# Imputable unchangable\n",
    "# ()\n",
    "numbers = (1,2,2,3,4,2,6,7,8)\n",
    "print(numbers)\n",
    "print(type(numbers))"
   ]
  },
  {
   "cell_type": "code",
   "execution_count": 82,
   "id": "9656e2aa-8d6b-4d21-ac40-eefbca02a4b6",
   "metadata": {},
   "outputs": [
    {
     "data": {
      "text/plain": [
       "1"
      ]
     },
     "execution_count": 82,
     "metadata": {},
     "output_type": "execute_result"
    }
   ],
   "source": [
    "numbers[0]"
   ]
  },
  {
   "cell_type": "code",
   "execution_count": 84,
   "id": "e2510a07-7862-4507-951b-c68a0af86a62",
   "metadata": {},
   "outputs": [
    {
     "ename": "AttributeError",
     "evalue": "'tuple' object has no attribute 'append'",
     "output_type": "error",
     "traceback": [
      "\u001b[1;31m---------------------------------------------------------------------------\u001b[0m",
      "\u001b[1;31mAttributeError\u001b[0m                            Traceback (most recent call last)",
      "Cell \u001b[1;32mIn[84], line 1\u001b[0m\n\u001b[1;32m----> 1\u001b[0m numbers\u001b[38;5;241m.\u001b[39mappend(\u001b[38;5;241m5\u001b[39m)\n",
      "\u001b[1;31mAttributeError\u001b[0m: 'tuple' object has no attribute 'append'"
     ]
    }
   ],
   "source": [
    "numbers.append(5)"
   ]
  },
  {
   "cell_type": "code",
   "execution_count": 86,
   "id": "57b9ba3b-85d4-4930-9641-3545807f88dd",
   "metadata": {},
   "outputs": [
    {
     "ename": "AttributeError",
     "evalue": "'tuple' object has no attribute 'insert'",
     "output_type": "error",
     "traceback": [
      "\u001b[1;31m---------------------------------------------------------------------------\u001b[0m",
      "\u001b[1;31mAttributeError\u001b[0m                            Traceback (most recent call last)",
      "Cell \u001b[1;32mIn[86], line 1\u001b[0m\n\u001b[1;32m----> 1\u001b[0m numbers\u001b[38;5;241m.\u001b[39minsert(\u001b[38;5;241m1\u001b[39m,\u001b[38;5;241m3\u001b[39m)\n",
      "\u001b[1;31mAttributeError\u001b[0m: 'tuple' object has no attribute 'insert'"
     ]
    }
   ],
   "source": [
    "numbers.insert(1,3)"
   ]
  },
  {
   "cell_type": "code",
   "execution_count": 88,
   "id": "43198cbf-8945-477e-bf21-43d70857bf03",
   "metadata": {},
   "outputs": [
    {
     "ename": "AttributeError",
     "evalue": "'tuple' object has no attribute 'pop'",
     "output_type": "error",
     "traceback": [
      "\u001b[1;31m---------------------------------------------------------------------------\u001b[0m",
      "\u001b[1;31mAttributeError\u001b[0m                            Traceback (most recent call last)",
      "Cell \u001b[1;32mIn[88], line 1\u001b[0m\n\u001b[1;32m----> 1\u001b[0m numbers\u001b[38;5;241m.\u001b[39mpop()\n",
      "\u001b[1;31mAttributeError\u001b[0m: 'tuple' object has no attribute 'pop'"
     ]
    }
   ],
   "source": [
    "numbers.pop()"
   ]
  },
  {
   "cell_type": "code",
   "execution_count": 90,
   "id": "24ec4e31-4521-4f92-8eb3-996849c4d7f1",
   "metadata": {},
   "outputs": [
    {
     "data": {
      "text/plain": [
       "3"
      ]
     },
     "execution_count": 90,
     "metadata": {},
     "output_type": "execute_result"
    }
   ],
   "source": [
    "numbers.count(2)"
   ]
  },
  {
   "cell_type": "code",
   "execution_count": 92,
   "id": "4b80fd51-ae75-4740-a003-a4e4e4018c86",
   "metadata": {},
   "outputs": [
    {
     "name": "stdout",
     "output_type": "stream",
     "text": [
      "(1, 2, 2, 3, 4, 2, 6, 7, 8)\n"
     ]
    }
   ],
   "source": [
    "print(numbers)"
   ]
  },
  {
   "cell_type": "code",
   "execution_count": 94,
   "id": "d6c36840-5cbb-4cab-ac60-f8d09b7f9d1a",
   "metadata": {},
   "outputs": [
    {
     "name": "stdout",
     "output_type": "stream",
     "text": [
      "(19, 12, 23, 11, 25, 26)\n"
     ]
    }
   ],
   "source": [
    "number1 = (19,12,23,11,25,26)\n",
    "print(number1)"
   ]
  },
  {
   "cell_type": "code",
   "execution_count": 96,
   "id": "c494301d-d186-48d1-99ce-b41c03f3ea14",
   "metadata": {},
   "outputs": [
    {
     "name": "stdout",
     "output_type": "stream",
     "text": [
      "(1, 2, 2, 3, 4, 2, 6, 7, 8, 19, 12, 23, 11, 25, 26)\n"
     ]
    }
   ],
   "source": [
    "number_list = numbers+number1  # treats + as concadination not addition\n",
    "print(number_list)"
   ]
  },
  {
   "cell_type": "code",
   "execution_count": 104,
   "id": "9ef970cb-0ba6-4834-bb96-adb867adedf4",
   "metadata": {},
   "outputs": [
    {
     "data": {
      "text/plain": [
       "8"
      ]
     },
     "execution_count": 104,
     "metadata": {},
     "output_type": "execute_result"
    }
   ],
   "source": [
    "3+5"
   ]
  },
  {
   "cell_type": "code",
   "execution_count": 107,
   "id": "4bdfbcce-34f8-4e07-8792-82dad1279c22",
   "metadata": {},
   "outputs": [
    {
     "data": {
      "text/plain": [
       "'35'"
      ]
     },
     "execution_count": 107,
     "metadata": {},
     "output_type": "execute_result"
    }
   ],
   "source": [
    "'3'+'5' # this is not addition rather concadination"
   ]
  },
  {
   "cell_type": "code",
   "execution_count": 98,
   "id": "7d29f86c-8c5c-4901-9713-266a9d59d815",
   "metadata": {},
   "outputs": [
    {
     "data": {
      "text/plain": [
       "(19, 12, 23, 11, 25, 26, 19, 12, 23, 11, 25, 26, 19, 12, 23, 11, 25, 26)"
      ]
     },
     "execution_count": 98,
     "metadata": {},
     "output_type": "execute_result"
    }
   ],
   "source": [
    "number1*3\n"
   ]
  },
  {
   "cell_type": "code",
   "execution_count": 100,
   "id": "18b8275a-7214-471e-9052-2abe756107bf",
   "metadata": {},
   "outputs": [
    {
     "data": {
      "text/plain": [
       "15"
      ]
     },
     "execution_count": 100,
     "metadata": {},
     "output_type": "execute_result"
    }
   ],
   "source": [
    "5*3"
   ]
  },
  {
   "cell_type": "code",
   "execution_count": 102,
   "id": "58734bb3-af40-4bc2-8bdc-ece5f230a64e",
   "metadata": {},
   "outputs": [
    {
     "data": {
      "text/plain": [
       "'555'"
      ]
     },
     "execution_count": 102,
     "metadata": {},
     "output_type": "execute_result"
    }
   ],
   "source": [
    "'5'*3"
   ]
  },
  {
   "cell_type": "code",
   "execution_count": 109,
   "id": "67ace923-882d-4292-81a7-eaa06d79c2a3",
   "metadata": {},
   "outputs": [
    {
     "ename": "TypeError",
     "evalue": "unsupported operand type(s) for -: 'tuple' and 'tuple'",
     "output_type": "error",
     "traceback": [
      "\u001b[1;31m---------------------------------------------------------------------------\u001b[0m",
      "\u001b[1;31mTypeError\u001b[0m                                 Traceback (most recent call last)",
      "Cell \u001b[1;32mIn[109], line 1\u001b[0m\n\u001b[1;32m----> 1\u001b[0m number_list \u001b[38;5;241m=\u001b[39m numbers\u001b[38;5;241m-\u001b[39mnumber1\n",
      "\u001b[1;31mTypeError\u001b[0m: unsupported operand type(s) for -: 'tuple' and 'tuple'"
     ]
    }
   ],
   "source": [
    "number_list = numbers-number1 # - is not treated as subtraction in tuple thats why error ayega"
   ]
  },
  {
   "cell_type": "code",
   "execution_count": 113,
   "id": "5e479e6b-1c8b-4033-b9a0-b7c813a9feb5",
   "metadata": {},
   "outputs": [
    {
     "ename": "TypeError",
     "evalue": "unsupported operand type(s) for /: 'tuple' and 'int'",
     "output_type": "error",
     "traceback": [
      "\u001b[1;31m---------------------------------------------------------------------------\u001b[0m",
      "\u001b[1;31mTypeError\u001b[0m                                 Traceback (most recent call last)",
      "Cell \u001b[1;32mIn[113], line 1\u001b[0m\n\u001b[1;32m----> 1\u001b[0m numbers\u001b[38;5;241m/\u001b[39m\u001b[38;5;241m4\u001b[39m\n",
      "\u001b[1;31mTypeError\u001b[0m: unsupported operand type(s) for /: 'tuple' and 'int'"
     ]
    }
   ],
   "source": [
    "numbers/4"
   ]
  },
  {
   "cell_type": "code",
   "execution_count": 115,
   "id": "da064834-8b9f-4e8e-bd54-4e9805a19ee4",
   "metadata": {},
   "outputs": [
    {
     "data": {
      "text/plain": [
       "19"
      ]
     },
     "execution_count": 115,
     "metadata": {},
     "output_type": "execute_result"
    }
   ],
   "source": [
    "number1[0]"
   ]
  },
  {
   "cell_type": "code",
   "execution_count": 117,
   "id": "4252b438-1584-405d-9366-5b525f6e9247",
   "metadata": {},
   "outputs": [
    {
     "data": {
      "text/plain": [
       "0"
      ]
     },
     "execution_count": 117,
     "metadata": {},
     "output_type": "execute_result"
    }
   ],
   "source": [
    "number1.index(19)"
   ]
  },
  {
   "cell_type": "code",
   "execution_count": 119,
   "id": "d3e3ec31-b2fb-4b03-9adf-a11fb9cef03a",
   "metadata": {},
   "outputs": [
    {
     "name": "stdout",
     "output_type": "stream",
     "text": [
      "(19, 12, 23, 11, 25, 26)\n"
     ]
    }
   ],
   "source": [
    "print(number1)"
   ]
  },
  {
   "cell_type": "code",
   "execution_count": 121,
   "id": "d5fdcd6b-bdb9-4195-aa81-8fa567a4fb23",
   "metadata": {},
   "outputs": [
    {
     "ename": "ValueError",
     "evalue": "tuple.index(x): x not in tuple",
     "output_type": "error",
     "traceback": [
      "\u001b[1;31m---------------------------------------------------------------------------\u001b[0m",
      "\u001b[1;31mValueError\u001b[0m                                Traceback (most recent call last)",
      "Cell \u001b[1;32mIn[121], line 1\u001b[0m\n\u001b[1;32m----> 1\u001b[0m number1\u001b[38;5;241m.\u001b[39mindex(\u001b[38;5;241m20\u001b[39m)\n",
      "\u001b[1;31mValueError\u001b[0m: tuple.index(x): x not in tuple"
     ]
    }
   ],
   "source": [
    "number1.index(20)"
   ]
  },
  {
   "cell_type": "code",
   "execution_count": 124,
   "id": "512e3586-0714-4803-a4fd-493abd98cf83",
   "metadata": {},
   "outputs": [
    {
     "ename": "TypeError",
     "evalue": "index expected at least 1 argument, got 0",
     "output_type": "error",
     "traceback": [
      "\u001b[1;31m---------------------------------------------------------------------------\u001b[0m",
      "\u001b[1;31mTypeError\u001b[0m                                 Traceback (most recent call last)",
      "Cell \u001b[1;32mIn[124], line 1\u001b[0m\n\u001b[1;32m----> 1\u001b[0m number1\u001b[38;5;241m.\u001b[39mindex()\n",
      "\u001b[1;31mTypeError\u001b[0m: index expected at least 1 argument, got 0"
     ]
    }
   ],
   "source": [
    "number1.index()"
   ]
  },
  {
   "cell_type": "code",
   "execution_count": 126,
   "id": "ec108810-4874-4172-b8d8-d7d2fea404ba",
   "metadata": {},
   "outputs": [
    {
     "data": {
      "text/plain": [
       "2"
      ]
     },
     "execution_count": 126,
     "metadata": {},
     "output_type": "execute_result"
    }
   ],
   "source": [
    "number1.index(23)"
   ]
  },
  {
   "cell_type": "code",
   "execution_count": 128,
   "id": "76c80a07-ab5f-482c-8131-b2fa1da0dce6",
   "metadata": {},
   "outputs": [
    {
     "name": "stdout",
     "output_type": "stream",
     "text": [
      "(1, 2, 2, 3, 4, 2, 6, 7, 8)\n"
     ]
    }
   ],
   "source": [
    "print(numbers)"
   ]
  },
  {
   "cell_type": "code",
   "execution_count": 130,
   "id": "6bc8cc7c-e5a8-489c-9420-5320eb310269",
   "metadata": {},
   "outputs": [
    {
     "data": {
      "text/plain": [
       "1"
      ]
     },
     "execution_count": 130,
     "metadata": {},
     "output_type": "execute_result"
    }
   ],
   "source": [
    "numbers.index(2)  # yaha par 2 bht times ha lekn wo first position jahan 2 ayegi uska index bata dega so yahan par 1 index aya \n",
    " "
   ]
  },
  {
   "cell_type": "code",
   "execution_count": null,
   "id": "d60f2c61-214b-4037-b1db-6f4cee8840eb",
   "metadata": {},
   "outputs": [],
   "source": [
    "my_favourite_fruits.append(numbers)"
   ]
  },
  {
   "cell_type": "code",
   "execution_count": 136,
   "id": "d6ef90e0-6889-4a59-9188-7273d5d3f6b0",
   "metadata": {},
   "outputs": [
    {
     "name": "stdout",
     "output_type": "stream",
     "text": [
      "[['Mango', 'Watermelon', 'Pear', 'Avacado'], 'Apple', 'Banana', 'Grapes', 'Orange', ['Strawberry', 'Apricot', 'Guava', 'Peach'], (1, 2, 2, 3, 4, 2, 6, 7, 8), (1, 2, 2, 3, 4, 2, 6, 7, 8)]\n"
     ]
    }
   ],
   "source": [
    "print(my_favourite_fruits)"
   ]
  },
  {
   "cell_type": "code",
   "execution_count": 138,
   "id": "5532e0e1-2aea-4d52-aa72-797481580ecf",
   "metadata": {},
   "outputs": [
    {
     "data": {
      "text/plain": [
       "(1, 2, 2, 3, 4, 2, 6, 7, 8)"
      ]
     },
     "execution_count": 138,
     "metadata": {},
     "output_type": "execute_result"
    }
   ],
   "source": [
    "my_favourite_fruits.pop()"
   ]
  },
  {
   "cell_type": "code",
   "execution_count": 140,
   "id": "8d3fa122-a8f8-4874-af39-c3a87812a395",
   "metadata": {},
   "outputs": [
    {
     "name": "stdout",
     "output_type": "stream",
     "text": [
      "[['Mango', 'Watermelon', 'Pear', 'Avacado'], 'Apple', 'Banana', 'Grapes', 'Orange', ['Strawberry', 'Apricot', 'Guava', 'Peach'], (1, 2, 2, 3, 4, 2, 6, 7, 8)]\n"
     ]
    }
   ],
   "source": [
    "print(my_favourite_fruits)"
   ]
  },
  {
   "cell_type": "code",
   "execution_count": null,
   "id": "9f014e02-6087-435a-8960-8a71c76a45a1",
   "metadata": {},
   "outputs": [],
   "source": []
  },
  {
   "cell_type": "code",
   "execution_count": null,
   "id": "8bd80ea5-7f5c-4d5f-8dcd-fa97f60ce3c9",
   "metadata": {},
   "outputs": [],
   "source": []
  },
  {
   "cell_type": "code",
   "execution_count": null,
   "id": "9d2819df-d364-471a-9a64-21ae6a187cda",
   "metadata": {},
   "outputs": [],
   "source": []
  },
  {
   "cell_type": "code",
   "execution_count": 142,
   "id": "5abb396a-3c97-4b61-b3db-b272aae4c70a",
   "metadata": {},
   "outputs": [
    {
     "name": "stdout",
     "output_type": "stream",
     "text": [
      "(19, 12, 23, 11, 25, 26)\n"
     ]
    }
   ],
   "source": [
    "print(number1)"
   ]
  },
  {
   "cell_type": "code",
   "execution_count": 146,
   "id": "d873a061-5746-47c4-8f1f-be743fba2aaa",
   "metadata": {},
   "outputs": [
    {
     "data": {
      "text/plain": [
       "26"
      ]
     },
     "execution_count": 146,
     "metadata": {},
     "output_type": "execute_result"
    }
   ],
   "source": [
    "max(number1)"
   ]
  },
  {
   "cell_type": "code",
   "execution_count": 148,
   "id": "5cea535d-bec4-4712-bbd7-ea57905fbfdf",
   "metadata": {},
   "outputs": [
    {
     "data": {
      "text/plain": [
       "11"
      ]
     },
     "execution_count": 148,
     "metadata": {},
     "output_type": "execute_result"
    }
   ],
   "source": [
    "min(number1)"
   ]
  },
  {
   "cell_type": "code",
   "execution_count": 150,
   "id": "82737236-8347-4600-9b77-caea211c1153",
   "metadata": {},
   "outputs": [
    {
     "data": {
      "text/plain": [
       "[11, 12, 19, 23, 25, 26]"
      ]
     },
     "execution_count": 150,
     "metadata": {},
     "output_type": "execute_result"
    }
   ],
   "source": [
    "sorted(number1)"
   ]
  },
  {
   "cell_type": "code",
   "execution_count": 152,
   "id": "78f3062b-99ef-4865-9af7-b49f60fa558f",
   "metadata": {},
   "outputs": [
    {
     "data": {
      "text/plain": [
       "[26, 25, 23, 19, 12, 11]"
      ]
     },
     "execution_count": 152,
     "metadata": {},
     "output_type": "execute_result"
    }
   ],
   "source": [
    "sorted(number1,reverse = True)"
   ]
  },
  {
   "cell_type": "code",
   "execution_count": 154,
   "id": "6606e3fb-f4ee-4386-b92b-ed687d90a1ad",
   "metadata": {},
   "outputs": [
    {
     "data": {
      "text/plain": [
       "116"
      ]
     },
     "execution_count": 154,
     "metadata": {},
     "output_type": "execute_result"
    }
   ],
   "source": [
    "sum(number1)"
   ]
  },
  {
   "cell_type": "code",
   "execution_count": 156,
   "id": "fa0f6af5-d299-41f5-b4bd-485924df82d2",
   "metadata": {},
   "outputs": [
    {
     "data": {
      "text/plain": [
       "6"
      ]
     },
     "execution_count": 156,
     "metadata": {},
     "output_type": "execute_result"
    }
   ],
   "source": [
    "len(number1)"
   ]
  },
  {
   "cell_type": "code",
   "execution_count": 160,
   "id": "f55efd51-4109-426c-b045-07a284299f43",
   "metadata": {},
   "outputs": [
    {
     "data": {
      "text/plain": [
       "98.96"
      ]
     },
     "execution_count": 160,
     "metadata": {},
     "output_type": "execute_result"
    }
   ],
   "source": [
    "round(98.956789090,2)"
   ]
  },
  {
   "cell_type": "code",
   "execution_count": 162,
   "id": "8d33b021-6ce5-4843-a440-b027b7f65724",
   "metadata": {},
   "outputs": [
    {
     "name": "stdout",
     "output_type": "stream",
     "text": [
      "(1, 2, 2, 3, 4, 2, 6, 7, 8)\n"
     ]
    }
   ],
   "source": [
    "print(numbers)"
   ]
  },
  {
   "cell_type": "code",
   "execution_count": 164,
   "id": "765a2fb5-93d9-4f8e-ac33-59d39ab515c9",
   "metadata": {},
   "outputs": [
    {
     "name": "stdout",
     "output_type": "stream",
     "text": [
      "6 67 45\n"
     ]
    }
   ],
   "source": [
    "num1,num2,num3 = 6,67,45\n",
    "print(num1,num2,num3)"
   ]
  },
  {
   "cell_type": "code",
   "execution_count": 168,
   "id": "ce41f7d4-4517-4a10-ad8a-0bfa40390d22",
   "metadata": {},
   "outputs": [
    {
     "ename": "TypeError",
     "evalue": "type.__new__() argument 1 must be str, not int",
     "output_type": "error",
     "traceback": [
      "\u001b[1;31m---------------------------------------------------------------------------\u001b[0m",
      "\u001b[1;31mTypeError\u001b[0m                                 Traceback (most recent call last)",
      "Cell \u001b[1;32mIn[168], line 2\u001b[0m\n\u001b[0;32m      1\u001b[0m num1,num2,num3 \u001b[38;5;241m=\u001b[39m (\u001b[38;5;241m6\u001b[39m,\u001b[38;5;241m67\u001b[39m,\u001b[38;5;241m45\u001b[39m)\n\u001b[1;32m----> 2\u001b[0m \u001b[38;5;28mprint\u001b[39m(\u001b[38;5;28mtype\u001b[39m(num1,num2,num3))\n\u001b[0;32m      3\u001b[0m \u001b[38;5;28mprint\u001b[39m(num1,num2,num3)\n",
      "\u001b[1;31mTypeError\u001b[0m: type.__new__() argument 1 must be str, not int"
     ]
    }
   ],
   "source": [
    "num1,num2,num3 = (6,67,45)\n",
    "print(type(num1,num2,num3))\n",
    "print(num1,num2,num3)"
   ]
  },
  {
   "cell_type": "code",
   "execution_count": 170,
   "id": "9778ef0b-d244-45f6-830d-ad49545ff5d7",
   "metadata": {},
   "outputs": [
    {
     "name": "stdout",
     "output_type": "stream",
     "text": [
      "<class 'int'>\n"
     ]
    }
   ],
   "source": [
    "print(type(num1))  # type sirf 1 argument liya ha "
   ]
  },
  {
   "cell_type": "code",
   "execution_count": 172,
   "id": "576d4d85-8979-4341-b377-3a0c866e98fd",
   "metadata": {},
   "outputs": [
    {
     "name": "stdout",
     "output_type": "stream",
     "text": [
      "<class 'tuple'>\n",
      "(6, 67, 45)\n"
     ]
    }
   ],
   "source": [
    "num1 = (6,67,45)\n",
    "print(type(num1))\n",
    "print(num1)"
   ]
  },
  {
   "cell_type": "code",
   "execution_count": 174,
   "id": "bdd02c1e-8e4c-495a-866d-c35870e08fb9",
   "metadata": {},
   "outputs": [
    {
     "name": "stdout",
     "output_type": "stream",
     "text": [
      "<class 'int'>\n",
      "6\n"
     ]
    }
   ],
   "source": [
    "num1,num2,num3 =(6,67,45)  # this in unpacking of tuple and left hand side equal hona chye right hand side\n",
    "print(type(num1))\n",
    "print(num1)"
   ]
  },
  {
   "cell_type": "code",
   "execution_count": 180,
   "id": "e937fd33-6c79-4094-b61d-0f977fd62e68",
   "metadata": {},
   "outputs": [
    {
     "name": "stdout",
     "output_type": "stream",
     "text": [
      "<class 'int'>\n",
      "<class 'list'>\n",
      "6\n",
      "[67, 45]\n"
     ]
    }
   ],
   "source": [
    "# we can also unpack like this\n",
    "num1,*others = (6,67,45)\n",
    "print(type(num1))\n",
    "print(type(others)) # tuple ki unpacking will make list or interger\n",
    "print(num1)\n",
    "print(others)"
   ]
  },
  {
   "cell_type": "code",
   "execution_count": 182,
   "id": "061d03f1-ff1f-4584-ba19-034bf8dfa0c5",
   "metadata": {},
   "outputs": [
    {
     "name": "stdout",
     "output_type": "stream",
     "text": [
      "(1, 2, 2, 3, 4, 2, 6, 7, 8)\n"
     ]
    }
   ],
   "source": [
    "print(numbers)"
   ]
  },
  {
   "cell_type": "code",
   "execution_count": 184,
   "id": "4a3fc63a-343c-41ec-81df-229a951daf3d",
   "metadata": {},
   "outputs": [
    {
     "name": "stdout",
     "output_type": "stream",
     "text": [
      "<class 'tuple'>\n"
     ]
    }
   ],
   "source": [
    "print(type(numbers))"
   ]
  },
  {
   "cell_type": "code",
   "execution_count": 202,
   "id": "ef160bba-d3f9-4bd8-be7b-a8fb5ac1a0f2",
   "metadata": {},
   "outputs": [
    {
     "ename": "AttributeError",
     "evalue": "'tuple' object has no attribute 'append'",
     "output_type": "error",
     "traceback": [
      "\u001b[1;31m---------------------------------------------------------------------------\u001b[0m",
      "\u001b[1;31mAttributeError\u001b[0m                            Traceback (most recent call last)",
      "Cell \u001b[1;32mIn[202], line 2\u001b[0m\n\u001b[0;32m      1\u001b[0m \u001b[38;5;28mlist\u001b[39m(numbers)  \u001b[38;5;66;03m# this will make the tuple into list\u001b[39;00m\n\u001b[1;32m----> 2\u001b[0m numbers\u001b[38;5;241m.\u001b[39mappend(\u001b[38;5;241m9\u001b[39m)\n",
      "\u001b[1;31mAttributeError\u001b[0m: 'tuple' object has no attribute 'append'"
     ]
    }
   ],
   "source": [
    "list(numbers)  # this will make the tuple into list\n",
    "numbers.append(9)"
   ]
  },
  {
   "cell_type": "code",
   "execution_count": 198,
   "id": "c5a698d3-9376-478c-90c2-183a94bc6462",
   "metadata": {},
   "outputs": [
    {
     "name": "stdout",
     "output_type": "stream",
     "text": [
      "(1, 2, 2, 3, 4, 2, 6, 7, 8)\n",
      "<class 'tuple'>\n"
     ]
    }
   ],
   "source": [
    "print(numbers)\n",
    "print(type(numbers))"
   ]
  },
  {
   "cell_type": "code",
   "execution_count": null,
   "id": "6628cef7-5114-4f75-bfac-0f0b8b1b7b64",
   "metadata": {},
   "outputs": [],
   "source": []
  }
 ],
 "metadata": {
  "kernelspec": {
   "display_name": "Python 3 (ipykernel)",
   "language": "python",
   "name": "python3"
  },
  "language_info": {
   "codemirror_mode": {
    "name": "ipython",
    "version": 3
   },
   "file_extension": ".py",
   "mimetype": "text/x-python",
   "name": "python",
   "nbconvert_exporter": "python",
   "pygments_lexer": "ipython3",
   "version": "3.12.4"
  }
 },
 "nbformat": 4,
 "nbformat_minor": 5
}

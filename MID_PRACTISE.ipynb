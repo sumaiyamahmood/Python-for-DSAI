{
 "cells": [
  {
   "cell_type": "markdown",
   "id": "9a872fc6-936d-4292-9ca2-257d7b8ecc9c",
   "metadata": {},
   "source": [
    "# QUESTION 1"
   ]
  },
  {
   "cell_type": "code",
   "execution_count": 2,
   "id": "8f21bd59-ecd9-4988-9316-b52bd265d215",
   "metadata": {},
   "outputs": [
    {
     "name": "stdout",
     "output_type": "stream",
     "text": [
      "The sum of 40 and 52 is: 92\n",
      "The difference of 40 and 52 is: 12\n",
      "The product of 40 and 52 is: 2080\n",
      "The quotient of 40 and 52 is: 0\n"
     ]
    }
   ],
   "source": [
    "num1 = 40\n",
    "num2 = 52\n",
    "sum1 = num1+num2\n",
    "difference = num2-num1\n",
    "product = num1*num2\n",
    "division = num1//num2\n",
    "print('The sum of',num1,'and',num2,'is:',sum1)\n",
    "print('The difference of',num1,'and',num2,'is:',difference)\n",
    "print('The product of',num1,'and',num2,'is:',product)\n",
    "print('The quotient of',num1,'and',num2,'is:',division)\n"
   ]
  },
  {
   "cell_type": "markdown",
   "id": "22740ba1-dd4f-4943-a790-3cc07141ebbd",
   "metadata": {},
   "source": [
    "# QUESTION 2"
   ]
  },
  {
   "cell_type": "code",
   "execution_count": 4,
   "id": "1284d0d8-ffde-4a8a-9a1e-f91d846d7187",
   "metadata": {},
   "outputs": [
    {
     "name": "stdin",
     "output_type": "stream",
     "text": [
      "Enter a number 5\n"
     ]
    },
    {
     "name": "stdout",
     "output_type": "stream",
     "text": [
      "Number is Positive\n"
     ]
    }
   ],
   "source": [
    "user_input = input('Enter a number')\n",
    "if user_input.replace(\".\",\"\").replace(\"-\",\"\").replace(\"+\",\"\").isdigit():\n",
    "  # Check if input is a digit\n",
    "    num = float(user_input)\n",
    "    if num>0:\n",
    "        print(\"Number is Positive\")\n",
    "    elif num==0:\n",
    "        print(\"Number is zero\")\n",
    "    else:\n",
    "        print(\"Number is Negitive\")\n",
    "else:\n",
    "    print(\"Enter a valid number.\")"
   ]
  },
  {
   "cell_type": "code",
   "execution_count": 5,
   "id": "d24a9680-9519-43c0-b765-f2be05037fac",
   "metadata": {},
   "outputs": [
    {
     "name": "stdin",
     "output_type": "stream",
     "text": [
      "Enter a number 3\n"
     ]
    },
    {
     "name": "stdout",
     "output_type": "stream",
     "text": [
      "The number is positive\n"
     ]
    }
   ],
   "source": [
    "user_input = input('Enter a number')\n",
    "if user_input.replace('.','').replace('-','').replace('+','').isdigit():\n",
    "    num = float(user_input)\n",
    "    if num>0:\n",
    "        print('The number is positive')\n",
    "    elif num==0:\n",
    "        print('The number is zero')\n",
    "    else:\n",
    "        print('The number is negative')\n",
    "\n",
    "else:\n",
    "    print('Enter a valid number')\n",
    "\n"
   ]
  },
  {
   "cell_type": "markdown",
   "id": "5f58cefa-f485-496c-bc01-03adf7498093",
   "metadata": {},
   "source": [
    "# QUESTION 4"
   ]
  },
  {
   "cell_type": "code",
   "execution_count": 7,
   "id": "fb3d6e58-8125-4b69-b033-679e11398f61",
   "metadata": {},
   "outputs": [
    {
     "name": "stdout",
     "output_type": "stream",
     "text": [
      "Sumaiya Khan\n"
     ]
    }
   ],
   "source": [
    "first_name = 'Sumaiya'\n",
    "last_name = 'Khan'\n",
    "full_name = first_name + ' ' + last_name\n",
    "print(full_name)"
   ]
  },
  {
   "cell_type": "markdown",
   "id": "a4dfd093-004b-4443-b895-e90ac5933771",
   "metadata": {},
   "source": [
    "# QUESTION 5"
   ]
  },
  {
   "cell_type": "code",
   "execution_count": 9,
   "id": "0d88b2d6-2f22-4f57-a048-7d11b6d2b74c",
   "metadata": {},
   "outputs": [
    {
     "name": "stdin",
     "output_type": "stream",
     "text": [
      "enter the length of rectangle: 23.5\n",
      "enter the width of rectangle: 12\n"
     ]
    },
    {
     "name": "stdout",
     "output_type": "stream",
     "text": [
      "The length of rectangle is : 282.0\n"
     ]
    }
   ],
   "source": [
    "length = float(input('enter the length of rectangle:'))\n",
    "width = float(input('enter the width of rectangle:'))\n",
    "area = length*width\n",
    "print('The length of rectangle is :',round(area,3))\n",
    "               "
   ]
  },
  {
   "cell_type": "code",
   "execution_count": 10,
   "id": "1cf02090-dafd-4461-881f-aba575b45b79",
   "metadata": {},
   "outputs": [
    {
     "name": "stdout",
     "output_type": "stream",
     "text": [
      "['Luis', 'Divya', 'Maria', 'Mimi', 'Arnold']\n"
     ]
    }
   ],
   "source": [
    "student_names = ['Luis', 'Divya','Maria', 'Mimi']\n",
    "student_names.append('Arnold')\n",
    "\n",
    "print(student_names)\n"
   ]
  },
  {
   "cell_type": "code",
   "execution_count": 21,
   "id": "5c0c8436-5599-49ed-8560-2431a3c019d7",
   "metadata": {},
   "outputs": [
    {
     "name": "stdout",
     "output_type": "stream",
     "text": [
      "The sum of elements in a list is: 29\n"
     ]
    }
   ],
   "source": [
    "# find the sum of element in a list\n",
    "nums = [3,8,-4,22,0]\n",
    "\n",
    "print('The sum of elements in a list is:',sum(nums))\n",
    "\n",
    "#for num in nums\n",
    "#num = num--1\n",
    "\n"
   ]
  },
  {
   "cell_type": "code",
   "execution_count": 25,
   "id": "51aaed3a-a2db-404b-846d-e41ec940ff2e",
   "metadata": {},
   "outputs": [
    {
     "name": "stdout",
     "output_type": "stream",
     "text": [
      "Faraz is 21 years old.\n"
     ]
    }
   ],
   "source": [
    " ages = {\n",
    " 'Ahmed': 21,\n",
    " 'Faraz': 21,\n",
    " 'Sarah': 41\n",
    " }\n",
    "\n",
    "# print('Faraz is {ages} years old.'.format(ages : 24))\n",
    "print('Faraz is {} years old.'.format(ages['Faraz']))"
   ]
  },
  {
   "cell_type": "code",
   "execution_count": 53,
   "id": "49217a27-7397-4450-b88c-3cf06b312247",
   "metadata": {},
   "outputs": [
    {
     "name": "stdout",
     "output_type": "stream",
     "text": [
      "2.2549019607843137\n"
     ]
    }
   ],
   "source": [
    "result = 2 * (5 / 17) + 3 - (4 / 3)\n",
    "print(result)"
   ]
  },
  {
   "cell_type": "code",
   "execution_count": 55,
   "id": "8ee73d64-29ed-4157-b7bf-0e831aa61858",
   "metadata": {},
   "outputs": [
    {
     "name": "stdout",
     "output_type": "stream",
     "text": [
      "2.2549019607843137\n"
     ]
    }
   ],
   "source": [
    "result = 2 * (5 / 17) + 3 - (4 / 3)\n",
    "\n",
    "# Print the result\n",
    "print(result)"
   ]
  },
  {
   "cell_type": "code",
   "execution_count": 65,
   "id": "3dc6da80-b97d-42fc-a9cb-913fc4bf4eb0",
   "metadata": {},
   "outputs": [
    {
     "name": "stdout",
     "output_type": "stream",
     "text": [
      "[10, 20, 30, 40, 50, 60]\n",
      "[10, 30, 40, 50, 60]\n",
      "[10, 30, 80, 40, 50, 60]\n"
     ]
    },
    {
     "data": {
      "text/plain": [
       "270"
      ]
     },
     "execution_count": 65,
     "metadata": {},
     "output_type": "execute_result"
    }
   ],
   "source": [
    "numbers = [10, 20, 30, 40, 50]\n",
    "\n",
    "# Append the number 60 to the list.\n",
    "numbers.append(60)\n",
    "print(numbers)\n",
    "\n",
    "#Remove the number 20 from the list.\n",
    "numbers.remove(20)\n",
    "print(numbers)\n",
    "\n",
    "#Insert 80 at index 2.\n",
    "numbers.insert(2,80)\n",
    "print(numbers)\n",
    "\n",
    "#Print the sum of all the elements in the list.\n",
    "sum(numbers)"
   ]
  },
  {
   "cell_type": "code",
   "execution_count": 71,
   "id": "89ff073e-546f-460b-8ef1-ab7e92315197",
   "metadata": {},
   "outputs": [
    {
     "name": "stdout",
     "output_type": "stream",
     "text": [
      "12.5\n",
      "45.8\n",
      "33.1\n",
      "{'Ali': 85, 'saima': 90, 'Kabeer': 78, 'Ahmed': 92}\n",
      "{'Ali': 85, 'saima': 90, 'Kabeer': 82, 'Ahmed': 92}\n"
     ]
    }
   ],
   "source": [
    "coordinates = (12.5, 45.8, 33.1)\n",
    "\n",
    "# Write a Python code snippet to unpack the values of the tuple into three variables: `x`,`y`, and `z`.\n",
    "x,y,z = (12.5,45.8,33.1)\n",
    "print(x)\n",
    "print(y)\n",
    "print(z)\n",
    "\n",
    "# Explain why tuples are generally preferred over lists for storing fixed sets of data.\n",
    "\n",
    "student_scores = {'Ali': 85, 'saima': 90, 'Kabeer': 78}\n",
    "\n",
    "# Write a Python code snippet to add a new student `Ahmed` with a score of 92.\n",
    "student_scores['Ahmed']=92\n",
    "print(student_scores)\n",
    "\n",
    "#Update Kabeer's score to 82.\n",
    "student_scores.update({'Kabeer':82})\n",
    "print(student_scores)"
   ]
  },
  {
   "cell_type": "code",
   "execution_count": 77,
   "id": "fb6cbfe3-7d5c-4557-9c5d-fb63f8a8425e",
   "metadata": {},
   "outputs": [
    {
     "name": "stdin",
     "output_type": "stream",
     "text": [
      "Enter a number:  23\n"
     ]
    },
    {
     "name": "stdout",
     "output_type": "stream",
     "text": [
      "number is odd.\n"
     ]
    }
   ],
   "source": [
    "number = int(input(\"Enter a number: \"))\n",
    "\n",
    "# Check whether the number is even or odd\n",
    "if number % 2 == 0:\n",
    "    print('number is even.')\n",
    "else:\n",
    "    print('number is odd.')"
   ]
  },
  {
   "cell_type": "code",
   "execution_count": null,
   "id": "da390a6a-bab5-437e-a88d-f882c8e1b500",
   "metadata": {},
   "outputs": [],
   "source": []
  },
  {
   "cell_type": "code",
   "execution_count": 1,
   "id": "17f6e149-b291-4214-a2d9-0834da3e2c37",
   "metadata": {},
   "outputs": [
    {
     "data": {
      "text/plain": [
       "{'name': 'nitish', 'age': 32, 3: 3}"
      ]
     },
     "execution_count": 1,
     "metadata": {},
     "output_type": "execute_result"
    }
   ],
   "source": [
    "# using sequence and dict function\n",
    "d4 = dict([('name','nitish'),('age',32),(3,3)])\n",
    "d4\n",
    "\n"
   ]
  },
  {
   "cell_type": "code",
   "execution_count": 3,
   "id": "8af7cbcb-3a26-42ee-9707-0dc15d7e04d8",
   "metadata": {},
   "outputs": [
    {
     "data": {
      "text/plain": [
       "{'name': 'rahul'}"
      ]
     },
     "execution_count": 3,
     "metadata": {},
     "output_type": "execute_result"
    }
   ],
   "source": [
    "# duplicate keys\n",
    "d5 = {'name':'nitish','name':'rahul'}\n",
    "d5"
   ]
  },
  {
   "cell_type": "code",
   "execution_count": 8,
   "id": "df900a0a-f050-44ac-ab3c-a1a9a578a2a3",
   "metadata": {},
   "outputs": [
    {
     "ename": "TypeError",
     "evalue": "unhashable type: 'list'",
     "output_type": "error",
     "traceback": [
      "\u001b[1;31m---------------------------------------------------------------------------\u001b[0m",
      "\u001b[1;31mTypeError\u001b[0m                                 Traceback (most recent call last)",
      "Cell \u001b[1;32mIn[8], line 2\u001b[0m\n\u001b[0;32m      1\u001b[0m \u001b[38;5;66;03m# mutable items as keys\u001b[39;00m\n\u001b[1;32m----> 2\u001b[0m d6 \u001b[38;5;241m=\u001b[39m {\u001b[38;5;124m'\u001b[39m\u001b[38;5;124mname\u001b[39m\u001b[38;5;124m'\u001b[39m:\u001b[38;5;124m'\u001b[39m\u001b[38;5;124mnitish\u001b[39m\u001b[38;5;124m'\u001b[39m,[\u001b[38;5;241m1\u001b[39m,\u001b[38;5;241m2\u001b[39m,\u001b[38;5;241m3\u001b[39m]:\u001b[38;5;241m2\u001b[39m}\n\u001b[0;32m      3\u001b[0m \u001b[38;5;28mprint\u001b[39m(d6)\n",
      "\u001b[1;31mTypeError\u001b[0m: unhashable type: 'list'"
     ]
    }
   ],
   "source": [
    "# mutable items as keys\n",
    "d6 = {'name':'nitish',[1,2,3]:2}\n",
    "print(d6)"
   ]
  },
  {
   "cell_type": "code",
   "execution_count": 10,
   "id": "2eac366b-fcb3-4140-a365-7d4752fda72e",
   "metadata": {},
   "outputs": [
    {
     "data": {
      "text/plain": [
       "26"
      ]
     },
     "execution_count": 10,
     "metadata": {},
     "output_type": "execute_result"
    }
   ],
   "source": [
    "my_dict = {'name': 'Jack', 'age': 26}\n",
    "# []\n",
    "my_dict['age']\n"
   ]
  },
  {
   "cell_type": "code",
   "execution_count": 12,
   "id": "9e92c48a-3949-4783-880c-f1d0f578a613",
   "metadata": {},
   "outputs": [
    {
     "data": {
      "text/plain": [
       "26"
      ]
     },
     "execution_count": 12,
     "metadata": {},
     "output_type": "execute_result"
    }
   ],
   "source": [
    "# get\n",
    "my_dict.get('age')\n",
    "\n"
   ]
  },
  {
   "cell_type": "code",
   "execution_count": 14,
   "id": "10404fbb-964d-4400-8186-7403303e83d1",
   "metadata": {},
   "outputs": [
    {
     "data": {
      "text/plain": [
       "{'age': 26}"
      ]
     },
     "execution_count": 14,
     "metadata": {},
     "output_type": "execute_result"
    }
   ],
   "source": [
    "my_dict.pop('name')\n",
    "my_dict"
   ]
  },
  {
   "cell_type": "code",
   "execution_count": 18,
   "id": "b27c393b-c0f7-44da-aea4-060f8d1b3fbf",
   "metadata": {},
   "outputs": [
    {
     "data": {
      "text/plain": [
       "{}"
      ]
     },
     "execution_count": 18,
     "metadata": {},
     "output_type": "execute_result"
    }
   ],
   "source": [
    "del my_dict['age']\n",
    "my_dict"
   ]
  },
  {
   "cell_type": "code",
   "execution_count": 30,
   "id": "179c5fb6-b015-4abe-8fc1-63e8295eb3fb",
   "metadata": {},
   "outputs": [
    {
     "name": "stdin",
     "output_type": "stream",
     "text": [
      "Enter your number 0\n"
     ]
    },
    {
     "name": "stdout",
     "output_type": "stream",
     "text": [
      "number is zero\n"
     ]
    }
   ],
   "source": [
    "# program for checking if num enetred is +ve, -ve, or zero\n",
    "user_input = input('Enter your number')\n",
    "if user_input.replace('.','').replace('+','').replace('-','').isdigit():\n",
    "    num = float(user_input)\n",
    "    if num>0:\n",
    "        print('Number is positive')\n",
    "    elif num==0:\n",
    "        print('number is zero')\n",
    "    else:\n",
    "        print('number is negative')\n",
    "\n",
    "else:\n",
    "    print('enter a valid number')"
   ]
  },
  {
   "cell_type": "code",
   "execution_count": 36,
   "id": "7f6ce6f9-e610-4422-a660-ed0ba28f0bf8",
   "metadata": {},
   "outputs": [
    {
     "name": "stdin",
     "output_type": "stream",
     "text": [
      "enter a number -89\n"
     ]
    },
    {
     "name": "stdout",
     "output_type": "stream",
     "text": [
      "number is -ve\n"
     ]
    }
   ],
   "source": [
    "num = float(input('enter a number'))\n",
    "\n",
    "if num>0:\n",
    "    print('number is +ve')\n",
    "elif num==0:\n",
    "    print('number is zero')\n",
    "else:\n",
    "    print('number is -ve')\n",
    "    "
   ]
  },
  {
   "cell_type": "code",
   "execution_count": 38,
   "id": "aa97e991-bdb3-4baf-bc66-b890162a1e4f",
   "metadata": {},
   "outputs": [
    {
     "name": "stdout",
     "output_type": "stream",
     "text": [
      "<class 'tuple'>\n"
     ]
    }
   ],
   "source": [
    "brothers =('waqas','talha','shaheer')\n",
    "sisters = ('warda','yumna','hamayel')\n",
    "print(type(sisters))"
   ]
  },
  {
   "cell_type": "code",
   "execution_count": 40,
   "id": "796ed5b2-c81a-4be1-b876-9e52545a6002",
   "metadata": {},
   "outputs": [
    {
     "name": "stdout",
     "output_type": "stream",
     "text": [
      "<class 'tuple'>\n"
     ]
    }
   ],
   "source": [
    "print(type(brothers))"
   ]
  },
  {
   "cell_type": "code",
   "execution_count": 42,
   "id": "a67a4d59-3bf4-4a87-95a1-b9c0ebbfc603",
   "metadata": {},
   "outputs": [
    {
     "name": "stdout",
     "output_type": "stream",
     "text": [
      "('warda', 'yumna', 'hamayel', 'waqas', 'talha', 'shaheer')\n"
     ]
    }
   ],
   "source": [
    "siblings = sisters+brothers\n",
    "print(siblings)"
   ]
  },
  {
   "cell_type": "code",
   "execution_count": 48,
   "id": "a360cb61-200a-42b4-be75-b15dd57b08ed",
   "metadata": {},
   "outputs": [
    {
     "name": "stdout",
     "output_type": "stream",
     "text": [
      "('warda', 'yumna', 'hamayel', 'waqas', 'talha', 'shaheer', 'Mahmood', 'Shazia')\n"
     ]
    }
   ],
   "source": [
    "siblings_list = list(siblings)\n",
    "siblings_list.append('Mahmood')\n",
    "siblings_list.append('Shazia')\n",
    "siblings = tuple(siblings_list)\n",
    "print(siblings)\n",
    "\n"
   ]
  },
  {
   "cell_type": "code",
   "execution_count": 52,
   "id": "c16f278d-6215-4feb-a922-24c9c8204943",
   "metadata": {},
   "outputs": [
    {
     "name": "stdout",
     "output_type": "stream",
     "text": [
      "('warda', 'yumna', 'hamayel', 'waqas', 'talha', 'shaheer', 'Mahmood', 'Shazia')\n"
     ]
    }
   ],
   "source": [
    "family_members = siblings\n",
    "print(family_members)"
   ]
  },
  {
   "cell_type": "code",
   "execution_count": null,
   "id": "bdb86b3d-c388-45c2-9445-7bab0d0ed65e",
   "metadata": {},
   "outputs": [],
   "source": []
  }
 ],
 "metadata": {
  "kernelspec": {
   "display_name": "Python 3 (ipykernel)",
   "language": "python",
   "name": "python3"
  },
  "language_info": {
   "codemirror_mode": {
    "name": "ipython",
    "version": 3
   },
   "file_extension": ".py",
   "mimetype": "text/x-python",
   "name": "python",
   "nbconvert_exporter": "python",
   "pygments_lexer": "ipython3",
   "version": "3.12.4"
  }
 },
 "nbformat": 4,
 "nbformat_minor": 5
}

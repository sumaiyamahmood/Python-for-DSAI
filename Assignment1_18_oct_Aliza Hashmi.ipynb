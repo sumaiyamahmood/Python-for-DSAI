{
 "cells": [
  {
   "cell_type": "code",
   "execution_count": 1,
   "id": "347b20a0-a961-45ab-8fe7-46e934ce3c27",
   "metadata": {},
   "outputs": [
    {
     "name": "stdin",
     "output_type": "stream",
     "text": [
      "Enter your first name: aliza\n",
      "Enter your sur name: jasir\n"
     ]
    },
    {
     "name": "stdout",
     "output_type": "stream",
     "text": [
      "Your first name and surname are of same length\n"
     ]
    }
   ],
   "source": [
    "\"\"\"Question1(a):Create the variable first name and your last name and Compare the length of your first name and your last name.\"\"\"\n",
    "\n",
    "first_name=input(\"Enter your first name:\")\n",
    "sur_name=input(\"Enter your sur name:\")\n",
    "if len(first_name)>len(sur_name):\n",
    "    diff= int(diff)\n",
    "    diff=len(first_name)-len(sur_name)\n",
    "    print(\"Your First name is longer than your surname by\",diff,\"alphabets\")\n",
    "elif len(first_name)<len(sur_name):\n",
    "    diff=int(diff)\n",
    "    diff=int(len(sur_name)-len(first_name))\n",
    "    print(\"Your first name is smaller than your surname by\",diff,\"alphabets\")\n",
    "else: \n",
    "    print(\"Your first name and surname are of same length\")"
   ]
  },
  {
   "cell_type": "code",
   "execution_count": 3,
   "id": "ae84694b-0b89-47ef-8519-c61d1203a634",
   "metadata": {},
   "outputs": [
    {
     "name": "stdin",
     "output_type": "stream",
     "text": [
      "Enter your first name: aliza\n"
     ]
    },
    {
     "name": "stdout",
     "output_type": "stream",
     "text": [
      "The length of your first name is: 5\n"
     ]
    }
   ],
   "source": [
    "\"\"\"Question1(b): Using the len() built-in function, find the length of your first name.\"\"\"\n",
    "\n",
    "first_name=input(\"Enter your first name:\")\n",
    "length_of_first_name=int(len(first_name))\n",
    "print(\"The length of your first name is:\",length_of_first_name)"
   ]
  },
  {
   "cell_type": "code",
   "execution_count": 5,
   "id": "5ad2d3d4-d386-4cc0-a7f2-9529259c009f",
   "metadata": {},
   "outputs": [
    {
     "name": "stdout",
     "output_type": "stream",
     "text": [
      "The first number is: 5\n",
      "The second number is: 4\n",
      "The sum of two numbers is 9\n",
      "The difference of two numbers is 1\n",
      "The product of two numbers is 20\n",
      "The division of first number by second number gives 1.25\n",
      "The remainder after dividing first number by second number is 1\n",
      "The first number raised to the power of second number is 625\n",
      "The floor division of first number by second number gives 1\n"
     ]
    }
   ],
   "source": [
    "\"\"\"Question 2:\n",
    "Declare 5 as num_one and 4 as num_two\n",
    " Add num_one and num_two and assign the value to a variable total\n",
    " Subtract num_two from num_one and assign the value to a variable\n",
    "diff\n",
    " Multiply num_two and num_one and assign the value to a variable\n",
    "product\n",
    " Divide num_one by num_two and assign the value to a variable\n",
    "division\n",
    " Use modulus division to find num_two divided by num_one and assign\n",
    "the value to a variable remainder\n",
    " Calculate num_one to the power of num_two and assign the value to\n",
    "a variable exp\n",
    " Find floor division of num_one by num_two and assign the value to\n",
    "a variable floor_division\"\"\"\n",
    "\n",
    "num_one=int (5)\n",
    "num_two=int (4)\n",
    "print(\"The first number is:\",num_one)\n",
    "print(\"The second number is:\",num_two)\n",
    "total=num_one+num_two\n",
    "print(\"The sum of two numbers is\",total)\n",
    "diff=num_one-num_two\n",
    "print(\"The difference of two numbers is\",diff)\n",
    "product=num_one*num_two\n",
    "print(\"The product of two numbers is\",product)\n",
    "division=num_one/num_two\n",
    "print(\"The division of first number by second number gives\",division)\n",
    "remainder=num_one%num_two\n",
    "print(\"The remainder after dividing first number by second number is\",remainder)\n",
    "exp=num_one**num_two\n",
    "print(\"The first number raised to the power of second number is\",exp)\n",
    "floor_division=num_one//num_two\n",
    "print(\"The floor division of first number by second number gives\",floor_division)"
   ]
  },
  {
   "cell_type": "code",
   "execution_count": 7,
   "id": "8a75ec65-b561-4c7c-bc0d-a81abf4cdbc2",
   "metadata": {},
   "outputs": [
    {
     "name": "stdout",
     "output_type": "stream",
     "text": [
      "The radius of the circle is 30 m and its area is 2827.433 m^2\n",
      "The radius of the circle is 30 m and its circumference is 188.496 m\n"
     ]
    }
   ],
   "source": [
    "\"\"\"Question 3(a):\n",
    " The radius of a circle is 30 meters.\n",
    " Calculate the area of a circle and assign the value to a variable\n",
    "name of area_of_circle\n",
    " Calculate the circumference of a circle and assign the value to a\n",
    "variable name of circum_of_circle\"\"\"\n",
    "\n",
    "import math\n",
    "radius=int(30)\n",
    "area_of_circle=math.pi*(radius**2)\n",
    "print(\"The radius of the circle is\",radius,\"m and its area is\",round(area_of_circle,3),\"m^2\")\n",
    "circum_of_circle=math.pi*2*radius\n",
    "print(\"The radius of the circle is\",radius,\"m and its circumference is\",round(circum_of_circle,3),\"m\")"
   ]
  },
  {
   "cell_type": "code",
   "execution_count": 9,
   "id": "379f2039-9382-4f05-b05b-2bace71436cf",
   "metadata": {},
   "outputs": [
    {
     "name": "stdin",
     "output_type": "stream",
     "text": [
      "Enter the radius of circle: 3.56\n"
     ]
    },
    {
     "name": "stdout",
     "output_type": "stream",
     "text": [
      "The radius of the circle is 3.56 m and its area is 39.815 m^2\n"
     ]
    }
   ],
   "source": [
    "\"\"\"Question 3(b):\n",
    "Take radius as user input and calculate the area.\"\"\"\n",
    "\n",
    "import math\n",
    "radius=float(input(\"Enter the radius of circle:\"))\n",
    "area_of_circle=math.pi*(radius**2)\n",
    "print(\"The radius of the circle is\",radius,\"m and its area is\",round(area_of_circle,3),\"m^2\")"
   ]
  },
  {
   "cell_type": "code",
   "execution_count": 11,
   "id": "4919921a-30ec-48f3-9afd-7424cfbc99e9",
   "metadata": {},
   "outputs": [
    {
     "name": "stdout",
     "output_type": "stream",
     "text": [
      "*****Shaaj Mart******\n",
      "The price of ice in Shaaj Mart is $ 1.25 and the profit on selling 500 bags is $ 125.0\n"
     ]
    }
   ],
   "source": [
    "\"\"\"Question 4:\n",
    "A grocery store sells a bag of ice for $1.25 and makes a 20% profit. If\n",
    "it sells 500 bags of ice, how much total profit does it make?\"\"\"\n",
    "\n",
    "print(\"*****Shaaj Mart******\")\n",
    "price_of_ice=float(1.25)\n",
    "profit_percentage=float(20/100)\n",
    "no_of_bags_sold=int(500)\n",
    "profit=profit_percentage*price_of_ice*no_of_bags_sold\n",
    "print(\"The price of ice in Shaaj Mart is $\",price_of_ice,\"and the profit on selling\",no_of_bags_sold,\"bags is $\",profit)"
   ]
  },
  {
   "cell_type": "code",
   "execution_count": 13,
   "id": "2cae2120-b9f8-47f1-b294-aaf224041b74",
   "metadata": {},
   "outputs": [
    {
     "name": "stdout",
     "output_type": "stream",
     "text": [
      "*******Profit/Loss Calculation of Shaaj Travel Company********\n",
      "The revenue generated for the flight of 29 passengers is $ 5800.0 and the profit is $ 800.0\n"
     ]
    }
   ],
   "source": [
    "\"\"\"Question 5: A travel company wants to fly a plane to the Bahamas. Flying the plane\n",
    "costs 5000 dollars. So far, 29 people have signed up for the trip. If\n",
    "the company charges 200 dollars per ticket, what is the profit made by\n",
    "the company? Create variables for each numeric quantity and use\n",
    "appropriate arithmetic operations.\"\"\"\n",
    "\n",
    "print(\"*******Profit/Loss Calculation of Shaaj Travel Company********\")\n",
    "cost_of_flight=float(5000)\n",
    "no_of_passengers=int(29)\n",
    "price_of_ticket=float(200)\n",
    "revenue=no_of_passengers*price_of_ticket\n",
    "profit=revenue-cost_of_flight\n",
    "print(\"The revenue generated for the flight of\",no_of_passengers,\"passengers is $\",revenue,\"and the profit is $\",profit)"
   ]
  },
  {
   "cell_type": "code",
   "execution_count": 15,
   "id": "c212fed0-efff-468e-bd04-5bc10b1bc213",
   "metadata": {},
   "outputs": [
    {
     "name": "stdout",
     "output_type": "stream",
     "text": [
      "Marksheet of student\n"
     ]
    },
    {
     "name": "stdin",
     "output_type": "stream",
     "text": [
      "Enter the marks obtained out of 100 for English: 70\n"
     ]
    },
    {
     "name": "stdout",
     "output_type": "stream",
     "text": [
      "English Marks are: 70.0\n"
     ]
    },
    {
     "name": "stdin",
     "output_type": "stream",
     "text": [
      "Enter the marks obtained out of 100 for Urdu: 60\n"
     ]
    },
    {
     "name": "stdout",
     "output_type": "stream",
     "text": [
      "Urdu Marks are: 60.0\n"
     ]
    },
    {
     "name": "stdin",
     "output_type": "stream",
     "text": [
      "Enter the marks obtained out of 100 for Mathematics: 100\n"
     ]
    },
    {
     "name": "stdout",
     "output_type": "stream",
     "text": [
      "Mathematics Marks are: 100.0\n"
     ]
    },
    {
     "name": "stdin",
     "output_type": "stream",
     "text": [
      "Enter the marks obtained out of 100 for Science: 80\n"
     ]
    },
    {
     "name": "stdout",
     "output_type": "stream",
     "text": [
      "Science Marks are: 80.0\n"
     ]
    },
    {
     "name": "stdin",
     "output_type": "stream",
     "text": [
      "Enter the marks obtained out of 100 for Social Studies: 75\n"
     ]
    },
    {
     "name": "stdout",
     "output_type": "stream",
     "text": [
      "Social Studies Marks are: 75.0\n",
      "The total marks obtained for five subjects are: 385.0 and the percentage is: 77.0\n"
     ]
    }
   ],
   "source": [
    "\"\"\"Class Task\"\"\"\n",
    "\"\"\"Take 5 subject marks as input from user and calculate the percentage.\"\"\"\n",
    "\n",
    "print(\"Marksheet of student\")\n",
    "eng_marks=float(input(\"Enter the marks obtained out of 100 for English:\"))\n",
    "print(\"English Marks are:\",eng_marks)\n",
    "urdu_marks=float(input(\"Enter the marks obtained out of 100 for Urdu:\"))\n",
    "print(\"Urdu Marks are:\",urdu_marks)\n",
    "math_marks=float(input(\"Enter the marks obtained out of 100 for Mathematics:\"))\n",
    "print(\"Mathematics Marks are:\",math_marks)\n",
    "sci_marks=float(input(\"Enter the marks obtained out of 100 for Science:\"))\n",
    "print(\"Science Marks are:\",sci_marks)\n",
    "sst_marks=float(input(\"Enter the marks obtained out of 100 for Social Studies:\"))\n",
    "print(\"Social Studies Marks are:\",sst_marks)\n",
    "total=eng_marks+urdu_marks+math_marks+sci_marks+sst_marks\n",
    "percent=total/5\n",
    "print(\"The total marks obtained for five subjects are:\",total,\"and the percentage is:\",percent)"
   ]
  },
  {
   "cell_type": "code",
   "execution_count": 17,
   "id": "fbfb2a76-269b-4797-9f46-f38f413b3ddc",
   "metadata": {},
   "outputs": [
    {
     "name": "stdout",
     "output_type": "stream",
     "text": [
      "***********************\n",
      "********profile********\n",
      "Name: Aliza Hashmi\n",
      "Gender: Female\n",
      "Age: 30\n",
      "Designation: CEO\n",
      "Education: Engineer\n",
      "Organization: NEDUET\n"
     ]
    }
   ],
   "source": [
    "\"\"\"Class Task\"\"\"\n",
    "\"\"\"Make a profile of yourself\"\"\"\n",
    "\n",
    "print(\"***********************\")\n",
    "print(\"********profile********\")\n",
    "name=\"Aliza Hashmi\"\n",
    "print(\"Name:\",name)\n",
    "gender=\"Female\"\n",
    "print(\"Gender:\",gender)\n",
    "age=30\n",
    "print(\"Age:\",age)\n",
    "designation=\"CEO\"\n",
    "print(\"Designation:\",designation)\n",
    "edu=\"Engineer\"\n",
    "print(\"Education:\",edu)\n",
    "org=\"NEDUET\"\n",
    "print(\"Organization:\",org)"
   ]
  },
  {
   "cell_type": "code",
   "execution_count": null,
   "id": "b9a1713b-4613-4ec4-83a7-5900c2e1f59b",
   "metadata": {},
   "outputs": [],
   "source": []
  }
 ],
 "metadata": {
  "kernelspec": {
   "display_name": "Python 3 (ipykernel)",
   "language": "python",
   "name": "python3"
  },
  "language_info": {
   "codemirror_mode": {
    "name": "ipython",
    "version": 3
   },
   "file_extension": ".py",
   "mimetype": "text/x-python",
   "name": "python",
   "nbconvert_exporter": "python",
   "pygments_lexer": "ipython3",
   "version": "3.12.4"
  }
 },
 "nbformat": 4,
 "nbformat_minor": 5
}

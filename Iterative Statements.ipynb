{
 "cells": [
  {
   "cell_type": "code",
   "execution_count": 22,
   "id": "8e97561c-3bb3-459f-a219-bd3ad2699f75",
   "metadata": {},
   "outputs": [
    {
     "name": "stdin",
     "output_type": "stream",
     "text": [
      "Guess the Number 25\n"
     ]
    },
    {
     "name": "stdout",
     "output_type": "stream",
     "text": [
      "Guess Higher\n"
     ]
    },
    {
     "name": "stdin",
     "output_type": "stream",
     "text": [
      "Guess the number: 69\n"
     ]
    },
    {
     "name": "stdout",
     "output_type": "stream",
     "text": [
      "Guess Lower\n"
     ]
    },
    {
     "name": "stdin",
     "output_type": "stream",
     "text": [
      "Guess the number: 52\n"
     ]
    },
    {
     "name": "stdout",
     "output_type": "stream",
     "text": [
      "Guess Lower\n"
     ]
    },
    {
     "name": "stdin",
     "output_type": "stream",
     "text": [
      "Guess the number: 45\n"
     ]
    },
    {
     "name": "stdout",
     "output_type": "stream",
     "text": [
      "Guess Higher\n"
     ]
    },
    {
     "name": "stdin",
     "output_type": "stream",
     "text": [
      "Guess the number: 50\n"
     ]
    },
    {
     "name": "stdout",
     "output_type": "stream",
     "text": [
      "Guess Lower\n"
     ]
    },
    {
     "name": "stdin",
     "output_type": "stream",
     "text": [
      "Guess the number: 48\n"
     ]
    },
    {
     "name": "stdout",
     "output_type": "stream",
     "text": [
      "Guess Lower\n"
     ]
    },
    {
     "name": "stdin",
     "output_type": "stream",
     "text": [
      "Guess the number: 47\n"
     ]
    },
    {
     "name": "stdout",
     "output_type": "stream",
     "text": [
      "Guess Lower\n"
     ]
    },
    {
     "name": "stdin",
     "output_type": "stream",
     "text": [
      "Guess the number: 46\n"
     ]
    },
    {
     "name": "stdout",
     "output_type": "stream",
     "text": [
      "Correct Guess\n",
      "Number of turns taken by user 8\n"
     ]
    }
   ],
   "source": [
    "# Guess game\n",
    "import random\n",
    "jackpot = random.randint(1,100)\n",
    "guess_num = int(input('Guess the Number'))\n",
    "counter=1\n",
    "while guess_num!=jackpot:\n",
    "     if guess_num<jackpot:\n",
    "        print('Guess Higher')\n",
    "     else:\n",
    "        print('Guess Lower')\n",
    "     guess_num=int(input('Guess the number:'))\n",
    "     counter=counter+1\n",
    "\n",
    "else:\n",
    "    print('Correct Guess')\n",
    "    print('Number of turns taken by user',counter)\n",
    "    \n",
    "    "
   ]
  },
  {
   "cell_type": "markdown",
   "id": "cccad094-15b8-4338-aa8a-be8ed1251aa6",
   "metadata": {
    "jp-MarkdownHeadingCollapsed": true
   },
   "source": [
    "## For Loop"
   ]
  },
  {
   "cell_type": "code",
   "execution_count": 31,
   "id": "c145f238-bc4f-4dd3-aede-f66b50df68e4",
   "metadata": {},
   "outputs": [
    {
     "name": "stdout",
     "output_type": "stream",
     "text": [
      "1\n",
      "2\n",
      "3\n",
      "4\n",
      "5\n",
      "6\n",
      "7\n",
      "8\n",
      "9\n"
     ]
    }
   ],
   "source": [
    "for num in range(1,10):\n",
    "    print(num)"
   ]
  },
  {
   "cell_type": "code",
   "execution_count": 29,
   "id": "d52bb0bc-e972-4818-9592-9373ad2b3cac",
   "metadata": {},
   "outputs": [
    {
     "name": "stdout",
     "output_type": "stream",
     "text": [
      "1\n",
      "3\n",
      "5\n",
      "7\n",
      "9\n"
     ]
    }
   ],
   "source": [
    "# 2 in the bracket tells the step \n",
    "for num in range(1,10,2):  \n",
    "    print(num)"
   ]
  },
  {
   "cell_type": "code",
   "execution_count": null,
   "id": "c05b0c75-b653-4f56-b15c-66c175418b4a",
   "metadata": {},
   "outputs": [],
   "source": [
    "# for loop works on list,set,tuple"
   ]
  },
  {
   "cell_type": "code",
   "execution_count": 35,
   "id": "820e130c-a370-44d4-b36e-d6654a307793",
   "metadata": {},
   "outputs": [
    {
     "name": "stdout",
     "output_type": "stream",
     "text": [
      "Apple\n",
      "cherry\n",
      "Banana\n"
     ]
    }
   ],
   "source": [
    "fruits =['Apple','cherry','Banana']\n",
    "\n",
    "for num in fruits:\n",
    "    print(num)"
   ]
  },
  {
   "cell_type": "code",
   "execution_count": 37,
   "id": "d1a466be-1a83-4bba-bfb7-6e392726a1fb",
   "metadata": {},
   "outputs": [
    {
     "name": "stdout",
     "output_type": "stream",
     "text": [
      "A\n",
      "h\n",
      "m\n",
      "e\n",
      "d\n"
     ]
    }
   ],
   "source": [
    "name = 'Ahmed'\n",
    "for num in name:\n",
    "    print(num)"
   ]
  },
  {
   "cell_type": "code",
   "execution_count": 49,
   "id": "9137184a-f83d-4876-b9b7-7bf4b260d65a",
   "metadata": {},
   "outputs": [
    {
     "name": "stdout",
     "output_type": "stream",
     "text": [
      "('name', 'Sumaiya')\n",
      "('Age', 29)\n",
      "('Gender', 'Female')\n"
     ]
    }
   ],
   "source": [
    "d = {'name':'Sumaiya','Age':29,'Gender':'Female'}\n",
    "for item in d.items():\n",
    "    print(item)"
   ]
  },
  {
   "cell_type": "code",
   "execution_count": 53,
   "id": "e4d5564b-14c9-4bda-88e1-3e19aad50fca",
   "metadata": {},
   "outputs": [
    {
     "name": "stdout",
     "output_type": "stream",
     "text": [
      "name Sumaiya\n",
      "Age 29\n",
      "Gender Female\n"
     ]
    }
   ],
   "source": [
    "d = {'name':'Sumaiya','Age':29,'Gender':'Female'}\n",
    "for item in d:\n",
    "    print(item,d[item])"
   ]
  },
  {
   "cell_type": "code",
   "execution_count": 61,
   "id": "0f5195d8-8c6b-4381-b65e-44890ae8deeb",
   "metadata": {},
   "outputs": [
    {
     "name": "stdout",
     "output_type": "stream",
     "text": [
      "10 Years Ago: 10000\n",
      "9 Years Ago: 9091\n",
      "8 Years Ago: 8265\n",
      "7 Years Ago: 7514\n",
      "6 Years Ago: 6831\n",
      "5 Years Ago: 6210\n",
      "4 Years Ago: 5645\n",
      "3 Years Ago: 5132\n",
      "2 Years Ago: 4665\n",
      "1 Years Ago: 4241\n"
     ]
    }
   ],
   "source": [
    "#Program- The current population of a town is 10000. The population of the town is increasing at the rate of10% per year.\n",
    "# you have to write a program to find out the population at the end of each of the last 10 years.\n",
    "\n",
    "\n",
    "curr_pop = 10000\n",
    "\n",
    "for year in range(10,0,-1):\n",
    "    print(year,'Years Ago:',curr_pop)\n",
    "    curr_pop = round(curr_pop/1.1)\n"
   ]
  },
  {
   "cell_type": "markdown",
   "id": "70d20aee-a7d8-479b-8dda-2e1eb66cb396",
   "metadata": {},
   "source": [
    "## Nested Loop"
   ]
  },
  {
   "cell_type": "code",
   "execution_count": 68,
   "id": "fc45b750-822c-42a0-aa10-984c42546c96",
   "metadata": {},
   "outputs": [
    {
     "name": "stdout",
     "output_type": "stream",
     "text": [
      "1 1\n",
      "1 2\n",
      "1 3\n",
      "1 4\n",
      "2 1\n",
      "2 2\n",
      "2 3\n",
      "2 4\n",
      "3 1\n",
      "3 2\n",
      "3 3\n",
      "3 4\n",
      "4 1\n",
      "4 2\n",
      "4 3\n",
      "4 4\n"
     ]
    }
   ],
   "source": [
    "#11\n",
    "#12\n",
    "#13\n",
    "for i in range(1,5):\n",
    "    for j in range(1,5):\n",
    "        print(i,j)\n"
   ]
  },
  {
   "cell_type": "code",
   "execution_count": 70,
   "id": "d2d8edd6-5524-4436-b31a-3eb1d11f57f9",
   "metadata": {},
   "outputs": [
    {
     "name": "stdout",
     "output_type": "stream",
     "text": [
      "1 1\n",
      "1 2\n",
      "1 3\n",
      "1 4\n",
      "2 1\n",
      "2 2\n",
      "2 3\n",
      "2 4\n"
     ]
    }
   ],
   "source": [
    "for i in range(1,3):\n",
    "    for j in range(1,5):\n",
    "        print(i,j)"
   ]
  },
  {
   "cell_type": "code",
   "execution_count": 102,
   "id": "be6b9521-7395-4d41-b23c-abd81907d582",
   "metadata": {},
   "outputs": [
    {
     "name": "stdin",
     "output_type": "stream",
     "text": [
      "Enter number of rows for pattern: 10\n"
     ]
    },
    {
     "name": "stdout",
     "output_type": "stream",
     "text": [
      "*\n",
      "**\n",
      "***\n",
      "****\n",
      "*****\n",
      "******\n",
      "*******\n",
      "********\n",
      "*********\n",
      "**********\n"
     ]
    }
   ],
   "source": [
    "# Pattern 1\n",
    "# *\n",
    "# **\n",
    "# ***\n",
    "# ****\n",
    "\n",
    "rows = int(input('Enter number of rows for pattern:'))\n",
    "for i in range(1,rows+1):\n",
    "    for j in range(1,i+1):\n",
    "        print('*',end='')  # end is a method which makes it print liks a pattern\n",
    "\n",
    "    print()\n",
    "    \n"
   ]
  },
  {
   "cell_type": "code",
   "execution_count": 86,
   "id": "91b689c6-b602-430a-bfc7-1e97bc441180",
   "metadata": {},
   "outputs": [
    {
     "name": "stdout",
     "output_type": "stream",
     "text": [
      "today is sundaylearning python\n"
     ]
    }
   ],
   "source": [
    "print('today is sunday',end='')\n",
    "print('learning python')"
   ]
  },
  {
   "cell_type": "code",
   "execution_count": 88,
   "id": "2e9f700c-8bf1-48ef-ac59-69dba8112331",
   "metadata": {},
   "outputs": [
    {
     "name": "stdout",
     "output_type": "stream",
     "text": [
      "today is sunday&learning python\n"
     ]
    }
   ],
   "source": [
    "print('today is sunday',end='&')\n",
    "print('learning python')"
   ]
  },
  {
   "cell_type": "code",
   "execution_count": 90,
   "id": "d76a04ac-25f7-4931-b75a-8620f4b96691",
   "metadata": {},
   "outputs": [
    {
     "name": "stdout",
     "output_type": "stream",
     "text": [
      "today is sunday learning python\n"
     ]
    }
   ],
   "source": [
    "print('today is sunday',end=' ')\n",
    "print('learning python')"
   ]
  },
  {
   "cell_type": "code",
   "execution_count": 94,
   "id": "8a30294f-062d-4788-ade9-64934ab6b849",
   "metadata": {},
   "outputs": [
    {
     "name": "stdout",
     "output_type": "stream",
     "text": [
      "today is sunday\n",
      "learning python\n"
     ]
    }
   ],
   "source": [
    "print('today is sunday',end='')\n",
    "print()\n",
    "print('learning python')"
   ]
  },
  {
   "cell_type": "code",
   "execution_count": 120,
   "id": "694452ac-987b-4eb6-92d5-21d75b06a906",
   "metadata": {},
   "outputs": [
    {
     "name": "stdin",
     "output_type": "stream",
     "text": [
      "Enter number of rows for pattern: 4\n"
     ]
    },
    {
     "name": "stdout",
     "output_type": "stream",
     "text": [
      "*****\n",
      "****\n",
      "***\n",
      "**\n"
     ]
    }
   ],
   "source": [
    "rows = int(input('Enter number of rows for pattern:'))\n",
    "for i in range(rows+1,1,-1):\n",
    "    for j in range(i+1,1,-1):\n",
    "        print('*',end='')  # end is a method which makes it print liks a pattern\n",
    "\n",
    "    print()"
   ]
  },
  {
   "cell_type": "code",
   "execution_count": null,
   "id": "5799f216-4d30-4200-9a79-32591e4e41b3",
   "metadata": {},
   "outputs": [],
   "source": []
  }
 ],
 "metadata": {
  "kernelspec": {
   "display_name": "Python 3 (ipykernel)",
   "language": "python",
   "name": "python3"
  },
  "language_info": {
   "codemirror_mode": {
    "name": "ipython",
    "version": 3
   },
   "file_extension": ".py",
   "mimetype": "text/x-python",
   "name": "python",
   "nbconvert_exporter": "python",
   "pygments_lexer": "ipython3",
   "version": "3.12.4"
  }
 },
 "nbformat": 4,
 "nbformat_minor": 5
}
